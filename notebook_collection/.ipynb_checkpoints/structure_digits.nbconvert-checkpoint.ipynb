{
 "cells": [
  {
   "cell_type": "markdown",
   "metadata": {},
   "source": [
    "# Intrinsic structure of the Western-Arabic numerals scriptures\n",
    "\n",
    "Using scikit-learn Spectral clustering."
   ]
  },
  {
   "cell_type": "code",
   "execution_count": 22,
   "metadata": {
    "collapsed": true,
    "jupyter": {
     "outputs_hidden": true
    },
    "persistent_id": "62c36eda-d71b-40f9-81ee-94bac074bd0c"
   },
   "outputs": [],
   "source": [
    "import numpy as np\n",
    "import pylab as pl"
   ]
  },
  {
   "cell_type": "markdown",
   "metadata": {},
   "source": [
    "## Load the digits dataset and plot the first elements"
   ]
  },
  {
   "cell_type": "markdown",
   "metadata": {},
   "source": [
    "Small utility function to display a gallery of images:"
   ]
  },
  {
   "cell_type": "code",
   "execution_count": 23,
   "metadata": {
    "collapsed": true,
    "jupyter": {
     "outputs_hidden": true
    }
   },
   "outputs": [],
   "source": [
    "def plot_images(images):\n",
    "    pl.gray()\n",
    "    pl.figure()\n",
    "    for i, img in enumerate(images[:25]):\n",
    "        pl.subplot(5, 5, i)\n",
    "        pl.imshow(img, interpolation=\"nearest\")\n",
    "        pl.xticks(())\n",
    "        pl.yticks(())\n",
    "    "
   ]
  },
  {
   "cell_type": "markdown",
   "metadata": {},
   "source": [
    "Lest load the digits dataset that comes with scikit learn (as a CSV file with gray level pixel values. Let's shuffle the dataset to make shure that the algorithm cannot exploit any ordering information. "
   ]
  },
  {
   "cell_type": "code",
   "execution_count": 24,
   "metadata": {
    "collapsed": true,
    "jupyter": {
     "outputs_hidden": true
    }
   },
   "outputs": [],
   "source": [
    "from sklearn import datasets\n",
    "from sklearn.utils import shuffle\n",
    "\n",
    "digits = datasets.load_digits()\n",
    "images, data, target = shuffle(\n",
    "    digits.images, digits.data, digits.target)\n",
    "\n",
    "plot_images(images)\n"
   ]
  },
  {
   "cell_type": "markdown",
   "metadata": {},
   "source": [
    "## Group the pictures in 10 groups using Spectral Clustering"
   ]
  },
  {
   "cell_type": "code",
   "execution_count": 25,
   "metadata": {
    "collapsed": true,
    "jupyter": {
     "outputs_hidden": true
    }
   },
   "outputs": [],
   "source": [
    "from sklearn import cluster, neighbors\n",
    "\n",
    "n_clusters = 10\n",
    "S = neighbors.kneighbors_graph(data, 10)\n",
    "sc = cluster.SpectralClustering(n_clusters, mode='arpack', n_init=50)\n",
    "sc.fit(S)\n",
    "sc.labels_"
   ]
  },
  {
   "cell_type": "code",
   "execution_count": 26,
   "metadata": {
    "collapsed": true,
    "jupyter": {
     "outputs_hidden": true
    }
   },
   "outputs": [],
   "source": [
    "for i in range(n_clusters):\n",
    "    plot_images(images[sc.labels_ == i])"
   ]
  },
  {
   "cell_type": "markdown",
   "metadata": {},
   "source": [
    "\n",
    "## Profiling clustering algorithm\n",
    "\n",
    "The following will runt the `cProfile` tool from the Python stdlib and display the output in a paged, tiled panel."
   ]
  },
  {
   "cell_type": "code",
   "execution_count": 27,
   "metadata": {
    "collapsed": true,
    "jupyter": {
     "outputs_hidden": true
    }
   },
   "outputs": [],
   "source": [
    "%prun cluster.SpectralClustering(10, mode='arpack').fit(S)"
   ]
  },
  {
   "cell_type": "markdown",
   "metadata": {},
   "source": [
    "## Supervised learning: learning to classify digits"
   ]
  },
  {
   "cell_type": "code",
   "execution_count": 28,
   "metadata": {
    "collapsed": true,
    "jupyter": {
     "outputs_hidden": true
    },
    "persistent_id": "2d46fb98-0397-4187-b18a-5a2c51a29bb5"
   },
   "outputs": [],
   "source": [
    "from sklearn import svm, metrics\n",
    "X_train, y_train, X_test, y_test = data[:500], target[:500], data[500:], target[500:]\n",
    "\n",
    "clf = svm.SVC(gamma=0.001).fit(X_train, y_train)\n",
    "\n",
    "print(metrics.classification_report(y_test, clf.predict(X_test)))"
   ]
  },
  {
   "cell_type": "code",
   "execution_count": 29,
   "metadata": {
    "collapsed": true,
    "jupyter": {
     "outputs_hidden": true
    },
    "persistent_id": "8edf141c-db89-4b61-9355-9052a7ab0cc2"
   },
   "outputs": [],
   "source": [
    "cm = metrics.confusion_matrix(target[500:], clf.predict(data[500:]))\n",
    "print(cm)"
   ]
  },
  {
   "cell_type": "code",
   "execution_count": 30,
   "metadata": {
    "collapsed": true,
    "jupyter": {
     "outputs_hidden": true
    }
   },
   "outputs": [],
   "source": [
    "pl.imshow(cm)"
   ]
  }
 ],
 "metadata": {
  "history": [],
  "kernelspec": {
   "display_name": "Python 3",
   "language": "python",
   "name": "python3"
  },
  "language_info": {
   "codemirror_mode": {
    "name": "ipython",
    "version": 3
   },
   "file_extension": ".py",
   "mimetype": "text/x-python",
   "name": "python",
   "nbconvert_exporter": "python",
   "pygments_lexer": "ipython3",
   "version": "3.7.4"
  },
  "uuid": "f3a775fa-c14a-4435-86ef-00a847de6ed9"
 },
 "nbformat": 4,
 "nbformat_minor": 4
}
