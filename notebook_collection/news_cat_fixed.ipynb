{
 "cells": [
  {
   "cell_type": "markdown",
   "metadata": {},
   "source": [
    "# News Categorization using Multinomial Naive Bayes\n",
    "## by [Andrés Soto](https://www.linkedin.com/in/andres-soto-villaverde-36198a5/)"
   ]
  },
  {
   "cell_type": "markdown",
   "metadata": {},
   "source": [
    "Once upon a time, while searching by internet, I discovered [this site](https://www.kaggle.com/uciml/news-aggregator-dataset), where I found this challenge: \n",
    "* Using the News Aggregator Data Set, can we predict the category (business, entertainment, etc.) of a news article given only its headline? \n",
    "So I decided to try to do it using the Multinomial Naive Bayes method."
   ]
  },
  {
   "cell_type": "markdown",
   "metadata": {},
   "source": [
    "The News Aggregator Data Set comes from the UCI Machine Learning Repository. "
   ]
  },
  {
   "cell_type": "markdown",
   "metadata": {},
   "source": [
    "* Lichman, M. (2013). [UCI Machine Learning Repository](http://archive.ics.uci.edu/ml). Irvine, CA: University of California, School of Information and Computer Science. "
   ]
  },
  {
   "cell_type": "markdown",
   "metadata": {},
   "source": [
    "This specific dataset can be found in the UCI ML Repository at [this URL](http://archive.ics.uci.edu/ml/datasets/News+Aggregator)."
   ]
  },
  {
   "cell_type": "markdown",
   "metadata": {},
   "source": [
    "This dataset contains headlines, URLs, and categories for 422,937 news stories collected by a web aggregator between March 10th, 2014 and August 10th, 2014. News categories in this dataset are labelled:"
   ]
  },
  {
   "cell_type": "markdown",
   "metadata": {},
   "source": [
    "Label  |  Category\t| News \n",
    "-------|------------|----------\n",
    "b\t|  business\t|  <div style=\"text-align: right\"> 115967 </div>\n",
    "t\t|  science and technology\t|  <div style=\"text-align: right\"> 108344 </div> \n",
    "e\t| entertainment\t|  <div style=\"text-align: right\"> 152469 </div>\n",
    "m\t|  health\t|  <div style=\"text-align: right\"> 45639 </div> "
   ]
  },
  {
   "cell_type": "markdown",
   "metadata": {},
   "source": [
    "Multinomial Naive Bayes method will be used to predict the category (business, entertainment, etc.) of a news article given only its headline. The paper is divided in four sections. The first section is dedicated to importing the data set and getting some preliminary information about it. Second section explains how to divide data in two sets: the training set and the test set. Section number 3 is about training and testing the classification algorithm and obtaining results. Results analysis constitute the last section. "
   ]
  },
  {
   "cell_type": "markdown",
   "metadata": {},
   "source": [
    "## Import data"
   ]
  },
  {
   "cell_type": "markdown",
   "metadata": {},
   "source": [
    "To import the data from the CSV file, we will use [Pandas library](http://pandas.pydata.org/) which also offers data structures and operations for manipulating data tables. Therefore, we need to import Pandas library. "
   ]
  },
  {
   "cell_type": "markdown",
   "metadata": {},
   "source": [
    "To embed plots inside the Notebook, we use the \"%matplotlib inline\" [magic command](http://ipython.readthedocs.io/en/stable/interactive/magics.html#)."
   ]
  },
  {
   "cell_type": "code",
   "execution_count": 6,
   "metadata": {
    "collapsed": false,
    "execution_event_id": "d3ef5b1a-ca58-48f5-88c6-d245ab8e41cf",
    "jupyter": {
     "outputs_hidden": false
    },
    "last_executed_text": "import pandas as pd ",
    "persistent_id": "6809247c-e57e-44d1-9517-bd0de4f314fc"
   },
   "outputs": [],
   "source": [
    "import pandas as pd "
   ]
  },
  {
   "cell_type": "markdown",
   "metadata": {},
   "source": [
    "Now, we have to initialize some variables that will be used. They will be used to collect the news titles, its categories, as well as a list of the different possible categories (without repetitions)."
   ]
  },
  {
   "cell_type": "code",
   "execution_count": 7,
   "metadata": {
    "execution_event_id": "ef582b18-81c8-4c29-bdc8-29df4aa5c43c",
    "last_executed_text": "nlabels = 4 # number of different categories\nlnews = [] # list of dictionaries with two fields: one for the news and \n            # the other for its category",
    "persistent_id": "b7b06fa8-1beb-4b02-aa18-76d4c6c796e8"
   },
   "outputs": [],
   "source": [
    "nlabels = 4 # number of different categories\n",
    "lnews = [] # list of dictionaries with two fields: one for the news and \n",
    "            # the other for its category"
   ]
  },
  {
   "cell_type": "markdown",
   "metadata": {},
   "source": [
    "The code for this section will be organized in two functions: one which imports the data and the other which counts the news in each category, its percentage and plots it. "
   ]
  },
  {
   "cell_type": "code",
   "execution_count": 8,
   "metadata": {
    "collapsed": false,
    "execution_event_id": "57a99f88-3b29-4512-a912-4bb53e73da6b",
    "jupyter": {
     "outputs_hidden": false
    },
    "last_executed_text": "def import_data():\n    # importing news aggregator data via Pandas (Python Data Analysis Library)\n    news = pd.read_csv(\"uci-news-aggregator.csv\")\n    # function 'head' shows the first 5 items in a column (or\n    # the first 5 rows in the DataFrame)\n    print(news.head())\n    categories = news['CATEGORY']\n    titles = news['TITLE']\n    labels = sorted(list(set(categories)))\n    return (categories, titles, labels)",
    "persistent_id": "56086ab7-c222-466e-8dc4-1eb5a960d403"
   },
   "outputs": [],
   "source": [
    "def import_data():\n",
    "    # importing news aggregator data via Pandas (Python Data Analysis Library)\n",
    "    news = pd.read_csv(\"uci-news-aggregator.csv\")\n",
    "    # function 'head' shows the first 5 items in a column (or\n",
    "    # the first 5 rows in the DataFrame)\n",
    "    print(news.head())\n",
    "    categories = news['CATEGORY']\n",
    "    titles = news['TITLE']\n",
    "    labels = sorted(list(set(categories)))\n",
    "    return (categories, titles, labels)"
   ]
  },
  {
   "cell_type": "code",
   "execution_count": 9,
   "metadata": {
    "collapsed": false,
    "execution_event_id": "33e791cc-4c27-4c50-b99a-c1c046bc8dd7",
    "jupyter": {
     "outputs_hidden": false
    },
    "last_executed_text": "categories, titles, labels = import_data()",
    "persistent_id": "8b2dc817-d07d-421a-889d-fa6a7776f28b"
   },
   "outputs": [
    {
     "name": "stdout",
     "output_type": "stream",
     "text": [
      "   ID                                              TITLE  \\\n",
      "0   1  Fed official says weak data caused by weather,...   \n",
      "1   2  Fed's Charles Plosser sees high bar for change...   \n",
      "2   3  US open: Stocks fall after Fed official hints ...   \n",
      "3   4  Fed risks falling 'behind the curve', Charles ...   \n",
      "4   5  Fed's Plosser: Nasty Weather Has Curbed Job Gr...   \n",
      "\n",
      "                                                 URL          PUBLISHER  \\\n",
      "0  http://www.latimes.com/business/money/la-fi-mo...  Los Angeles Times   \n",
      "1  http://www.livemint.com/Politics/H2EvwJSK2VE6O...           Livemint   \n",
      "2  http://www.ifamagazine.com/news/us-open-stocks...       IFA Magazine   \n",
      "3  http://www.ifamagazine.com/news/fed-risks-fall...       IFA Magazine   \n",
      "4  http://www.moneynews.com/Economy/federal-reser...          Moneynews   \n",
      "\n",
      "  CATEGORY                          STORY             HOSTNAME      TIMESTAMP  \n",
      "0        b  ddUyU0VZz0BRneMioxUPQVP6sIxvM      www.latimes.com  1394470370698  \n",
      "1        b  ddUyU0VZz0BRneMioxUPQVP6sIxvM     www.livemint.com  1394470371207  \n",
      "2        b  ddUyU0VZz0BRneMioxUPQVP6sIxvM  www.ifamagazine.com  1394470371550  \n",
      "3        b  ddUyU0VZz0BRneMioxUPQVP6sIxvM  www.ifamagazine.com  1394470371793  \n",
      "4        b  ddUyU0VZz0BRneMioxUPQVP6sIxvM    www.moneynews.com  1394470372027  \n"
     ]
    }
   ],
   "source": [
    "categories, titles, labels = import_data()"
   ]
  },
  {
   "cell_type": "markdown",
   "metadata": {},
   "source": [
    "Let's analyze how many news we have from the different categories and its percentage. We will use the [class Counter](https://docs.python.org/3/library/collections.html#counter-objects) from the collections library, which keeps track of how many values contains a collection. Then we will tabulate the different categories and its percentage via a DataFrame."
   ]
  },
  {
   "cell_type": "code",
   "execution_count": 10,
   "metadata": {
    "collapsed": false,
    "execution_event_id": "087c04b1-bb5b-4448-b8e8-01f46e59a17a",
    "jupyter": {
     "outputs_hidden": false
    },
    "last_executed_text": "from collections import Counter\n\ndef count_data(labels,categories):    \n    c = Counter(categories)\n    cont = dict(c)\n    # total number of news\n    tot = sum(list(cont.values()))     \n    d = {\n        \"category\" : labels,\n        \"news\" : [cont[l] for l in labels],\n        \"percent\" : [cont[l]/tot for l in labels]\n    }\n   \n    print(pd.DataFrame(d))   \n    print(\"total \\t\",tot) \n    \n    return cont\n\ncont = count_data(labels,categories)",
    "persistent_id": "d6f87979-07c5-4184-a612-667d24514975"
   },
   "outputs": [
    {
     "name": "stdout",
     "output_type": "stream",
     "text": [
      "  category    news   percent\n",
      "0        b  115967  0.274531\n",
      "1        e  152469  0.360943\n",
      "2        m   45639  0.108042\n",
      "3        t  108344  0.256485\n",
      "total \t 422419\n"
     ]
    }
   ],
   "source": [
    "from collections import Counter\n",
    "\n",
    "def count_data(labels,categories):    \n",
    "    c = Counter(categories)\n",
    "    cont = dict(c)\n",
    "    # total number of news\n",
    "    tot = sum(list(cont.values()))     \n",
    "    d = {\n",
    "        \"category\" : labels,\n",
    "        \"news\" : [cont[l] for l in labels],\n",
    "        \"percent\" : [cont[l]/tot for l in labels]\n",
    "    }\n",
    "   \n",
    "    print(pd.DataFrame(d))   \n",
    "    print(\"total \\t\",tot) \n",
    "    \n",
    "    return cont\n",
    "\n",
    "cont = count_data(labels,categories)"
   ]
  },
  {
   "cell_type": "markdown",
   "metadata": {},
   "source": [
    "Let's show a [pie plot](http://scikit-learn.org/stable/auto_examples/model_selection/plot_confusion_matrix.html#sphx-glr-auto-examples-model-selection-plot-confusion-matrix-py) with the proportion of news by category."
   ]
  },
  {
   "cell_type": "code",
   "execution_count": 11,
   "metadata": {
    "collapsed": false,
    "execution_event_id": "d31a058c-d352-418e-8dfa-791897494c2c",
    "jupyter": {
     "outputs_hidden": false
    },
    "last_executed_text": "import pylab as pl # useful for drawing graphics\n\ndef categories_pie_plot(cont,tit):\n    sizes = [cont[l] for l in labels]\n    pl.pie(sizes, explode=(0, 0, 0, 0), labels=labels,\n        autopct='%1.1f%%', shadow=True, startangle=90)\n    pl.title(tit)\n    pl.show()\n    \ncategories_pie_plot(cont,\"Plotting categories\")",
    "persistent_id": "287dfc3f-c31e-4d55-8f6b-3f90ebcbe642"
   },
   "outputs": [
    {
     "data": {
      "image/png": "[encoded data removed]",
      "text/plain": [
       "<Figure size 432x288 with 1 Axes>"
      ]
     },
     "metadata": {},
     "output_type": "display_data"
    }
   ],
   "source": [
    "import pylab as pl # useful for drawing graphics\n",
    "\n",
    "def categories_pie_plot(cont,tit):\n",
    "    sizes = [cont[l] for l in labels]\n",
    "    pl.pie(sizes, explode=(0, 0, 0, 0), labels=labels,\n",
    "        autopct='%1.1f%%', shadow=True, startangle=90)\n",
    "    pl.title(tit)\n",
    "    pl.show()\n",
    "    \n",
    "categories_pie_plot(cont,\"Plotting categories\")"
   ]
  },
  {
   "cell_type": "markdown",
   "metadata": {},
   "source": [
    "As we can see, the entertainment (e) category is the biggest one, which is more than three times bigger than health (m) category. In second place we have business (b) and technology (t), which are more than two times bigger than health category."
   ]
  },
  {
   "cell_type": "markdown",
   "metadata": {},
   "source": [
    "## Splitting the data "
   ]
  },
  {
   "cell_type": "markdown",
   "metadata": {},
   "source": [
    "Now we should split our data into two sets:\n",
    "1. a training set (70%) used to discover potentially predictive relationships, and\n",
    "2. a test set (30%) used to evaluate whether the discovered relationships hold and to assess the strength and utility of a predictive relationship."
   ]
  },
  {
   "cell_type": "markdown",
   "metadata": {},
   "source": [
    "Before splitting it, the data should be first permuted. [Shuffle](http://scikit-learn.org/stable/modules/generated/sklearn.utils.shuffle.html) is a method included in scikit-learn library which allows to do random permutations of collections. Then data could be splitted into a pair of train and test sets."
   ]
  },
  {
   "cell_type": "code",
   "execution_count": 12,
   "metadata": {
    "execution_event_id": "ef356877-93bf-4772-ba9d-40c884c56851",
    "last_executed_text": "from sklearn.utils import shuffle # Shuffle arrays in a consistent way\n\ndef split_data(labels, categories, titles):\n    N = len(titles)\n    Ntrain = int(N * 0.7)    \n    # Let's shuffle the data\n    titles, categories = shuffle(titles, categories, random_state=0)\n    X_train = titles[:Ntrain]\n    y_train = categories[:Ntrain]\n    X_test = titles[Ntrain:]\n    y_test = categories[Ntrain:]\n    return (X_train, y_train, X_test, y_test)",
    "persistent_id": "20f266ea-dd69-4f0b-91d5-79055513c30b"
   },
   "outputs": [],
   "source": [
    "from sklearn.utils import shuffle # Shuffle arrays in a consistent way\n",
    "\n",
    "def split_data(labels, categories, titles):\n",
    "    N = len(titles)\n",
    "    Ntrain = int(N * 0.7)    \n",
    "    # Let's shuffle the data\n",
    "    titles, categories = shuffle(titles, categories, random_state=0)\n",
    "    X_train = titles[:Ntrain]\n",
    "    y_train = categories[:Ntrain]\n",
    "    X_test = titles[Ntrain:]\n",
    "    y_test = categories[Ntrain:]\n",
    "    return (X_train, y_train, X_test, y_test)"
   ]
  },
  {
   "cell_type": "code",
   "execution_count": 13,
   "metadata": {
    "collapsed": false,
    "execution_event_id": "29113fd2-0847-4180-b65d-8d7a7f2723f7",
    "jupyter": {
     "outputs_hidden": false
    },
    "last_executed_text": "X_train, y_train, X_test, y_test = split_data(labels, categories,titles)",
    "persistent_id": "ec9aad8a-94dc-44ed-b4b2-8a6966200743"
   },
   "outputs": [],
   "source": [
    "X_train, y_train, X_test, y_test = split_data(labels, categories,titles)"
   ]
  },
  {
   "cell_type": "markdown",
   "metadata": {},
   "source": [
    "Time required to split data is 1.28 seconds. Now let's analyze the proportion of news categories in the training set."
   ]
  },
  {
   "cell_type": "code",
   "execution_count": 14,
   "metadata": {
    "collapsed": false,
    "execution_event_id": "546ccf85-e3a3-4fe1-b1a9-9e2d0b8a69e3",
    "jupyter": {
     "outputs_hidden": false
    },
    "last_executed_text": "cont2 = count_data(labels,y_train)",
    "persistent_id": "b3e57bae-0724-4559-ad2b-096d8da6407a"
   },
   "outputs": [
    {
     "name": "stdout",
     "output_type": "stream",
     "text": [
      "  category    news   percent\n",
      "0        b   81238  0.274738\n",
      "1        e  106844  0.361334\n",
      "2        m   31930  0.107984\n",
      "3        t   75681  0.255945\n",
      "total \t 295693\n"
     ]
    }
   ],
   "source": [
    "cont2 = count_data(labels,y_train)"
   ]
  },
  {
   "cell_type": "markdown",
   "metadata": {},
   "source": [
    "Percentage are very much close to the ones obtained for the whole data set. "
   ]
  },
  {
   "cell_type": "code",
   "execution_count": 15,
   "metadata": {
    "collapsed": false,
    "execution_event_id": "73b53f49-dc11-4c60-b0db-fd5ed2764f68",
    "jupyter": {
     "outputs_hidden": false
    },
    "last_executed_text": "categories_pie_plot(cont2,\"Categories % in training set\")",
    "persistent_id": "b2875505-d640-47ce-b9a9-fc0521c15d86"
   },
   "outputs": [
    {
     "data": {
      "image/png": "[encoded data removed]",
      "text/plain": [
       "<Figure size 432x288 with 1 Axes>"
      ]
     },
     "metadata": {},
     "output_type": "display_data"
    }
   ],
   "source": [
    "categories_pie_plot(cont2,\"Categories % in training set\")"
   ]
  },
  {
   "cell_type": "markdown",
   "metadata": {},
   "source": [
    "## Train and test the classifier"
   ]
  },
  {
   "cell_type": "markdown",
   "metadata": {},
   "source": [
    "In order to train and test the classifier, the first step should be to tokenize and count the number of occurrence of each word that appears into the news'titles using for that [CountVectorizer class](http://scikit-learn.org/stable/modules/feature_extraction.html#common-vectorizer-usage). Each term found is assigned a unique integer index.\n",
    "Then the counters will be transformed to a TF-IDF representation using [TfidfTransformer class](http://scikit-learn.org/stable/modules/feature_extraction.html#tfidf-term-weighting). The last step creates the [Multinomial Naive Bayes classifier](http://scikit-learn.org/stable/modules/naive_bayes.html#multinomial-naive-bayes). \n",
    "In order to make the training process easier, scikit-learn provides a [Pipeline class](http://scikit-learn.org/stable/modules/pipeline.html) that behaves like a compound classifier. \n",
    "The [metrics module](http://scikit-learn.org/stable/modules/classes.html) allows to calculate score functions, performance metrics and pairwise metrics and distance computations. F1-score can be interpreted as a weighted average of the [precision and recall](https://en.wikipedia.org/wiki/Precision_and_recall)."
   ]
  },
  {
   "cell_type": "code",
   "execution_count": 16,
   "metadata": {
    "collapsed": false,
    "execution_event_id": "05467097-30f4-44c7-9e66-331409469cd7",
    "jupyter": {
     "outputs_hidden": false
    },
    "last_executed_text": "from sklearn.feature_extraction.text import CountVectorizer \nfrom sklearn.feature_extraction.text import TfidfTransformer \nfrom sklearn.naive_bayes import MultinomialNB, BernoulliNB, ComplementNB\n\nfrom sklearn.pipeline import Pipeline \nfrom sklearn import metrics \nimport numpy as np\nimport pprint\n\n# lmats = [] # list of confussion matrix \nnrows = nlabels\nncols = nlabels\n# conf_mat_sum = np.zeros((nrows, ncols))\n# f1_acum = [] # list of f1-score\n\ndef train_test():\n    text_clf = Pipeline([('vect', CountVectorizer()),\n                         ('tfidf', TfidfTransformer()),\n                         ('clf', MultinomialNB()),\n                         ])\n    text_clf = text_clf.fit(X_train, y_train)\n    predicted = text_clf.predict(X_test)\n    return predicted",
    "persistent_id": "05375fb1-c292-40b5-ae27-4535625bc49a"
   },
   "outputs": [],
   "source": [
    "from sklearn.feature_extraction.text import CountVectorizer \n",
    "from sklearn.feature_extraction.text import TfidfTransformer \n",
    "from sklearn.naive_bayes import MultinomialNB, BernoulliNB, ComplementNB\n",
    "\n",
    "from sklearn.pipeline import Pipeline \n",
    "from sklearn import metrics \n",
    "import numpy as np\n",
    "import pprint\n",
    "\n",
    "# lmats = [] # list of confussion matrix \n",
    "nrows = nlabels\n",
    "ncols = nlabels\n",
    "# conf_mat_sum = np.zeros((nrows, ncols))\n",
    "# f1_acum = [] # list of f1-score\n",
    "\n",
    "def train_test():\n",
    "    text_clf = Pipeline([('vect', CountVectorizer()),\n",
    "                         ('tfidf', TfidfTransformer()),\n",
    "                         ('clf', MultinomialNB()),\n",
    "                         ])\n",
    "    text_clf = text_clf.fit(X_train, y_train)\n",
    "    predicted = text_clf.predict(X_test)\n",
    "    return predicted"
   ]
  },
  {
   "cell_type": "code",
   "execution_count": 17,
   "metadata": {
    "execution_event_id": "25044135-f910-44f6-9122-1c2937f35817",
    "last_executed_text": "predicted = train_test()",
    "persistent_id": "1fa38fa4-768f-4355-9182-7f67b4d89dee"
   },
   "outputs": [],
   "source": [
    "predicted = train_test()"
   ]
  },
  {
   "cell_type": "markdown",
   "metadata": {},
   "source": [
    "To compare the predicted labels to the corresponding set of true labels we will use the [method accuracy_score from scikit-learn](http://scikit-learn.org/stable/modules/generated/sklearn.metrics.accuracy_score.html), which gives an accuracy over 0.92"
   ]
  },
  {
   "cell_type": "code",
   "execution_count": 18,
   "metadata": {
    "collapsed": false,
    "execution_event_id": "2e283d61-2652-4d86-91a3-138da54e7bf7",
    "jupyter": {
     "outputs_hidden": false
    },
    "last_executed_text": "metrics.accuracy_score(y_test, predicted)",
    "persistent_id": "9a8422b7-d4fd-41c9-bb85-3468b9e82b0d"
   },
   "outputs": [
    {
     "data": {
      "text/plain": [
       "0.9238041128103152"
      ]
     },
     "execution_count": 18,
     "metadata": {},
     "output_type": "execute_result"
    }
   ],
   "source": [
    "metrics.accuracy_score(y_test, predicted)"
   ]
  },
  {
   "cell_type": "markdown",
   "metadata": {},
   "source": [
    "To show the main classification metrics we will use the [classification_report method](http://scikit-learn.org/stable/modules/generated/sklearn.metrics.classification_report.html) from scikit-learn."
   ]
  },
  {
   "cell_type": "code",
   "execution_count": 19,
   "metadata": {
    "collapsed": false,
    "execution_event_id": "135c52f5-1b7b-474d-a4a2-9aba60a684da",
    "jupyter": {
     "outputs_hidden": false
    },
    "last_executed_text": "print(metrics.classification_report(y_test, predicted, target_names=labels))",
    "persistent_id": "ce4e5605-1f59-4bbc-ab63-25c61e2fd982"
   },
   "outputs": [
    {
     "name": "stdout",
     "output_type": "stream",
     "text": [
      "              precision    recall  f1-score   support\n",
      "\n",
      "           b       0.90      0.91      0.90     34729\n",
      "           e       0.95      0.97      0.96     45625\n",
      "           m       0.97      0.85      0.90     13709\n",
      "           t       0.90      0.90      0.90     32663\n",
      "\n",
      "    accuracy                           0.92    126726\n",
      "   macro avg       0.93      0.91      0.92    126726\n",
      "weighted avg       0.92      0.92      0.92    126726\n",
      "\n"
     ]
    }
   ],
   "source": [
    "print(metrics.classification_report(y_test, predicted, target_names=labels))"
   ]
  },
  {
   "cell_type": "markdown",
   "metadata": {},
   "source": [
    "We can see that, although the metrics (precision, recall and f1-score) in average give us 0.92, the results for category e (entertainment) are even better."
   ]
  },
  {
   "cell_type": "markdown",
   "metadata": {},
   "source": [
    "[Confusion matrix](http://scikit-learn.org/stable/auto_examples/model_selection/plot_confusion_matrix.html) allows to detect if a classification algorithm is confusing two or more classes if you have an unequal number of observations in each class as in this case. An ideal classifier with 100% accuracy would produce a pure diagonal matrix which would have all the points predicted in their correct class. In case of class imbalance, confusion matrix normalization by class support size (number of elements in each class) can be interesting in order to have a visual interpretation of which class is being misclassified."
   ]
  },
  {
   "cell_type": "code",
   "execution_count": 20,
   "metadata": {
    "collapsed": false,
    "execution_event_id": "4179bb80-0485-4476-b9f2-21106a36eaa6",
    "jupyter": {
     "outputs_hidden": false
    },
    "last_executed_text": "mat = metrics.confusion_matrix(y_test, predicted,labels=labels)\ncm = mat.astype('float') / mat.sum(axis=1)[:, np.newaxis]\ncm",
    "persistent_id": "1fa2ed7d-28f8-4ac5-9506-dc9a44059d36"
   },
   "outputs": [
    {
     "data": {
      "text/plain": [
       "array([[0.91004636, 0.02361139, 0.00552852, 0.06081373],\n",
       "       [0.01176986, 0.97192329, 0.00192877, 0.01437808],\n",
       "       [0.06200306, 0.06193012, 0.84601357, 0.03005325],\n",
       "       [0.06778312, 0.02510486, 0.00324526, 0.90386676]])"
      ]
     },
     "execution_count": 20,
     "metadata": {},
     "output_type": "execute_result"
    }
   ],
   "source": [
    "mat = metrics.confusion_matrix(y_test, predicted,labels=labels)\n",
    "cm = mat.astype('float') / mat.sum(axis=1)[:, np.newaxis]\n",
    "cm"
   ]
  },
  {
   "cell_type": "markdown",
   "metadata": {},
   "source": [
    "Let's print a plot for the confussion matrix."
   ]
  },
  {
   "cell_type": "code",
   "execution_count": 21,
   "metadata": {
    "execution_event_id": "b39d275b-d2ff-4578-9253-27cd11a0353b",
    "last_executed_text": "import itertools\nimport matplotlib.pyplot as plt\n\ndef plot_confusion_matrix(cm, classes,\n                          title='Confusion matrix',\n                          cmap=plt.cm.Blues):\n    \"\"\"\n    This function prints and plots the confusion matrix.\n    \"\"\"\n    plt.imshow(cm, interpolation='nearest', cmap=cmap)\n    plt.title(title)\n    plt.colorbar()\n    tick_marks = np.arange(len(classes))\n    plt.xticks(tick_marks, classes, rotation=45)\n    plt.yticks(tick_marks, classes)\n\n    thresh = cm.max() / 2.\n    for i, j in itertools.product(range(cm.shape[0]), range(cm.shape[1])):\n        plt.text(j, i, '{:5.2f}'.format(cm[i, j]),\n                 horizontalalignment=\"center\",\n                 color=\"white\" if cm[i, j] > thresh else \"black\")\n\n    plt.tight_layout()\n    plt.ylabel('True label')\n    plt.xlabel('Predicted label')\n    plt.colorbar()\n    plt.show()",
    "persistent_id": "b05e946b-266c-4467-b55c-a28481e00958"
   },
   "outputs": [],
   "source": [
    "import itertools\n",
    "import matplotlib.pyplot as plt\n",
    "\n",
    "def plot_confusion_matrix(cm, classes,\n",
    "                          title='Confusion matrix',\n",
    "                          cmap=plt.cm.Blues):\n",
    "    \"\"\"\n",
    "    This function prints and plots the confusion matrix.\n",
    "    \"\"\"\n",
    "    plt.imshow(cm, interpolation='nearest', cmap=cmap)\n",
    "    plt.title(title)\n",
    "    plt.colorbar()\n",
    "    tick_marks = np.arange(len(classes))\n",
    "    plt.xticks(tick_marks, classes, rotation=45)\n",
    "    plt.yticks(tick_marks, classes)\n",
    "\n",
    "    thresh = cm.max() / 2.\n",
    "    for i, j in itertools.product(range(cm.shape[0]), range(cm.shape[1])):\n",
    "        plt.text(j, i, '{:5.2f}'.format(cm[i, j]),\n",
    "                 horizontalalignment=\"center\",\n",
    "                 color=\"white\" if cm[i, j] > thresh else \"black\")\n",
    "\n",
    "    plt.tight_layout()\n",
    "    plt.ylabel('True label')\n",
    "    plt.xlabel('Predicted label')\n",
    "    plt.colorbar()\n",
    "    plt.show()"
   ]
  },
  {
   "cell_type": "code",
   "execution_count": 22,
   "metadata": {
    "collapsed": false,
    "execution_event_id": "9ff878b3-8027-41a3-a18e-c2d140fb32ac",
    "jupyter": {
     "outputs_hidden": false
    },
    "last_executed_text": "plot_confusion_matrix(cm, labels, title='Confusion matrix')",
    "persistent_id": "44fbc64a-3039-4922-840e-61288a38a6f4"
   },
   "outputs": [
    {
     "data": {
      "image/png": "[encoded data removed]",
      "text/plain": [
       "<Figure size 432x288 with 3 Axes>"
      ]
     },
     "metadata": {
      "needs_background": "light"
     },
     "output_type": "display_data"
    }
   ],
   "source": [
    "plot_confusion_matrix(cm, labels, title='Confusion matrix')"
   ]
  },
  {
   "cell_type": "markdown",
   "metadata": {},
   "source": [
    "Confussion matrix columns represent the instances in a predicted class while rows represent the instances in an actual class. The diagonal elements represent the number of points for which the predicted label is equal to the true label, while off-diagonal elements are those that are mislabeled by the classifier. The higher the diagonal values of the confusion matrix the better, indicating many correct predictions."
   ]
  },
  {
   "cell_type": "markdown",
   "metadata": {},
   "source": [
    "Now, let's see the relation between [f1-score](http://scikit-learn.org/stable/modules/generated/sklearn.metrics.f1_score.html) and the percentage by category"
   ]
  },
  {
   "cell_type": "code",
   "execution_count": 23,
   "metadata": {
    "execution_event_id": "7598dd5e-c84b-49b3-a667-d4d3025a8d48",
    "last_executed_text": "def resume_data(labels,y_train,f1s):\n    c = Counter(y_train)\n    cont = dict(c)\n    tot = sum(list(cont.values()))\n    nlabels = len(labels)\n    d = {\n        \"category\" : [labels[i] for i in range(nlabels)],\n        \"percent\" : [cont[labels[i]]/tot for i in range(nlabels)],\n        \"f1-score\" : [f1s[i] for i in range(nlabels)]\n    }\n   \n    print(pd.DataFrame(d))   \n    print(\"total \\t\",tot) \n    return cont",
    "persistent_id": "141a9324-8901-4c9f-b428-ef5f4cd71722"
   },
   "outputs": [],
   "source": [
    "def resume_data(labels,y_train,f1s):\n",
    "    c = Counter(y_train)\n",
    "    cont = dict(c)\n",
    "    tot = sum(list(cont.values()))\n",
    "    nlabels = len(labels)\n",
    "    d = {\n",
    "        \"category\" : [labels[i] for i in range(nlabels)],\n",
    "        \"percent\" : [cont[labels[i]]/tot for i in range(nlabels)],\n",
    "        \"f1-score\" : [f1s[i] for i in range(nlabels)]\n",
    "    }\n",
    "   \n",
    "    print(pd.DataFrame(d))   \n",
    "    print(\"total \\t\",tot) \n",
    "    return cont"
   ]
  },
  {
   "cell_type": "code",
   "execution_count": 24,
   "metadata": {
    "collapsed": false,
    "execution_event_id": "e7537851-0055-424e-bc93-7e6accbb050b",
    "jupyter": {
     "outputs_hidden": false
    },
    "last_executed_text": "f1s = metrics.f1_score(y_test, predicted, labels=labels, average=None)\ncont3 = resume_data(labels,y_train,f1s)",
    "persistent_id": "66275296-21a0-4a0f-8077-cd92aceb0e12"
   },
   "outputs": [
    {
     "name": "stdout",
     "output_type": "stream",
     "text": [
      "  category   percent  f1-score\n",
      "0        b  0.274738  0.903839\n",
      "1        e  0.361334  0.959225\n",
      "2        m  0.107984  0.902814\n",
      "3        t  0.255945  0.903314\n",
      "total \t 295693\n"
     ]
    }
   ],
   "source": [
    "f1s = metrics.f1_score(y_test, predicted, labels=labels, average=None)\n",
    "cont3 = resume_data(labels,y_train,f1s)"
   ]
  },
  {
   "cell_type": "markdown",
   "metadata": {},
   "source": [
    "## Results analysis"
   ]
  },
  {
   "cell_type": "markdown",
   "metadata": {},
   "source": [
    "As a resume, results show a good accuracy (0.9238) with a good average level for precision, recall and f1-score (0.92) Analyzing these results by category, results are even better for the entertainment category ('e') with 0.96 for f1-score, 0.97 for recall and 0.95 for precision. I would like to highlight that best result for prediction corresponds to health category ('m') with 0.97, but with a recall of 0.85. Other categories show a more even behavior.  \n",
    "Analyzing confusion matrix results, the higher index of points predicted in their correct class for category 'e' with 0.9719. This category presents a misclassification index of 0.014 for technology category ('t') and lower indexes for the other categories.\n",
    "On the contrary, category 'm' presents the worst hit rate with an indicator of 0.846, which has misclassification indexes of 0.062 with business category ('b'), of 0.0619 with category 'e' and of 0.03 with category 't'.\n",
    "Analyzing the number of news by category, category 'e' presents the higher percentage, 36%, with 45625 news. On the other hand, category 'm' presents the lower percentage, 10.79%, with just 13709 news. Thus, category 'e' is more than three times bigger than category 'm'. Categories 'b' and 't' present similar number of news and percentage: 'b' has 34729 news with 27%, and 't' has 32663 news with a 25%. Both categories, 'b' and 't', are more than two times bigger than category 'm'. According to these, better results seem to correspond with higher percentage categories. In future experiments, I would try to confirm this hypothesis.\n",
    "In this experience, we just trained the classification algorithm with one set of data, so we just have one set of results. Although the training set and the test set were selected by random, it is just a sample of the possible results. In future experiments, I would try to test which is the confidence of the experiment results. "
   ]
  }
 ],
 "metadata": {
  "history": [
   {
    "cell": {
     "executionCount": 1,
     "executionEventId": "be828710-1a60-462a-9a13-f6aa88e20931",
     "hasError": false,
     "id": "e84cbbdc-deb3-41cb-b1e3-5f549db46b98",
     "outputs": [
      {
       "name": "stdout",
       "output_type": "stream",
       "text": "Collecting package metadata (current_repodata.json): done\nSolving environment: done\n\n# All requested packages already installed.\n\nCollecting package metadata (current_repodata.json): done\nSolving environment: done\n\n# All requested packages already installed.\n\n"
      }
     ],
     "persistentId": "6004caf1-2480-432b-9720-38ca17569406",
     "text": "!conda install -c conda-forge --yes matplotlib\n!conda install -c conda-forge --yes pandas"
    },
    "executionTime": "2020-05-27T20:02:20.886Z"
   },
   {
    "cell": {
     "executionCount": 2,
     "executionEventId": "0bc8434e-2b41-4128-b75a-32caa5a4a67d",
     "hasError": false,
     "id": "d956fe51-ee50-4eb2-9205-8cc9ca21b019",
     "outputs": [],
     "persistentId": "6809247c-e57e-44d1-9517-bd0de4f314fc",
     "text": "%matplotlib inline\nimport pandas as pd "
    },
    "executionTime": "2020-05-27T20:02:22.409Z"
   },
   {
    "cell": {
     "executionCount": 3,
     "executionEventId": "2872c0bb-1bcd-4cf1-8184-7f0a7b313aec",
     "hasError": false,
     "id": "a3344258-6973-43a9-bee9-62f8c88f03db",
     "outputs": [],
     "persistentId": "b7b06fa8-1beb-4b02-aa18-76d4c6c796e8",
     "text": "titles = [] # list of news titles\ncategories = [] # list of news categories\nlabels = [] # list of different categories (without repetitions)\nnlabels = 4 # number of different categories\nlnews = [] # list of dictionaries with two fields: one for the news and \n            # the other for its category"
    },
    "executionTime": "2020-05-27T20:02:25.207Z"
   },
   {
    "cell": {
     "executionCount": 4,
     "executionEventId": "8f724968-bd63-408e-b7f5-0bf1f2c292ae",
     "hasError": false,
     "id": "a3344258-6973-43a9-bee9-62f8c88f03db",
     "outputs": [],
     "persistentId": "b7b06fa8-1beb-4b02-aa18-76d4c6c796e8",
     "text": "titles = [] # list of news titles\ncategories = [] # list of news categories\nlabels = [] # list of different categories (without repetitions)\nnlabels = 4 # number of different categories\nlnews = [] # list of dictionaries with two fields: one for the news and \n            # the other for its category"
    },
    "executionTime": "2020-05-27T20:02:26.908Z"
   },
   {
    "cell": {
     "executionCount": 5,
     "executionEventId": "ca24a5d2-7289-4fc8-a24c-bda59836538d",
     "hasError": false,
     "id": "8fce4af5-5ad8-4201-9aee-9c07818e67be",
     "outputs": [],
     "persistentId": "56086ab7-c222-466e-8dc4-1eb5a960d403",
     "text": "def import_data():\n    global titles, labels, categories\n    # importing news aggregator data via Pandas (Python Data Analysis Library)\n    news = pd.read_csv(\"uci-news-aggregator.csv\")\n    # function 'head' shows the first 5 items in a column (or\n    # the first 5 rows in the DataFrame)\n    print(news.head())\n    categories = news['CATEGORY']\n    titles = news['TITLE']\n    labels = sorted(list(set(categories)))    "
    },
    "executionTime": "2020-05-27T20:02:29.411Z"
   },
   {
    "cell": {
     "executionCount": 6,
     "executionEventId": "0cf415d6-5946-428e-a54e-33e738bc0058",
     "hasError": false,
     "id": "dbb601d0-3090-4cf0-8739-9a2a7e40e52c",
     "outputs": [
      {
       "name": "stdout",
       "output_type": "stream",
       "text": "   ID                                              TITLE  \\\n0   1  Fed official says weak data caused by weather,...   \n1   2  Fed's Charles Plosser sees high bar for change...   \n2   3  US open: Stocks fall after Fed official hints ...   \n3   4  Fed risks falling 'behind the curve', Charles ...   \n4   5  Fed's Plosser: Nasty Weather Has Curbed Job Gr...   \n\n                                                 URL          PUBLISHER  \\\n0  http://www.latimes.com/business/money/la-fi-mo...  Los Angeles Times   \n1  http://www.livemint.com/Politics/H2EvwJSK2VE6O...           Livemint   \n2  http://www.ifamagazine.com/news/us-open-stocks...       IFA Magazine   \n3  http://www.ifamagazine.com/news/fed-risks-fall...       IFA Magazine   \n4  http://www.moneynews.com/Economy/federal-reser...          Moneynews   \n\n  CATEGORY                          STORY             HOSTNAME      TIMESTAMP  \n0        b  ddUyU0VZz0BRneMioxUPQVP6sIxvM      www.latimes.com  1394470370698  \n1        b  ddUyU0VZz0BRneMioxUPQVP6sIxvM     www.livemint.com  1394470371207  \n2        b  ddUyU0VZz0BRneMioxUPQVP6sIxvM  www.ifamagazine.com  1394470371550  \n3        b  ddUyU0VZz0BRneMioxUPQVP6sIxvM  www.ifamagazine.com  1394470371793  \n4        b  ddUyU0VZz0BRneMioxUPQVP6sIxvM    www.moneynews.com  1394470372027  \nCPU times: user 1.51 s, sys: 141 ms, total: 1.65 s\nWall time: 1.75 s\n"
      }
     ],
     "persistentId": "8b2dc817-d07d-421a-889d-fa6a7776f28b",
     "text": "%time import_data()"
    },
    "executionTime": "2020-05-27T20:02:32.984Z"
   },
   {
    "cell": {
     "executionCount": 7,
     "executionEventId": "f6d8b335-3b12-47f2-aac5-4a744237b0d7",
     "hasError": false,
     "id": "e06bae5d-8575-4211-b40f-febd47d4ec05",
     "outputs": [
      {
       "name": "stdout",
       "output_type": "stream",
       "text": "  category    news   percent\n0        b  115967  0.274531\n1        e  152469  0.360943\n2        m   45639  0.108042\n3        t  108344  0.256485\ntotal \t 422419\n"
      }
     ],
     "persistentId": "d6f87979-07c5-4184-a612-667d24514975",
     "text": "from collections import Counter\n\ndef count_data(labels,categories):    \n    c = Counter(categories)\n    cont = dict(c)\n    # total number of news\n    tot = sum(list(cont.values()))     \n    d = {\n        \"category\" : labels,\n        \"news\" : [cont[l] for l in labels],\n        \"percent\" : [cont[l]/tot for l in labels]\n    }\n   \n    print(pd.DataFrame(d))   \n    print(\"total \\t\",tot) \n    \n    return cont\n\ncont = count_data(labels,categories)"
    },
    "executionTime": "2020-05-27T20:02:35.949Z"
   },
   {
    "cell": {
     "executionCount": 8,
     "executionEventId": "147c5928-dc7b-4a66-a859-d5efe317e091",
     "hasError": false,
     "id": "800fcbd3-0efd-441b-8302-2111897bfacb",
     "outputs": [
      {
       "data": {
        "image/png": "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\n",
        "text/plain": "<Figure size 432x288 with 1 Axes>"
       },
       "metadata": {},
       "output_type": "display_data"
      }
     ],
     "persistentId": "287dfc3f-c31e-4d55-8f6b-3f90ebcbe642",
     "text": "import pylab as pl # useful for drawing graphics\n\ndef categories_pie_plot(cont,tit):\n    global labels\n    sizes = [cont[l] for l in labels]\n    pl.pie(sizes, explode=(0, 0, 0, 0), labels=labels,\n        autopct='%1.1f%%', shadow=True, startangle=90)\n    pl.title(tit)\n    pl.show()\n    \ncategories_pie_plot(cont,\"Plotting categories\")"
    },
    "executionTime": "2020-05-27T20:02:38.137Z"
   },
   {
    "cell": {
     "executionCount": 9,
     "executionEventId": "ce3a7b14-0794-41c4-8d2f-9e66c5dc4f3a",
     "hasError": true,
     "id": "a401acf4-7f19-4166-ace2-decd2359678b",
     "outputs": [
      {
       "ename": "NameError",
       "evalue": "name 'metrics' is not defined",
       "output_type": "error",
       "traceback": [
        "\u001b[0;31m---------------------------------------------------------------------------\u001b[0m",
        "\u001b[0;31mNameError\u001b[0m                                 Traceback (most recent call last)",
        "\u001b[0;32m<ipython-input-9-24d06bc1cd04>\u001b[0m in \u001b[0;36m<module>\u001b[0;34m\u001b[0m\n\u001b[0;32m----> 1\u001b[0;31m \u001b[0mmetrics\u001b[0m\u001b[0;34m.\u001b[0m\u001b[0maccuracy_score\u001b[0m\u001b[0;34m(\u001b[0m\u001b[0my_test\u001b[0m\u001b[0;34m,\u001b[0m \u001b[0mpredicted\u001b[0m\u001b[0;34m)\u001b[0m\u001b[0;34m\u001b[0m\u001b[0;34m\u001b[0m\u001b[0m\n\u001b[0m",
        "\u001b[0;31mNameError\u001b[0m: name 'metrics' is not defined"
       ]
      }
     ],
     "persistentId": "9a8422b7-d4fd-41c9-bb85-3468b9e82b0d",
     "text": "metrics.accuracy_score(y_test, predicted)"
    },
    "executionTime": "2020-05-27T22:47:26.009Z"
   },
   {
    "cell": {
     "executionCount": 10,
     "executionEventId": "32b34417-521a-464f-bc10-4a017836396f",
     "hasError": false,
     "id": "7279d5a3-af00-432a-8f8e-d39cbd2ef8b8",
     "outputs": [],
     "persistentId": "20f266ea-dd69-4f0b-91d5-79055513c30b",
     "text": "from sklearn.utils import shuffle # Shuffle arrays in a consistent way\n\nX_train = []\ny_train = []\nX_test = []\ny_test = []\n\ndef split_data():\n    global titles, categories\n    global X_train, y_train, X_test, y_test,labels\n    N = len(titles)\n    Ntrain = int(N * 0.7)    \n    # Let's shuffle the data\n    titles, categories = shuffle(titles, categories, random_state=0)\n    X_train = titles[:Ntrain]\n    y_train = categories[:Ntrain]\n    X_test = titles[Ntrain:]\n    y_test = categories[Ntrain:]"
    },
    "executionTime": "2020-05-27T22:47:36.034Z"
   },
   {
    "cell": {
     "executionCount": 11,
     "executionEventId": "4ec89dfe-aea6-4315-924c-68fe2863d7ef",
     "hasError": false,
     "id": "89c3099f-62fc-4014-a98b-e4ab0224aa01",
     "outputs": [
      {
       "name": "stdout",
       "output_type": "stream",
       "text": "CPU times: user 123 ms, sys: 173 ms, total: 296 ms\nWall time: 333 ms\n"
      }
     ],
     "persistentId": "ec9aad8a-94dc-44ed-b4b2-8a6966200743",
     "text": "%time split_data()"
    },
    "executionTime": "2020-05-27T22:47:36.377Z"
   },
   {
    "cell": {
     "executionCount": 12,
     "executionEventId": "ea62874a-4f01-44ae-8994-1248d0ee4b91",
     "hasError": false,
     "id": "acaf56af-c6d9-478c-b0fe-da47ace75fbe",
     "outputs": [
      {
       "name": "stdout",
       "output_type": "stream",
       "text": "  category    news   percent\n0        b   81238  0.274738\n1        e  106844  0.361334\n2        m   31930  0.107984\n3        t   75681  0.255945\ntotal \t 295693\n"
      }
     ],
     "persistentId": "b3e57bae-0724-4559-ad2b-096d8da6407a",
     "text": "cont2 = count_data(labels,y_train)"
    },
    "executionTime": "2020-05-27T22:47:37.519Z"
   },
   {
    "cell": {
     "executionCount": 13,
     "executionEventId": "22c7d1e6-eb8b-4ae4-9e51-6cbb3275ae46",
     "hasError": false,
     "id": "5918afd6-d4f2-4936-a0bb-7f77ad5a3dd1",
     "outputs": [
      {
       "data": {
        "image/png": "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\n",
        "text/plain": "<Figure size 432x288 with 1 Axes>"
       },
       "metadata": {},
       "output_type": "display_data"
      }
     ],
     "persistentId": "b2875505-d640-47ce-b9a9-fc0521c15d86",
     "text": "categories_pie_plot(cont2,\"Categories % in training set\")"
    },
    "executionTime": "2020-05-27T22:47:39.409Z"
   },
   {
    "cell": {
     "executionCount": 14,
     "executionEventId": "ad8839a2-7c08-4ea2-9860-777d376dcde3",
     "hasError": false,
     "id": "e023d4ba-a48b-44b0-97db-111dc90737b2",
     "outputs": [],
     "persistentId": "05375fb1-c292-40b5-ae27-4535625bc49a",
     "text": "from sklearn.feature_extraction.text import CountVectorizer \nfrom sklearn.feature_extraction.text import TfidfTransformer \nfrom sklearn.naive_bayes import MultinomialNB \nfrom sklearn.pipeline import Pipeline \nfrom sklearn import metrics \nimport numpy as np\nimport pprint\n\n# lmats = [] # list of confussion matrix \nnrows = nlabels\nncols = nlabels\n# conf_mat_sum = np.zeros((nrows, ncols))\n# f1_acum = [] # list of f1-score\n\ndef train_test():\n    global X_train, y_train, X_test, y_test, labels \n    #lmats, \\\n     #       conf_mat_sum, f1_acum, ncategories\n    text_clf = Pipeline([('vect', CountVectorizer()),\n                         ('tfidf', TfidfTransformer()),\n                         ('clf', MultinomialNB()),\n                         ])\n    text_clf = text_clf.fit(X_train, y_train)\n    predicted = text_clf.predict(X_test)\n    return predicted"
    },
    "executionTime": "2020-05-27T22:47:41.635Z"
   },
   {
    "cell": {
     "executionCount": 15,
     "executionEventId": "b1341bc8-af89-4498-a13e-af2434cf026f",
     "hasError": false,
     "id": "1472dd14-17ae-4a9a-a4a1-783be3a5ecd3",
     "outputs": [
      {
       "name": "stdout",
       "output_type": "stream",
       "text": "CPU times: user 4.79 s, sys: 136 ms, total: 4.92 s\nWall time: 5.01 s\n"
      }
     ],
     "persistentId": "8376c486-92c2-40b3-ab3f-793bcd4fc5ee",
     "text": "%time predicted = train_test()"
    },
    "executionTime": "2020-05-27T22:47:48.152Z"
   },
   {
    "cell": {
     "executionCount": 16,
     "executionEventId": "bd053868-848f-49b6-8f3a-6725c5693150",
     "hasError": false,
     "id": "a401acf4-7f19-4166-ace2-decd2359678b",
     "outputs": [
      {
       "data": {
        "text/plain": "0.9238041128103152"
       },
       "execution_count": 16,
       "metadata": {},
       "output_type": "execute_result"
      }
     ],
     "persistentId": "9a8422b7-d4fd-41c9-bb85-3468b9e82b0d",
     "text": "metrics.accuracy_score(y_test, predicted)"
    },
    "executionTime": "2020-05-27T22:47:51.237Z"
   },
   {
    "cell": {
     "executionCount": 17,
     "executionEventId": "60fa4da6-e3c2-4d0d-9dde-d4c4c74e58c0",
     "hasError": false,
     "id": "7279d5a3-af00-432a-8f8e-d39cbd2ef8b8",
     "outputs": [],
     "persistentId": "20f266ea-dd69-4f0b-91d5-79055513c30b",
     "text": "from sklearn.utils import shuffle # Shuffle arrays in a consistent way\n\nX_train = []\ny_train = []\nX_test = []\ny_test = []\n\ndef split_data():\n    global titles, categories\n    global X_train, y_train, X_test, y_test,labels\n    N = len(titles)\n    Ntrain = int(N * 0.7)    \n    # Let's shuffle the data\n    titles, categories = shuffle(titles, categories, random_state=0)\n    X_train = titles[:Ntrain]\n    y_train = categories[:Ntrain]\n    X_test = titles[Ntrain:]\n    y_test = categories[Ntrain:]"
    },
    "executionTime": "2020-05-27T22:48:44.328Z"
   },
   {
    "cell": {
     "executionCount": 18,
     "executionEventId": "26e2e131-9438-4418-ac44-5e20ec1a7a5a",
     "hasError": false,
     "id": "89c3099f-62fc-4014-a98b-e4ab0224aa01",
     "outputs": [],
     "persistentId": "ec9aad8a-94dc-44ed-b4b2-8a6966200743",
     "text": "#%time split_data()\nsplit_data()"
    },
    "executionTime": "2020-05-27T22:48:45.806Z"
   },
   {
    "cell": {
     "executionCount": 19,
     "executionEventId": "03bbe10d-013f-46ba-ae19-9082a3bdc3f4",
     "hasError": false,
     "id": "acaf56af-c6d9-478c-b0fe-da47ace75fbe",
     "outputs": [
      {
       "name": "stdout",
       "output_type": "stream",
       "text": "  category    news   percent\n0        b   81343  0.275093\n1        e  106475  0.360086\n2        m   31908  0.107909\n3        t   75967  0.256912\ntotal \t 295693\n"
      }
     ],
     "persistentId": "b3e57bae-0724-4559-ad2b-096d8da6407a",
     "text": "cont2 = count_data(labels,y_train)"
    },
    "executionTime": "2020-05-27T22:48:47.131Z"
   },
   {
    "cell": {
     "executionCount": 20,
     "executionEventId": "8e2ee64b-7ebb-4748-afbc-d7b8ee284a08",
     "hasError": false,
     "id": "5918afd6-d4f2-4936-a0bb-7f77ad5a3dd1",
     "outputs": [
      {
       "data": {
        "image/png": "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\n",
        "text/plain": "<Figure size 432x288 with 1 Axes>"
       },
       "metadata": {},
       "output_type": "display_data"
      }
     ],
     "persistentId": "b2875505-d640-47ce-b9a9-fc0521c15d86",
     "text": "categories_pie_plot(cont2,\"Categories % in training set\")"
    },
    "executionTime": "2020-05-27T22:48:49.027Z"
   },
   {
    "cell": {
     "executionCount": 21,
     "executionEventId": "d7049b9b-816a-4663-ba49-1d6d8e4a8a6e",
     "hasError": false,
     "id": "e023d4ba-a48b-44b0-97db-111dc90737b2",
     "outputs": [],
     "persistentId": "05375fb1-c292-40b5-ae27-4535625bc49a",
     "text": "from sklearn.feature_extraction.text import CountVectorizer \nfrom sklearn.feature_extraction.text import TfidfTransformer \nfrom sklearn.naive_bayes import MultinomialNB \nfrom sklearn.pipeline import Pipeline \nfrom sklearn import metrics \nimport numpy as np\nimport pprint\n\n# lmats = [] # list of confussion matrix \nnrows = nlabels\nncols = nlabels\n# conf_mat_sum = np.zeros((nrows, ncols))\n# f1_acum = [] # list of f1-score\n\ndef train_test():\n    global X_train, y_train, X_test, y_test, labels \n    #lmats, \\\n     #       conf_mat_sum, f1_acum, ncategories\n    text_clf = Pipeline([('vect', CountVectorizer()),\n                         ('tfidf', TfidfTransformer()),\n                         ('clf', MultinomialNB()),\n                         ])\n    text_clf = text_clf.fit(X_train, y_train)\n    predicted = text_clf.predict(X_test)\n    return predicted"
    },
    "executionTime": "2020-05-27T22:49:06.332Z"
   },
   {
    "cell": {
     "executionCount": 22,
     "executionEventId": "f4ce9ced-2138-4b18-8566-2b73c5462584",
     "hasError": false,
     "id": "1472dd14-17ae-4a9a-a4a1-783be3a5ecd3",
     "outputs": [
      {
       "name": "stdout",
       "output_type": "stream",
       "text": "CPU times: user 4.89 s, sys: 139 ms, total: 5.03 s\nWall time: 5.09 s\n"
      }
     ],
     "persistentId": "8376c486-92c2-40b3-ab3f-793bcd4fc5ee",
     "text": "#%time predicted = train_test()\n%time predicted = train_test()"
    },
    "executionTime": "2020-05-27T22:49:11.958Z"
   },
   {
    "cell": {
     "executionCount": 23,
     "executionEventId": "ee8cff56-6346-4e52-bc12-986795a4709d",
     "hasError": false,
     "id": "a401acf4-7f19-4166-ace2-decd2359678b",
     "outputs": [
      {
       "data": {
        "text/plain": "0.9251534807379701"
       },
       "execution_count": 23,
       "metadata": {},
       "output_type": "execute_result"
      }
     ],
     "persistentId": "9a8422b7-d4fd-41c9-bb85-3468b9e82b0d",
     "text": "metrics.accuracy_score(y_test, predicted)"
    },
    "executionTime": "2020-05-27T22:49:12.040Z"
   },
   {
    "cell": {
     "executionCount": 24,
     "executionEventId": "7f4af188-08b4-4410-ad14-64171711bcd6",
     "hasError": false,
     "id": "e023d4ba-a48b-44b0-97db-111dc90737b2",
     "outputs": [],
     "persistentId": "05375fb1-c292-40b5-ae27-4535625bc49a",
     "text": "from sklearn.feature_extraction.text import CountVectorizer \nfrom sklearn.feature_extraction.text import TfidfTransformer \nfrom sklearn.naive_bayes import MultinomialNB \nfrom sklearn.pipeline import Pipeline \nfrom sklearn import metrics \nimport numpy as np\nimport pprint\n\n# lmats = [] # list of confussion matrix \nnrows = nlabels\nncols = nlabels\n# conf_mat_sum = np.zeros((nrows, ncols))\n# f1_acum = [] # list of f1-score\n\ndef train_test():\n    global X_train, y_train, X_test, y_test, labels \n    #lmats, \\\n     #       conf_mat_sum, f1_acum, ncategories\n    text_clf = Pipeline([('vect', CountVectorizer()),\n                         ('tfidf', TfidfTransformer()),\n                         ('clf', MultinomialNB()),\n                         ])\n    text_clf = text_clf.fit(X_train, y_train)\n    predicted = text_clf.predict(X_test)\n    return predicted"
    },
    "executionTime": "2020-05-27T22:49:23.551Z"
   },
   {
    "cell": {
     "executionCount": 25,
     "executionEventId": "52195c8a-8a11-4d52-b9aa-cb2bb8593ad3",
     "hasError": false,
     "id": "1472dd14-17ae-4a9a-a4a1-783be3a5ecd3",
     "outputs": [],
     "persistentId": "8376c486-92c2-40b3-ab3f-793bcd4fc5ee",
     "text": "#%time predicted = train_test()\npredicted = train_test()"
    },
    "executionTime": "2020-05-27T22:49:30.343Z"
   },
   {
    "cell": {
     "executionCount": 26,
     "executionEventId": "f52c7fb1-ea1c-4d15-ae92-49213b4dcd4e",
     "hasError": false,
     "id": "a401acf4-7f19-4166-ace2-decd2359678b",
     "outputs": [
      {
       "data": {
        "text/plain": "0.9251534807379701"
       },
       "execution_count": 26,
       "metadata": {},
       "output_type": "execute_result"
      }
     ],
     "persistentId": "9a8422b7-d4fd-41c9-bb85-3468b9e82b0d",
     "text": "metrics.accuracy_score(y_test, predicted)"
    },
    "executionTime": "2020-05-27T22:49:34.251Z"
   },
   {
    "cell": {
     "executionCount": 27,
     "executionEventId": "5ff07839-9069-43b4-bc04-c2d5b5382b20",
     "hasError": false,
     "id": "a401acf4-7f19-4166-ace2-decd2359678b",
     "outputs": [
      {
       "data": {
        "text/plain": "0.9251534807379701"
       },
       "execution_count": 27,
       "metadata": {},
       "output_type": "execute_result"
      }
     ],
     "persistentId": "9a8422b7-d4fd-41c9-bb85-3468b9e82b0d",
     "text": "metrics.accuracy_score(y_test, predicted)"
    },
    "executionTime": "2020-05-27T22:49:37.049Z"
   },
   {
    "cell": {
     "executionCount": 28,
     "executionEventId": "7745df79-9526-4d6c-bc26-5388d67755db",
     "hasError": false,
     "id": "2bd4fd4b-23a1-49e3-be33-5a49d2b66e8f",
     "outputs": [],
     "persistentId": "6809247c-e57e-44d1-9517-bd0de4f314fc",
     "text": "%matplotlib inline\nimport pandas as pd "
    },
    "executionTime": "2020-05-27T22:51:37.670Z"
   },
   {
    "cell": {
     "executionCount": 29,
     "executionEventId": "db288935-2ee8-432f-97c1-d16f860cf6ff",
     "hasError": false,
     "id": "30fc572a-1270-4051-aa6f-26a3a84ee4ba",
     "outputs": [],
     "persistentId": "b7b06fa8-1beb-4b02-aa18-76d4c6c796e8",
     "text": "titles = [] # list of news titles\ncategories = [] # list of news categories\nlabels = [] # list of different categories (without repetitions)\nnlabels = 4 # number of different categories\nlnews = [] # list of dictionaries with two fields: one for the news and \n            # the other for its category"
    },
    "executionTime": "2020-05-27T22:51:38.705Z"
   },
   {
    "cell": {
     "executionCount": 30,
     "executionEventId": "82782ce3-d5d3-4fe5-beaf-f55b61a801c2",
     "hasError": false,
     "id": "2e0f3270-978a-4065-b413-db6bf000df9d",
     "outputs": [],
     "persistentId": "56086ab7-c222-466e-8dc4-1eb5a960d403",
     "text": "def import_data():\n    global titles, labels, categories\n    # importing news aggregator data via Pandas (Python Data Analysis Library)\n    news = pd.read_csv(\"uci-news-aggregator.csv\")\n    # function 'head' shows the first 5 items in a column (or\n    # the first 5 rows in the DataFrame)\n    print(news.head())\n    categories = news['CATEGORY']\n    titles = news['TITLE']\n    labels = sorted(list(set(categories)))    "
    },
    "executionTime": "2020-05-27T22:51:40.115Z"
   },
   {
    "cell": {
     "executionCount": 31,
     "executionEventId": "41a52d06-32ed-40e9-9da1-bbad3bb420a2",
     "hasError": false,
     "id": "2fe1690c-f72e-44e3-8580-6bb26e7cf496",
     "outputs": [
      {
       "name": "stdout",
       "output_type": "stream",
       "text": "   ID                                              TITLE  \\\n0   1  Fed official says weak data caused by weather,...   \n1   2  Fed's Charles Plosser sees high bar for change...   \n2   3  US open: Stocks fall after Fed official hints ...   \n3   4  Fed risks falling 'behind the curve', Charles ...   \n4   5  Fed's Plosser: Nasty Weather Has Curbed Job Gr...   \n\n                                                 URL          PUBLISHER  \\\n0  http://www.latimes.com/business/money/la-fi-mo...  Los Angeles Times   \n1  http://www.livemint.com/Politics/H2EvwJSK2VE6O...           Livemint   \n2  http://www.ifamagazine.com/news/us-open-stocks...       IFA Magazine   \n3  http://www.ifamagazine.com/news/fed-risks-fall...       IFA Magazine   \n4  http://www.moneynews.com/Economy/federal-reser...          Moneynews   \n\n  CATEGORY                          STORY             HOSTNAME      TIMESTAMP  \n0        b  ddUyU0VZz0BRneMioxUPQVP6sIxvM      www.latimes.com  1394470370698  \n1        b  ddUyU0VZz0BRneMioxUPQVP6sIxvM     www.livemint.com  1394470371207  \n2        b  ddUyU0VZz0BRneMioxUPQVP6sIxvM  www.ifamagazine.com  1394470371550  \n3        b  ddUyU0VZz0BRneMioxUPQVP6sIxvM  www.ifamagazine.com  1394470371793  \n4        b  ddUyU0VZz0BRneMioxUPQVP6sIxvM    www.moneynews.com  1394470372027  \n"
      }
     ],
     "persistentId": "8b2dc817-d07d-421a-889d-fa6a7776f28b",
     "text": "#%time import_data()\nimport_data()"
    },
    "executionTime": "2020-05-27T22:51:43.283Z"
   },
   {
    "cell": {
     "executionCount": 32,
     "executionEventId": "d8b1e9a4-6eb8-4241-b777-00f0baafe7eb",
     "hasError": false,
     "id": "d18c9b84-d1a4-4b09-ab97-3396f2be29b5",
     "outputs": [
      {
       "name": "stdout",
       "output_type": "stream",
       "text": "  category    news   percent\n0        b  115967  0.274531\n1        e  152469  0.360943\n2        m   45639  0.108042\n3        t  108344  0.256485\ntotal \t 422419\n"
      }
     ],
     "persistentId": "d6f87979-07c5-4184-a612-667d24514975",
     "text": "from collections import Counter\n\ndef count_data(labels,categories):    \n    c = Counter(categories)\n    cont = dict(c)\n    # total number of news\n    tot = sum(list(cont.values()))     \n    d = {\n        \"category\" : labels,\n        \"news\" : [cont[l] for l in labels],\n        \"percent\" : [cont[l]/tot for l in labels]\n    }\n   \n    print(pd.DataFrame(d))   \n    print(\"total \\t\",tot) \n    \n    return cont\n\ncont = count_data(labels,categories)"
    },
    "executionTime": "2020-05-27T22:51:46.153Z"
   },
   {
    "cell": {
     "executionCount": 33,
     "executionEventId": "0e6a63c7-2195-4433-8430-0406792c43a1",
     "hasError": false,
     "id": "19d5e0cc-141b-4548-8d54-c97f22882f2e",
     "outputs": [
      {
       "data": {
        "image/png": "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\n",
        "text/plain": "<Figure size 432x288 with 1 Axes>"
       },
       "metadata": {},
       "output_type": "display_data"
      }
     ],
     "persistentId": "287dfc3f-c31e-4d55-8f6b-3f90ebcbe642",
     "text": "import pylab as pl # useful for drawing graphics\n\ndef categories_pie_plot(cont,tit):\n    global labels\n    sizes = [cont[l] for l in labels]\n    pl.pie(sizes, explode=(0, 0, 0, 0), labels=labels,\n        autopct='%1.1f%%', shadow=True, startangle=90)\n    pl.title(tit)\n    pl.show()\n    \ncategories_pie_plot(cont,\"Plotting categories\")"
    },
    "executionTime": "2020-05-27T22:51:48.040Z"
   },
   {
    "cell": {
     "executionCount": 2,
     "executionEventId": "b13a1104-083f-42fe-8bc4-32adaba88c37",
     "hasError": false,
     "id": "abf98f85-28f0-43fe-a82e-f46e5134de5d",
     "outputs": [
      {
       "name": "stdout",
       "output_type": "stream",
       "text": "Requirement already satisfied: sklearn in /Users/jerrylu/miniconda/lib/python3.7/site-packages (0.0)\nRequirement already satisfied: scikit-learn in /Users/jerrylu/miniconda/lib/python3.7/site-packages (from sklearn) (0.23.1)\nRequirement already satisfied: numpy>=1.13.3 in /Users/jerrylu/miniconda/lib/python3.7/site-packages (from scikit-learn->sklearn) (1.18.4)\nRequirement already satisfied: joblib>=0.11 in /Users/jerrylu/miniconda/lib/python3.7/site-packages (from scikit-learn->sklearn) (0.15.1)\nRequirement already satisfied: threadpoolctl>=2.0.0 in /Users/jerrylu/miniconda/lib/python3.7/site-packages (from scikit-learn->sklearn) (2.0.0)\nRequirement already satisfied: scipy>=0.19.1 in /Users/jerrylu/miniconda/lib/python3.7/site-packages (from scikit-learn->sklearn) (1.4.1)\n"
      }
     ],
     "persistentId": "76e5fe33-b624-4d88-a86d-0bda249b1546",
     "text": "!pip install sklearn"
    },
    "executionTime": "2020-05-27T23:29:40.633Z"
   },
   {
    "cell": {
     "executionCount": 3,
     "executionEventId": "5802e5fb-a7ce-4391-8019-40da6239752d",
     "hasError": false,
     "id": "2bd4fd4b-23a1-49e3-be33-5a49d2b66e8f",
     "outputs": [],
     "persistentId": "6809247c-e57e-44d1-9517-bd0de4f314fc",
     "text": "%matplotlib inline\nimport pandas as pd "
    },
    "executionTime": "2020-05-27T23:29:42.714Z"
   },
   {
    "cell": {
     "executionCount": 4,
     "executionEventId": "482f5e20-beef-4dcd-8af2-8272950bde74",
     "hasError": false,
     "id": "30fc572a-1270-4051-aa6f-26a3a84ee4ba",
     "outputs": [],
     "persistentId": "b7b06fa8-1beb-4b02-aa18-76d4c6c796e8",
     "text": "titles = [] # list of news titles\ncategories = [] # list of news categories\nlabels = [] # list of different categories (without repetitions)\nnlabels = 4 # number of different categories\nlnews = [] # list of dictionaries with two fields: one for the news and \n            # the other for its category"
    },
    "executionTime": "2020-05-27T23:29:42.739Z"
   },
   {
    "cell": {
     "executionCount": 5,
     "executionEventId": "260126a9-28b3-4c0b-a121-8b15f16046fe",
     "hasError": false,
     "id": "2e0f3270-978a-4065-b413-db6bf000df9d",
     "outputs": [],
     "persistentId": "56086ab7-c222-466e-8dc4-1eb5a960d403",
     "text": "def import_data():\n    global titles, labels, categories\n    # importing news aggregator data via Pandas (Python Data Analysis Library)\n    news = pd.read_csv(\"uci-news-aggregator.csv\")\n    # function 'head' shows the first 5 items in a column (or\n    # the first 5 rows in the DataFrame)\n    print(news.head())\n    categories = news['CATEGORY']\n    titles = news['TITLE']\n    labels = sorted(list(set(categories)))    "
    },
    "executionTime": "2020-05-27T23:29:42.766Z"
   },
   {
    "cell": {
     "executionCount": 6,
     "executionEventId": "a277fd01-26e4-43e5-9cc4-4abc93189087",
     "hasError": false,
     "id": "2fe1690c-f72e-44e3-8580-6bb26e7cf496",
     "outputs": [
      {
       "name": "stdout",
       "output_type": "stream",
       "text": "   ID                                              TITLE  \\\n0   1  Fed official says weak data caused by weather,...   \n1   2  Fed's Charles Plosser sees high bar for change...   \n2   3  US open: Stocks fall after Fed official hints ...   \n3   4  Fed risks falling 'behind the curve', Charles ...   \n4   5  Fed's Plosser: Nasty Weather Has Curbed Job Gr...   \n\n                                                 URL          PUBLISHER  \\\n0  http://www.latimes.com/business/money/la-fi-mo...  Los Angeles Times   \n1  http://www.livemint.com/Politics/H2EvwJSK2VE6O...           Livemint   \n2  http://www.ifamagazine.com/news/us-open-stocks...       IFA Magazine   \n3  http://www.ifamagazine.com/news/fed-risks-fall...       IFA Magazine   \n4  http://www.moneynews.com/Economy/federal-reser...          Moneynews   \n\n  CATEGORY                          STORY             HOSTNAME      TIMESTAMP  \n0        b  ddUyU0VZz0BRneMioxUPQVP6sIxvM      www.latimes.com  1394470370698  \n1        b  ddUyU0VZz0BRneMioxUPQVP6sIxvM     www.livemint.com  1394470371207  \n2        b  ddUyU0VZz0BRneMioxUPQVP6sIxvM  www.ifamagazine.com  1394470371550  \n3        b  ddUyU0VZz0BRneMioxUPQVP6sIxvM  www.ifamagazine.com  1394470371793  \n4        b  ddUyU0VZz0BRneMioxUPQVP6sIxvM    www.moneynews.com  1394470372027  \n"
      }
     ],
     "persistentId": "8b2dc817-d07d-421a-889d-fa6a7776f28b",
     "text": "#%time import_data()\nimport_data()"
    },
    "executionTime": "2020-05-27T23:29:44.731Z"
   },
   {
    "cell": {
     "executionCount": 7,
     "executionEventId": "084bb514-bab1-4ed2-afe7-f2ba175b5230",
     "hasError": false,
     "id": "d18c9b84-d1a4-4b09-ab97-3396f2be29b5",
     "outputs": [
      {
       "name": "stdout",
       "output_type": "stream",
       "text": "  category    news   percent\n0        b  115967  0.274531\n1        e  152469  0.360943\n2        m   45639  0.108042\n3        t  108344  0.256485\ntotal \t 422419\n"
      }
     ],
     "persistentId": "d6f87979-07c5-4184-a612-667d24514975",
     "text": "from collections import Counter\n\ndef count_data(labels,categories):    \n    c = Counter(categories)\n    cont = dict(c)\n    # total number of news\n    tot = sum(list(cont.values()))     \n    d = {\n        \"category\" : labels,\n        \"news\" : [cont[l] for l in labels],\n        \"percent\" : [cont[l]/tot for l in labels]\n    }\n   \n    print(pd.DataFrame(d))   \n    print(\"total \\t\",tot) \n    \n    return cont\n\ncont = count_data(labels,categories)"
    },
    "executionTime": "2020-05-27T23:29:44.790Z"
   },
   {
    "cell": {
     "executionCount": 8,
     "executionEventId": "d417f07c-0886-4359-b9da-7912d8e165c5",
     "hasError": false,
     "id": "19d5e0cc-141b-4548-8d54-c97f22882f2e",
     "outputs": [
      {
       "data": {
        "image/png": "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\n",
        "text/plain": "<Figure size 432x288 with 1 Axes>"
       },
       "metadata": {},
       "output_type": "display_data"
      }
     ],
     "persistentId": "287dfc3f-c31e-4d55-8f6b-3f90ebcbe642",
     "text": "import pylab as pl # useful for drawing graphics\n\ndef categories_pie_plot(cont,tit):\n    global labels\n    sizes = [cont[l] for l in labels]\n    pl.pie(sizes, explode=(0, 0, 0, 0), labels=labels,\n        autopct='%1.1f%%', shadow=True, startangle=90)\n    pl.title(tit)\n    pl.show()\n    \ncategories_pie_plot(cont,\"Plotting categories\")"
    },
    "executionTime": "2020-05-27T23:29:44.895Z"
   },
   {
    "cell": {
     "executionCount": 9,
     "executionEventId": "fe6484ae-9202-4821-8ed4-09c8627afda5",
     "hasError": false,
     "id": "7279d5a3-af00-432a-8f8e-d39cbd2ef8b8",
     "outputs": [],
     "persistentId": "20f266ea-dd69-4f0b-91d5-79055513c30b",
     "text": "from sklearn.utils import shuffle # Shuffle arrays in a consistent way\n\nX_train = []\ny_train = []\nX_test = []\ny_test = []\n\ndef split_data():\n    global titles, categories\n    global X_train, y_train, X_test, y_test,labels\n    N = len(titles)\n    Ntrain = int(N * 0.7)    \n    # Let's shuffle the data\n    titles, categories = shuffle(titles, categories, random_state=0)\n    X_train = titles[:Ntrain]\n    y_train = categories[:Ntrain]\n    X_test = titles[Ntrain:]\n    y_test = categories[Ntrain:]"
    },
    "executionTime": "2020-05-27T23:29:46.073Z"
   },
   {
    "cell": {
     "executionCount": 10,
     "executionEventId": "b07e8df9-11a7-4e33-af30-3cd8ffb1577e",
     "hasError": false,
     "id": "89c3099f-62fc-4014-a98b-e4ab0224aa01",
     "outputs": [],
     "persistentId": "ec9aad8a-94dc-44ed-b4b2-8a6966200743",
     "text": "#%time split_data()\nsplit_data()"
    },
    "executionTime": "2020-05-27T23:29:46.230Z"
   },
   {
    "cell": {
     "executionCount": 11,
     "executionEventId": "bf8e91ea-0a11-44cb-a814-d7a6f0598ba8",
     "hasError": false,
     "id": "acaf56af-c6d9-478c-b0fe-da47ace75fbe",
     "outputs": [
      {
       "name": "stdout",
       "output_type": "stream",
       "text": "  category    news   percent\n0        b   81238  0.274738\n1        e  106844  0.361334\n2        m   31930  0.107984\n3        t   75681  0.255945\ntotal \t 295693\n"
      }
     ],
     "persistentId": "b3e57bae-0724-4559-ad2b-096d8da6407a",
     "text": "cont2 = count_data(labels,y_train)"
    },
    "executionTime": "2020-05-27T23:29:46.275Z"
   },
   {
    "cell": {
     "executionCount": 12,
     "executionEventId": "c5307ac5-a8ac-4721-a8bf-f39937967fe2",
     "hasError": false,
     "id": "5918afd6-d4f2-4936-a0bb-7f77ad5a3dd1",
     "outputs": [
      {
       "data": {
        "image/png": "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\n",
        "text/plain": "<Figure size 432x288 with 1 Axes>"
       },
       "metadata": {},
       "output_type": "display_data"
      }
     ],
     "persistentId": "b2875505-d640-47ce-b9a9-fc0521c15d86",
     "text": "categories_pie_plot(cont2,\"Categories % in training set\")"
    },
    "executionTime": "2020-05-27T23:29:46.358Z"
   },
   {
    "cell": {
     "executionCount": 13,
     "executionEventId": "f7aafecd-0594-4afc-8523-691106b7daf5",
     "hasError": false,
     "id": "e023d4ba-a48b-44b0-97db-111dc90737b2",
     "outputs": [],
     "persistentId": "05375fb1-c292-40b5-ae27-4535625bc49a",
     "text": "from sklearn.feature_extraction.text import CountVectorizer \nfrom sklearn.feature_extraction.text import TfidfTransformer \nfrom sklearn.naive_bayes import MultinomialNB \nfrom sklearn.pipeline import Pipeline \nfrom sklearn import metrics \nimport numpy as np\nimport pprint\n\n# lmats = [] # list of confussion matrix \nnrows = nlabels\nncols = nlabels\n# conf_mat_sum = np.zeros((nrows, ncols))\n# f1_acum = [] # list of f1-score\n\ndef train_test():\n    global X_train, y_train, X_test, y_test, labels \n    #lmats, \\\n     #       conf_mat_sum, f1_acum, ncategories\n    text_clf = Pipeline([('vect', CountVectorizer()),\n                         ('tfidf', TfidfTransformer()),\n                         ('clf', MultinomialNB()),\n                         ])\n    text_clf = text_clf.fit(X_train, y_train)\n    predicted = text_clf.predict(X_test)\n    return predicted"
    },
    "executionTime": "2020-05-27T23:29:46.521Z"
   },
   {
    "cell": {
     "executionCount": 14,
     "executionEventId": "e51c87c1-c4a7-4713-97c2-a7002806ca62",
     "hasError": false,
     "id": "1472dd14-17ae-4a9a-a4a1-783be3a5ecd3",
     "outputs": [],
     "persistentId": "8376c486-92c2-40b3-ab3f-793bcd4fc5ee",
     "text": "#%time predicted = train_test()\npredicted = train_test()"
    },
    "executionTime": "2020-05-27T23:29:52.487Z"
   },
   {
    "cell": {
     "executionCount": 15,
     "executionEventId": "aa39371c-c653-4f2e-b9f5-89179f06e340",
     "hasError": false,
     "id": "a401acf4-7f19-4166-ace2-decd2359678b",
     "outputs": [
      {
       "data": {
        "text/plain": "0.9238041128103152"
       },
       "execution_count": 15,
       "metadata": {},
       "output_type": "execute_result"
      }
     ],
     "persistentId": "9a8422b7-d4fd-41c9-bb85-3468b9e82b0d",
     "text": "metrics.accuracy_score(y_test, predicted)"
    },
    "executionTime": "2020-05-27T23:29:52.567Z"
   },
   {
    "cell": {
     "executionCount": 16,
     "executionEventId": "37c13d2c-27df-42ce-95f2-c06ca7b4d1e1",
     "hasError": false,
     "id": "1189990d-5617-453c-8a7a-4effd9e0c953",
     "outputs": [
      {
       "name": "stdout",
       "output_type": "stream",
       "text": "              precision    recall  f1-score   support\n\n           b       0.90      0.91      0.90     34729\n           e       0.95      0.97      0.96     45625\n           m       0.97      0.85      0.90     13709\n           t       0.90      0.90      0.90     32663\n\n    accuracy                           0.92    126726\n   macro avg       0.93      0.91      0.92    126726\nweighted avg       0.92      0.92      0.92    126726\n\n"
      }
     ],
     "persistentId": "ce4e5605-1f59-4bbc-ab63-25c61e2fd982",
     "text": "print(metrics.classification_report(y_test, predicted, target_names=labels))"
    },
    "executionTime": "2020-05-27T23:29:54.535Z"
   },
   {
    "cell": {
     "executionCount": 17,
     "executionEventId": "dda3fef2-0c09-4018-b9be-f78583de5410",
     "hasError": false,
     "id": "8bd8f00b-9674-4fa7-83d2-4827a96f021a",
     "outputs": [
      {
       "data": {
        "text/plain": "array([[0.91004636, 0.02361139, 0.00552852, 0.06081373],\n       [0.01176986, 0.97192329, 0.00192877, 0.01437808],\n       [0.06200306, 0.06193012, 0.84601357, 0.03005325],\n       [0.06778312, 0.02510486, 0.00324526, 0.90386676]])"
       },
       "execution_count": 17,
       "metadata": {},
       "output_type": "execute_result"
      }
     ],
     "persistentId": "1fa2ed7d-28f8-4ac5-9506-dc9a44059d36",
     "text": "mat = metrics.confusion_matrix(y_test, predicted,labels=labels)\ncm = mat.astype('float') / mat.sum(axis=1)[:, np.newaxis]\ncm"
    },
    "executionTime": "2020-05-27T23:29:54.703Z"
   },
   {
    "cell": {
     "executionCount": 18,
     "executionEventId": "1f997f55-9d1e-4fb9-8f2a-8d3c9c1cc9d9",
     "hasError": false,
     "id": "2da93694-5a5f-4dbe-89ea-4614afb2ec03",
     "outputs": [],
     "persistentId": "b05e946b-266c-4467-b55c-a28481e00958",
     "text": "import itertools\nimport matplotlib.pyplot as plt\n\ndef plot_confusion_matrix(cm, classes,\n                          title='Confusion matrix',\n                          cmap=plt.cm.Blues):\n    \"\"\"\n    This function prints and plots the confusion matrix.\n    \"\"\"\n    plt.imshow(cm, interpolation='nearest', cmap=cmap)\n    plt.title(title)\n    plt.colorbar()\n    tick_marks = np.arange(len(classes))\n    plt.xticks(tick_marks, classes, rotation=45)\n    plt.yticks(tick_marks, classes)\n\n    thresh = cm.max() / 2.\n    for i, j in itertools.product(range(cm.shape[0]), range(cm.shape[1])):\n        plt.text(j, i, '{:5.2f}'.format(cm[i, j]),\n                 horizontalalignment=\"center\",\n                 color=\"white\" if cm[i, j] > thresh else \"black\")\n\n    plt.tight_layout()\n    plt.ylabel('True label')\n    plt.xlabel('Predicted label')\n    plt.colorbar()\n    plt.show()"
    },
    "executionTime": "2020-05-27T23:29:54.722Z"
   },
   {
    "cell": {
     "executionCount": 19,
     "executionEventId": "a5906b8b-1035-4a6a-ad48-d526e79e1f18",
     "hasError": false,
     "id": "90c470f9-f984-4138-a029-65b600e80b31",
     "outputs": [
      {
       "data": {
        "image/png": "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\n",
        "text/plain": "<Figure size 432x288 with 3 Axes>"
       },
       "metadata": {
        "needs_background": "light"
       },
       "output_type": "display_data"
      }
     ],
     "persistentId": "44fbc64a-3039-4922-840e-61288a38a6f4",
     "text": "plot_confusion_matrix(cm, labels, title='Confusion matrix')"
    },
    "executionTime": "2020-05-27T23:29:55.053Z"
   },
   {
    "cell": {
     "executionCount": 20,
     "executionEventId": "392ed54d-4918-47b4-ae74-2bb6cc286cb7",
     "hasError": false,
     "id": "bb644276-9350-45ad-85e7-16a99d9f2e66",
     "outputs": [],
     "persistentId": "141a9324-8901-4c9f-b428-ef5f4cd71722",
     "text": "def resume_data(labels,y_train,f1s):\n    c = Counter(y_train)\n    cont = dict(c)\n    tot = sum(list(cont.values()))\n    nlabels = len(labels)\n    d = {\n        \"category\" : [labels[i] for i in range(nlabels)],\n        \"percent\" : [cont[labels[i]]/tot for i in range(nlabels)],\n        \"f1-score\" : [f1s[i] for i in range(nlabels)]\n    }\n   \n    print(pd.DataFrame(d))   \n    print(\"total \\t\",tot) \n    return cont"
    },
    "executionTime": "2020-05-27T23:29:55.070Z"
   },
   {
    "cell": {
     "executionCount": 21,
     "executionEventId": "88ba114c-e0c3-4a6e-a4dd-37c521547faa",
     "hasError": false,
     "id": "d43e512d-f5fa-4c5a-b9b6-23c96cfcdade",
     "outputs": [
      {
       "name": "stdout",
       "output_type": "stream",
       "text": "  category   percent  f1-score\n0        b  0.274738  0.903839\n1        e  0.361334  0.959225\n2        m  0.107984  0.902814\n3        t  0.255945  0.903314\ntotal \t 295693\n"
      }
     ],
     "persistentId": "66275296-21a0-4a0f-8077-cd92aceb0e12",
     "text": "f1s = metrics.f1_score(y_test, predicted, labels=labels, average=None)\ncont3 = resume_data(labels,y_train,f1s)"
    },
    "executionTime": "2020-05-27T23:29:55.567Z"
   },
   {
    "cell": {
     "executionCount": 1,
     "executionEventId": "ee686c3d-d64d-45e8-8924-0ac89b3dd6a1",
     "hasError": false,
     "id": "2bd4fd4b-23a1-49e3-be33-5a49d2b66e8f",
     "outputs": [],
     "persistentId": "6809247c-e57e-44d1-9517-bd0de4f314fc",
     "text": "%matplotlib inline\nimport pandas as pd "
    },
    "executionTime": "2020-05-28T17:57:15.863Z"
   },
   {
    "cell": {
     "executionCount": 2,
     "executionEventId": "9d80acaf-1ef5-4bca-ab95-0e9d4841a4b1",
     "hasError": false,
     "id": "30fc572a-1270-4051-aa6f-26a3a84ee4ba",
     "outputs": [],
     "persistentId": "b7b06fa8-1beb-4b02-aa18-76d4c6c796e8",
     "text": "titles = [] # list of news titles\ncategories = [] # list of news categories\nlabels = [] # list of different categories (without repetitions)\nnlabels = 4 # number of different categories\nlnews = [] # list of dictionaries with two fields: one for the news and \n            # the other for its category"
    },
    "executionTime": "2020-05-28T17:57:15.883Z"
   },
   {
    "cell": {
     "executionCount": 3,
     "executionEventId": "a14e0c56-e6ce-49f9-8992-f2cea8feed85",
     "hasError": false,
     "id": "2e0f3270-978a-4065-b413-db6bf000df9d",
     "outputs": [],
     "persistentId": "56086ab7-c222-466e-8dc4-1eb5a960d403",
     "text": "def import_data():\n    global titles, labels, categories\n    # importing news aggregator data via Pandas (Python Data Analysis Library)\n    news = pd.read_csv(\"uci-news-aggregator.csv\")\n    # function 'head' shows the first 5 items in a column (or\n    # the first 5 rows in the DataFrame)\n    print(news.head())\n    categories = news['CATEGORY']\n    titles = news['TITLE']\n    labels = sorted(list(set(categories)))    "
    },
    "executionTime": "2020-05-28T17:57:16.434Z"
   },
   {
    "cell": {
     "executionCount": 4,
     "executionEventId": "b368801a-10d6-47f7-955d-c3b83c6811a6",
     "hasError": false,
     "id": "2fe1690c-f72e-44e3-8580-6bb26e7cf496",
     "outputs": [
      {
       "name": "stdout",
       "output_type": "stream",
       "text": "   ID                                              TITLE  \\\n0   1  Fed official says weak data caused by weather,...   \n1   2  Fed's Charles Plosser sees high bar for change...   \n2   3  US open: Stocks fall after Fed official hints ...   \n3   4  Fed risks falling 'behind the curve', Charles ...   \n4   5  Fed's Plosser: Nasty Weather Has Curbed Job Gr...   \n\n                                                 URL          PUBLISHER  \\\n0  http://www.latimes.com/business/money/la-fi-mo...  Los Angeles Times   \n1  http://www.livemint.com/Politics/H2EvwJSK2VE6O...           Livemint   \n2  http://www.ifamagazine.com/news/us-open-stocks...       IFA Magazine   \n3  http://www.ifamagazine.com/news/fed-risks-fall...       IFA Magazine   \n4  http://www.moneynews.com/Economy/federal-reser...          Moneynews   \n\n  CATEGORY                          STORY             HOSTNAME      TIMESTAMP  \n0        b  ddUyU0VZz0BRneMioxUPQVP6sIxvM      www.latimes.com  1394470370698  \n1        b  ddUyU0VZz0BRneMioxUPQVP6sIxvM     www.livemint.com  1394470371207  \n2        b  ddUyU0VZz0BRneMioxUPQVP6sIxvM  www.ifamagazine.com  1394470371550  \n3        b  ddUyU0VZz0BRneMioxUPQVP6sIxvM  www.ifamagazine.com  1394470371793  \n4        b  ddUyU0VZz0BRneMioxUPQVP6sIxvM    www.moneynews.com  1394470372027  \n"
      }
     ],
     "persistentId": "8b2dc817-d07d-421a-889d-fa6a7776f28b",
     "text": "#%time import_data()\nimport_data()"
    },
    "executionTime": "2020-05-28T17:57:20.055Z"
   },
   {
    "cell": {
     "executionCount": 5,
     "executionEventId": "68e6de3b-206d-45be-ba83-b2755e91f8b2",
     "hasError": false,
     "id": "d18c9b84-d1a4-4b09-ab97-3396f2be29b5",
     "outputs": [
      {
       "name": "stdout",
       "output_type": "stream",
       "text": "  category    news   percent\n0        b  115967  0.274531\n1        e  152469  0.360943\n2        m   45639  0.108042\n3        t  108344  0.256485\ntotal \t 422419\n"
      }
     ],
     "persistentId": "d6f87979-07c5-4184-a612-667d24514975",
     "text": "from collections import Counter\n\ndef count_data(labels,categories):    \n    c = Counter(categories)\n    cont = dict(c)\n    # total number of news\n    tot = sum(list(cont.values()))     \n    d = {\n        \"category\" : labels,\n        \"news\" : [cont[l] for l in labels],\n        \"percent\" : [cont[l]/tot for l in labels]\n    }\n   \n    print(pd.DataFrame(d))   \n    print(\"total \\t\",tot) \n    \n    return cont\n\ncont = count_data(labels,categories)"
    },
    "executionTime": "2020-05-28T17:57:22.507Z"
   },
   {
    "cell": {
     "executionCount": 6,
     "executionEventId": "87e65b15-3fe8-4a77-bf2b-d03041cd588e",
     "hasError": false,
     "id": "19d5e0cc-141b-4548-8d54-c97f22882f2e",
     "outputs": [
      {
       "data": {
        "image/png": "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\n",
        "text/plain": "<Figure size 432x288 with 1 Axes>"
       },
       "metadata": {},
       "output_type": "display_data"
      }
     ],
     "persistentId": "287dfc3f-c31e-4d55-8f6b-3f90ebcbe642",
     "text": "import pylab as pl # useful for drawing graphics\n\ndef categories_pie_plot(cont,tit):\n    global labels\n    sizes = [cont[l] for l in labels]\n    pl.pie(sizes, explode=(0, 0, 0, 0), labels=labels,\n        autopct='%1.1f%%', shadow=True, startangle=90)\n    pl.title(tit)\n    pl.show()\n    \ncategories_pie_plot(cont,\"Plotting categories\")"
    },
    "executionTime": "2020-05-28T17:57:24.488Z"
   },
   {
    "cell": {
     "executionCount": 7,
     "executionEventId": "0499ee8d-1637-4120-b06c-da64e3c2480e",
     "hasError": false,
     "id": "7279d5a3-af00-432a-8f8e-d39cbd2ef8b8",
     "outputs": [],
     "persistentId": "20f266ea-dd69-4f0b-91d5-79055513c30b",
     "text": "from sklearn.utils import shuffle # Shuffle arrays in a consistent way\n\nX_train = []\ny_train = []\nX_test = []\ny_test = []\n\ndef split_data():\n    global titles, categories\n    global X_train, y_train, X_test, y_test,labels\n    N = len(titles)\n    Ntrain = int(N * 0.7)    \n    # Let's shuffle the data\n    titles, categories = shuffle(titles, categories, random_state=0)\n    X_train = titles[:Ntrain]\n    y_train = categories[:Ntrain]\n    X_test = titles[Ntrain:]\n    y_test = categories[Ntrain:]"
    },
    "executionTime": "2020-05-28T17:58:49.033Z"
   },
   {
    "cell": {
     "executionCount": 8,
     "executionEventId": "24b026f8-0596-44f9-ae18-9e8204266e51",
     "hasError": false,
     "id": "89c3099f-62fc-4014-a98b-e4ab0224aa01",
     "outputs": [
      {
       "name": "stdout",
       "output_type": "stream",
       "text": "CPU times: user 107 ms, sys: 15 ms, total: 122 ms\nWall time: 140 ms\n"
      }
     ],
     "persistentId": "ec9aad8a-94dc-44ed-b4b2-8a6966200743",
     "text": "%time split_data()"
    },
    "executionTime": "2020-05-28T17:58:49.188Z"
   },
   {
    "cell": {
     "executionCount": 9,
     "executionEventId": "56ac0cde-8086-4743-befe-0ca101ac2101",
     "hasError": false,
     "id": "acaf56af-c6d9-478c-b0fe-da47ace75fbe",
     "outputs": [
      {
       "name": "stdout",
       "output_type": "stream",
       "text": "  category    news   percent\n0        b   81238  0.274738\n1        e  106844  0.361334\n2        m   31930  0.107984\n3        t   75681  0.255945\ntotal \t 295693\n"
      }
     ],
     "persistentId": "b3e57bae-0724-4559-ad2b-096d8da6407a",
     "text": "cont2 = count_data(labels,y_train)"
    },
    "executionTime": "2020-05-28T17:58:49.589Z"
   },
   {
    "cell": {
     "executionCount": 10,
     "executionEventId": "0f9eae80-0e17-47c9-ae94-e9d8738f92b5",
     "hasError": false,
     "id": "5918afd6-d4f2-4936-a0bb-7f77ad5a3dd1",
     "outputs": [
      {
       "data": {
        "image/png": "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\n",
        "text/plain": "<Figure size 432x288 with 1 Axes>"
       },
       "metadata": {},
       "output_type": "display_data"
      }
     ],
     "persistentId": "b2875505-d640-47ce-b9a9-fc0521c15d86",
     "text": "categories_pie_plot(cont2,\"Categories % in training set\")"
    },
    "executionTime": "2020-05-28T17:58:51.425Z"
   },
   {
    "cell": {
     "executionCount": 11,
     "executionEventId": "f2d4f1b6-52f9-4f35-bdf9-12100e9188ab",
     "hasError": false,
     "id": "e023d4ba-a48b-44b0-97db-111dc90737b2",
     "outputs": [],
     "persistentId": "05375fb1-c292-40b5-ae27-4535625bc49a",
     "text": "from sklearn.feature_extraction.text import CountVectorizer \nfrom sklearn.feature_extraction.text import TfidfTransformer \nfrom sklearn.naive_bayes import MultinomialNB \nfrom sklearn.pipeline import Pipeline \nfrom sklearn import metrics \nimport numpy as np\nimport pprint\n\n# lmats = [] # list of confussion matrix \nnrows = nlabels\nncols = nlabels\n# conf_mat_sum = np.zeros((nrows, ncols))\n# f1_acum = [] # list of f1-score\n\ndef train_test():\n    global X_train, y_train, X_test, y_test, labels \n    #lmats, \\\n     #       conf_mat_sum, f1_acum, ncategories\n    text_clf = Pipeline([('vect', CountVectorizer()),\n                         ('tfidf', TfidfTransformer()),\n                         ('clf', MultinomialNB()),\n                         ])\n    text_clf = text_clf.fit(X_train, y_train)\n    predicted = text_clf.predict(X_test)\n    return predicted"
    },
    "executionTime": "2020-05-28T17:58:55.266Z"
   },
   {
    "cell": {
     "executionCount": 12,
     "executionEventId": "051371a8-9fb3-4c27-bd1a-ea0db21d47ba",
     "hasError": false,
     "id": "1472dd14-17ae-4a9a-a4a1-783be3a5ecd3",
     "outputs": [
      {
       "name": "stdout",
       "output_type": "stream",
       "text": "CPU times: user 5.01 s, sys: 167 ms, total: 5.18 s\nWall time: 5.31 s\n"
      }
     ],
     "persistentId": "8376c486-92c2-40b3-ab3f-793bcd4fc5ee",
     "text": "%time predicted = train_test()"
    },
    "executionTime": "2020-05-28T17:59:01.467Z"
   },
   {
    "cell": {
     "executionCount": 13,
     "executionEventId": "5f78c88f-24a8-4bc1-8c7f-93f8ff6f4711",
     "hasError": false,
     "id": "a401acf4-7f19-4166-ace2-decd2359678b",
     "outputs": [
      {
       "data": {
        "text/plain": "0.9238041128103152"
       },
       "execution_count": 13,
       "metadata": {},
       "output_type": "execute_result"
      }
     ],
     "persistentId": "9a8422b7-d4fd-41c9-bb85-3468b9e82b0d",
     "text": "metrics.accuracy_score(y_test, predicted)"
    },
    "executionTime": "2020-05-28T17:59:01.578Z"
   },
   {
    "cell": {
     "executionCount": 14,
     "executionEventId": "aa116959-806d-4452-a2ad-50cfb2826436",
     "hasError": false,
     "id": "1189990d-5617-453c-8a7a-4effd9e0c953",
     "outputs": [
      {
       "name": "stdout",
       "output_type": "stream",
       "text": "              precision    recall  f1-score   support\n\n           b       0.90      0.91      0.90     34729\n           e       0.95      0.97      0.96     45625\n           m       0.97      0.85      0.90     13709\n           t       0.90      0.90      0.90     32663\n\n    accuracy                           0.92    126726\n   macro avg       0.93      0.91      0.92    126726\nweighted avg       0.92      0.92      0.92    126726\n\n"
      }
     ],
     "persistentId": "ce4e5605-1f59-4bbc-ab63-25c61e2fd982",
     "text": "print(metrics.classification_report(y_test, predicted, target_names=labels))"
    },
    "executionTime": "2020-05-28T17:59:03.502Z"
   },
   {
    "cell": {
     "executionCount": 15,
     "executionEventId": "6704c044-9fea-4da8-a7c0-5fd5464d7bdb",
     "hasError": false,
     "id": "8bd8f00b-9674-4fa7-83d2-4827a96f021a",
     "outputs": [
      {
       "data": {
        "text/plain": "array([[0.91004636, 0.02361139, 0.00552852, 0.06081373],\n       [0.01176986, 0.97192329, 0.00192877, 0.01437808],\n       [0.06200306, 0.06193012, 0.84601357, 0.03005325],\n       [0.06778312, 0.02510486, 0.00324526, 0.90386676]])"
       },
       "execution_count": 15,
       "metadata": {},
       "output_type": "execute_result"
      }
     ],
     "persistentId": "1fa2ed7d-28f8-4ac5-9506-dc9a44059d36",
     "text": "mat = metrics.confusion_matrix(y_test, predicted,labels=labels)\ncm = mat.astype('float') / mat.sum(axis=1)[:, np.newaxis]\ncm"
    },
    "executionTime": "2020-05-28T17:59:03.670Z"
   },
   {
    "cell": {
     "executionCount": 16,
     "executionEventId": "e427517f-3e54-43a5-afec-42d8953fef34",
     "hasError": false,
     "id": "2da93694-5a5f-4dbe-89ea-4614afb2ec03",
     "outputs": [],
     "persistentId": "b05e946b-266c-4467-b55c-a28481e00958",
     "text": "import itertools\nimport matplotlib.pyplot as plt\n\ndef plot_confusion_matrix(cm, classes,\n                          title='Confusion matrix',\n                          cmap=plt.cm.Blues):\n    \"\"\"\n    This function prints and plots the confusion matrix.\n    \"\"\"\n    plt.imshow(cm, interpolation='nearest', cmap=cmap)\n    plt.title(title)\n    plt.colorbar()\n    tick_marks = np.arange(len(classes))\n    plt.xticks(tick_marks, classes, rotation=45)\n    plt.yticks(tick_marks, classes)\n\n    thresh = cm.max() / 2.\n    for i, j in itertools.product(range(cm.shape[0]), range(cm.shape[1])):\n        plt.text(j, i, '{:5.2f}'.format(cm[i, j]),\n                 horizontalalignment=\"center\",\n                 color=\"white\" if cm[i, j] > thresh else \"black\")\n\n    plt.tight_layout()\n    plt.ylabel('True label')\n    plt.xlabel('Predicted label')\n    plt.colorbar()\n    plt.show()"
    },
    "executionTime": "2020-05-28T17:59:03.720Z"
   },
   {
    "cell": {
     "executionCount": 17,
     "executionEventId": "f39f47a4-f8a6-4d47-8b2c-a72afbc6d1f4",
     "hasError": false,
     "id": "90c470f9-f984-4138-a029-65b600e80b31",
     "outputs": [
      {
       "data": {
        "image/png": "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\n",
        "text/plain": "<Figure size 432x288 with 3 Axes>"
       },
       "metadata": {
        "needs_background": "light"
       },
       "output_type": "display_data"
      }
     ],
     "persistentId": "44fbc64a-3039-4922-840e-61288a38a6f4",
     "text": "plot_confusion_matrix(cm, labels, title='Confusion matrix')"
    },
    "executionTime": "2020-05-28T17:59:09.841Z"
   },
   {
    "cell": {
     "executionCount": 18,
     "executionEventId": "1da8d8ed-b7b1-4aec-ab77-02105512bb9a",
     "hasError": false,
     "id": "bb644276-9350-45ad-85e7-16a99d9f2e66",
     "outputs": [],
     "persistentId": "141a9324-8901-4c9f-b428-ef5f4cd71722",
     "text": "def resume_data(labels,y_train,f1s):\n    c = Counter(y_train)\n    cont = dict(c)\n    tot = sum(list(cont.values()))\n    nlabels = len(labels)\n    d = {\n        \"category\" : [labels[i] for i in range(nlabels)],\n        \"percent\" : [cont[labels[i]]/tot for i in range(nlabels)],\n        \"f1-score\" : [f1s[i] for i in range(nlabels)]\n    }\n   \n    print(pd.DataFrame(d))   \n    print(\"total \\t\",tot) \n    return cont"
    },
    "executionTime": "2020-05-28T17:59:12.645Z"
   },
   {
    "cell": {
     "executionCount": 19,
     "executionEventId": "5d15450f-2d9f-4956-b81c-0fbbfa0bb6a7",
     "hasError": false,
     "id": "d43e512d-f5fa-4c5a-b9b6-23c96cfcdade",
     "outputs": [
      {
       "name": "stdout",
       "output_type": "stream",
       "text": "  category   percent  f1-score\n0        b  0.274738  0.903839\n1        e  0.361334  0.959225\n2        m  0.107984  0.902814\n3        t  0.255945  0.903314\ntotal \t 295693\n"
      }
     ],
     "persistentId": "66275296-21a0-4a0f-8077-cd92aceb0e12",
     "text": "f1s = metrics.f1_score(y_test, predicted, labels=labels, average=None)\ncont3 = resume_data(labels,y_train,f1s)"
    },
    "executionTime": "2020-05-28T17:59:13.429Z"
   },
   {
    "cell": {
     "executionCount": 20,
     "executionEventId": "037d15d7-7844-438c-ab75-48b088b9376a",
     "hasError": false,
     "id": "e023d4ba-a48b-44b0-97db-111dc90737b2",
     "outputs": [],
     "persistentId": "05375fb1-c292-40b5-ae27-4535625bc49a",
     "text": "from sklearn.feature_extraction.text import CountVectorizer \nfrom sklearn.feature_extraction.text import TfidfTransformer \nfrom sklearn.naive_bayes import MultinomialNB\n\nfrom sklearn.pipeline import Pipeline \nfrom sklearn import metrics \nimport numpy as np\nimport pprint\n\n# lmats = [] # list of confussion matrix \nnrows = nlabels\nncols = nlabels\n# conf_mat_sum = np.zeros((nrows, ncols))\n# f1_acum = [] # list of f1-score\n\ndef train_test():\n    global X_train, y_train, X_test, y_test, labels \n    #lmats, \\\n     #       conf_mat_sum, f1_acum, ncategories\n    text_clf = Pipeline([('vect', CountVectorizer()),\n                         ('tfidf', TfidfTransformer()),\n                         ('clf',  SVC(kernel=\"linear\", C=0.025)),\n                         ])\n    text_clf = text_clf.fit(X_train, y_train)\n    predicted = text_clf.predict(X_test)\n    return predicted"
    },
    "executionTime": "2020-05-28T18:02:45.271Z"
   },
   {
    "cell": {
     "executionCount": 21,
     "executionEventId": "8e19f351-ce42-4a31-9184-b0089279c112",
     "hasError": false,
     "id": "e023d4ba-a48b-44b0-97db-111dc90737b2",
     "outputs": [],
     "persistentId": "05375fb1-c292-40b5-ae27-4535625bc49a",
     "text": "from sklearn.feature_extraction.text import CountVectorizer \nfrom sklearn.feature_extraction.text import TfidfTransformer \nfrom sklearn.naive_bayes import MultinomialNB\nfrom sklearn.svm import SVC\n\nfrom sklearn.pipeline import Pipeline \nfrom sklearn import metrics \nimport numpy as np\nimport pprint\n\n# lmats = [] # list of confussion matrix \nnrows = nlabels\nncols = nlabels\n# conf_mat_sum = np.zeros((nrows, ncols))\n# f1_acum = [] # list of f1-score\n\ndef train_test():\n    global X_train, y_train, X_test, y_test, labels \n    #lmats, \\\n     #       conf_mat_sum, f1_acum, ncategories\n    text_clf = Pipeline([('vect', CountVectorizer()),\n                         ('tfidf', TfidfTransformer()),\n                         ('clf',  SVC(kernel=\"linear\", C=0.025)),\n                         ])\n    text_clf = text_clf.fit(X_train, y_train)\n    predicted = text_clf.predict(X_test)\n    return predicted"
    },
    "executionTime": "2020-05-28T18:03:06.231Z"
   },
   {
    "cell": {
     "executionCount": 1,
     "executionEventId": "1f5cb71e-508f-46d5-9b65-c7165afc0549",
     "hasError": false,
     "id": "abf98f85-28f0-43fe-a82e-f46e5134de5d",
     "outputs": [
      {
       "name": "stdout",
       "output_type": "stream",
       "text": "Requirement already satisfied: sklearn in /Users/jerrylu/miniconda/lib/python3.7/site-packages (0.0)\nRequirement already satisfied: scikit-learn in /Users/jerrylu/miniconda/lib/python3.7/site-packages (from sklearn) (0.23.1)\nRequirement already satisfied: scipy>=0.19.1 in /Users/jerrylu/miniconda/lib/python3.7/site-packages (from scikit-learn->sklearn) (1.4.1)\nRequirement already satisfied: numpy>=1.13.3 in /Users/jerrylu/miniconda/lib/python3.7/site-packages (from scikit-learn->sklearn) (1.18.4)\nRequirement already satisfied: threadpoolctl>=2.0.0 in /Users/jerrylu/miniconda/lib/python3.7/site-packages (from scikit-learn->sklearn) (2.0.0)\nRequirement already satisfied: joblib>=0.11 in /Users/jerrylu/miniconda/lib/python3.7/site-packages (from scikit-learn->sklearn) (0.15.1)\n"
      }
     ],
     "persistentId": "76e5fe33-b624-4d88-a86d-0bda249b1546",
     "text": "!pip install sklearn"
    },
    "executionTime": "2020-05-28T18:11:27.200Z"
   },
   {
    "cell": {
     "executionCount": 2,
     "executionEventId": "3622a794-f5da-4d25-a959-5e78413a1271",
     "hasError": false,
     "id": "2bd4fd4b-23a1-49e3-be33-5a49d2b66e8f",
     "outputs": [],
     "persistentId": "6809247c-e57e-44d1-9517-bd0de4f314fc",
     "text": "%matplotlib inline\nimport pandas as pd "
    },
    "executionTime": "2020-05-28T18:11:28.723Z"
   },
   {
    "cell": {
     "executionCount": 3,
     "executionEventId": "58719cb4-57e9-4d7b-bfc7-18e0869ebed3",
     "hasError": false,
     "id": "30fc572a-1270-4051-aa6f-26a3a84ee4ba",
     "outputs": [],
     "persistentId": "b7b06fa8-1beb-4b02-aa18-76d4c6c796e8",
     "text": "titles = [] # list of news titles\ncategories = [] # list of news categories\nlabels = [] # list of different categories (without repetitions)\nnlabels = 4 # number of different categories\nlnews = [] # list of dictionaries with two fields: one for the news and \n            # the other for its category"
    },
    "executionTime": "2020-05-28T18:11:28.748Z"
   },
   {
    "cell": {
     "executionCount": 4,
     "executionEventId": "b7a1e0b2-2adb-4b5c-907d-424e0bfa0414",
     "hasError": false,
     "id": "2e0f3270-978a-4065-b413-db6bf000df9d",
     "outputs": [],
     "persistentId": "56086ab7-c222-466e-8dc4-1eb5a960d403",
     "text": "def import_data():\n    global titles, labels, categories\n    # importing news aggregator data via Pandas (Python Data Analysis Library)\n    news = pd.read_csv(\"uci-news-aggregator.csv\")\n    # function 'head' shows the first 5 items in a column (or\n    # the first 5 rows in the DataFrame)\n    print(news.head())\n    categories = news['CATEGORY']\n    titles = news['TITLE']\n    labels = sorted(list(set(categories)))    "
    },
    "executionTime": "2020-05-28T18:11:28.773Z"
   },
   {
    "cell": {
     "executionCount": 5,
     "executionEventId": "056ea890-0bea-4438-b542-f928733dbdae",
     "hasError": false,
     "id": "2fe1690c-f72e-44e3-8580-6bb26e7cf496",
     "outputs": [
      {
       "name": "stdout",
       "output_type": "stream",
       "text": "   ID                                              TITLE  \\\n0   1  Fed official says weak data caused by weather,...   \n1   2  Fed's Charles Plosser sees high bar for change...   \n2   3  US open: Stocks fall after Fed official hints ...   \n3   4  Fed risks falling 'behind the curve', Charles ...   \n4   5  Fed's Plosser: Nasty Weather Has Curbed Job Gr...   \n\n                                                 URL          PUBLISHER  \\\n0  http://www.latimes.com/business/money/la-fi-mo...  Los Angeles Times   \n1  http://www.livemint.com/Politics/H2EvwJSK2VE6O...           Livemint   \n2  http://www.ifamagazine.com/news/us-open-stocks...       IFA Magazine   \n3  http://www.ifamagazine.com/news/fed-risks-fall...       IFA Magazine   \n4  http://www.moneynews.com/Economy/federal-reser...          Moneynews   \n\n  CATEGORY                          STORY             HOSTNAME      TIMESTAMP  \n0        b  ddUyU0VZz0BRneMioxUPQVP6sIxvM      www.latimes.com  1394470370698  \n1        b  ddUyU0VZz0BRneMioxUPQVP6sIxvM     www.livemint.com  1394470371207  \n2        b  ddUyU0VZz0BRneMioxUPQVP6sIxvM  www.ifamagazine.com  1394470371550  \n3        b  ddUyU0VZz0BRneMioxUPQVP6sIxvM  www.ifamagazine.com  1394470371793  \n4        b  ddUyU0VZz0BRneMioxUPQVP6sIxvM    www.moneynews.com  1394470372027  \n"
      }
     ],
     "persistentId": "8b2dc817-d07d-421a-889d-fa6a7776f28b",
     "text": "#%time import_data()\nimport_data()"
    },
    "executionTime": "2020-05-28T18:11:30.655Z"
   },
   {
    "cell": {
     "executionCount": 6,
     "executionEventId": "6352be4c-a7ac-40b3-8bfd-c01727a5623a",
     "hasError": false,
     "id": "d18c9b84-d1a4-4b09-ab97-3396f2be29b5",
     "outputs": [
      {
       "name": "stdout",
       "output_type": "stream",
       "text": "  category    news   percent\n0        b  115967  0.274531\n1        e  152469  0.360943\n2        m   45639  0.108042\n3        t  108344  0.256485\ntotal \t 422419\n"
      }
     ],
     "persistentId": "d6f87979-07c5-4184-a612-667d24514975",
     "text": "from collections import Counter\n\ndef count_data(labels,categories):    \n    c = Counter(categories)\n    cont = dict(c)\n    # total number of news\n    tot = sum(list(cont.values()))     \n    d = {\n        \"category\" : labels,\n        \"news\" : [cont[l] for l in labels],\n        \"percent\" : [cont[l]/tot for l in labels]\n    }\n   \n    print(pd.DataFrame(d))   \n    print(\"total \\t\",tot) \n    \n    return cont\n\ncont = count_data(labels,categories)"
    },
    "executionTime": "2020-05-28T18:11:30.720Z"
   },
   {
    "cell": {
     "executionCount": 7,
     "executionEventId": "2cc702bf-5c88-43fb-bd21-7e49b423de08",
     "hasError": false,
     "id": "19d5e0cc-141b-4548-8d54-c97f22882f2e",
     "outputs": [
      {
       "data": {
        "image/png": "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\n",
        "text/plain": "<Figure size 432x288 with 1 Axes>"
       },
       "metadata": {},
       "output_type": "display_data"
      }
     ],
     "persistentId": "287dfc3f-c31e-4d55-8f6b-3f90ebcbe642",
     "text": "import pylab as pl # useful for drawing graphics\n\ndef categories_pie_plot(cont,tit):\n    global labels\n    sizes = [cont[l] for l in labels]\n    pl.pie(sizes, explode=(0, 0, 0, 0), labels=labels,\n        autopct='%1.1f%%', shadow=True, startangle=90)\n    pl.title(tit)\n    pl.show()\n    \ncategories_pie_plot(cont,\"Plotting categories\")"
    },
    "executionTime": "2020-05-28T18:11:31.671Z"
   },
   {
    "cell": {
     "executionCount": 8,
     "executionEventId": "325a7a33-4361-49e3-a759-fc04da96ba21",
     "hasError": false,
     "id": "7279d5a3-af00-432a-8f8e-d39cbd2ef8b8",
     "outputs": [],
     "persistentId": "20f266ea-dd69-4f0b-91d5-79055513c30b",
     "text": "from sklearn.utils import shuffle # Shuffle arrays in a consistent way\n\nX_train = []\ny_train = []\nX_test = []\ny_test = []\n\ndef split_data():\n    global titles, categories\n    global X_train, y_train, X_test, y_test,labels\n    N = len(titles)\n    Ntrain = int(N * 0.7)    \n    # Let's shuffle the data\n    titles, categories = shuffle(titles, categories, random_state=0)\n    X_train = titles[:Ntrain]\n    y_train = categories[:Ntrain]\n    X_test = titles[Ntrain:]\n    y_test = categories[Ntrain:]"
    },
    "executionTime": "2020-05-28T18:11:37.638Z"
   },
   {
    "cell": {
     "executionCount": 9,
     "executionEventId": "f4942384-c7ea-411c-8eb0-c98ac5bb0a5f",
     "hasError": false,
     "id": "89c3099f-62fc-4014-a98b-e4ab0224aa01",
     "outputs": [
      {
       "name": "stdout",
       "output_type": "stream",
       "text": "CPU times: user 121 ms, sys: 15.4 ms, total: 136 ms\nWall time: 140 ms\n"
      }
     ],
     "persistentId": "ec9aad8a-94dc-44ed-b4b2-8a6966200743",
     "text": "%time split_data()"
    },
    "executionTime": "2020-05-28T18:11:37.786Z"
   },
   {
    "cell": {
     "executionCount": 10,
     "executionEventId": "a5cb04a2-5532-400d-a3b6-ed0915fc1fb6",
     "hasError": false,
     "id": "acaf56af-c6d9-478c-b0fe-da47ace75fbe",
     "outputs": [
      {
       "name": "stdout",
       "output_type": "stream",
       "text": "  category    news   percent\n0        b   81238  0.274738\n1        e  106844  0.361334\n2        m   31930  0.107984\n3        t   75681  0.255945\ntotal \t 295693\n"
      }
     ],
     "persistentId": "b3e57bae-0724-4559-ad2b-096d8da6407a",
     "text": "cont2 = count_data(labels,y_train)"
    },
    "executionTime": "2020-05-28T18:11:37.839Z"
   },
   {
    "cell": {
     "executionCount": 11,
     "executionEventId": "32a77367-1784-4207-a879-b08d9c4ce0c3",
     "hasError": false,
     "id": "5918afd6-d4f2-4936-a0bb-7f77ad5a3dd1",
     "outputs": [
      {
       "data": {
        "image/png": "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\n",
        "text/plain": "<Figure size 432x288 with 1 Axes>"
       },
       "metadata": {},
       "output_type": "display_data"
      }
     ],
     "persistentId": "b2875505-d640-47ce-b9a9-fc0521c15d86",
     "text": "categories_pie_plot(cont2,\"Categories % in training set\")"
    },
    "executionTime": "2020-05-28T18:11:40.652Z"
   },
   {
    "cell": {
     "executionCount": 12,
     "executionEventId": "86fc549c-6e0d-43c1-8e46-0248d1f69fe9",
     "hasError": false,
     "id": "e023d4ba-a48b-44b0-97db-111dc90737b2",
     "outputs": [],
     "persistentId": "05375fb1-c292-40b5-ae27-4535625bc49a",
     "text": "from sklearn.feature_extraction.text import CountVectorizer \nfrom sklearn.feature_extraction.text import TfidfTransformer \nfrom sklearn.naive_bayes import MultinomialNB, BernoulliNB\nfrom sklearn.pipeline import Pipeline \nfrom sklearn import metrics \nimport numpy as np\nimport pprint\n\n# lmats = [] # list of confussion matrix \nnrows = nlabels\nncols = nlabels\n# conf_mat_sum = np.zeros((nrows, ncols))\n# f1_acum = [] # list of f1-score\n\ndef train_test():\n    global X_train, y_train, X_test, y_test, labels \n    #lmats, \\\n     #       conf_mat_sum, f1_acum, ncategories\n    text_clf = Pipeline([('vect', CountVectorizer()),\n                         ('tfidf', TfidfTransformer()),\n                         ('clf', MultinomialNB()),\n                         ])\n    text_clf = text_clf.fit(X_train, y_train)\n    predicted = text_clf.predict(X_test)\n    return predicted"
    },
    "executionTime": "2020-05-28T18:11:45.758Z"
   },
   {
    "cell": {
     "executionCount": 13,
     "executionEventId": "baf954fb-ea25-404f-b1c7-2e591328ee0e",
     "hasError": false,
     "id": "1472dd14-17ae-4a9a-a4a1-783be3a5ecd3",
     "outputs": [
      {
       "name": "stdout",
       "output_type": "stream",
       "text": "CPU times: user 4.74 s, sys: 130 ms, total: 4.87 s\nWall time: 4.89 s\n"
      }
     ],
     "persistentId": "8376c486-92c2-40b3-ab3f-793bcd4fc5ee",
     "text": "%time predicted = train_test()"
    },
    "executionTime": "2020-05-28T18:11:51.439Z"
   },
   {
    "cell": {
     "executionCount": 14,
     "executionEventId": "2fe43743-abf8-4aa0-8ccd-f0ce746b5418",
     "hasError": false,
     "id": "a401acf4-7f19-4166-ace2-decd2359678b",
     "outputs": [
      {
       "data": {
        "text/plain": "0.9238041128103152"
       },
       "execution_count": 14,
       "metadata": {},
       "output_type": "execute_result"
      }
     ],
     "persistentId": "9a8422b7-d4fd-41c9-bb85-3468b9e82b0d",
     "text": "metrics.accuracy_score(y_test, predicted)"
    },
    "executionTime": "2020-05-28T18:11:54.083Z"
   },
   {
    "cell": {
     "executionCount": 15,
     "executionEventId": "a2fbc7f9-2f89-4efc-b5b4-250eccbcc9ef",
     "hasError": false,
     "id": "1189990d-5617-453c-8a7a-4effd9e0c953",
     "outputs": [
      {
       "name": "stdout",
       "output_type": "stream",
       "text": "              precision    recall  f1-score   support\n\n           b       0.90      0.91      0.90     34729\n           e       0.95      0.97      0.96     45625\n           m       0.97      0.85      0.90     13709\n           t       0.90      0.90      0.90     32663\n\n    accuracy                           0.92    126726\n   macro avg       0.93      0.91      0.92    126726\nweighted avg       0.92      0.92      0.92    126726\n\n"
      }
     ],
     "persistentId": "ce4e5605-1f59-4bbc-ab63-25c61e2fd982",
     "text": "print(metrics.classification_report(y_test, predicted, target_names=labels))"
    },
    "executionTime": "2020-05-28T18:11:57.534Z"
   },
   {
    "cell": {
     "executionCount": 16,
     "executionEventId": "3cd8a4d6-9519-4e19-a8d3-40f56d885caa",
     "hasError": false,
     "id": "8bd8f00b-9674-4fa7-83d2-4827a96f021a",
     "outputs": [
      {
       "data": {
        "text/plain": "array([[0.91004636, 0.02361139, 0.00552852, 0.06081373],\n       [0.01176986, 0.97192329, 0.00192877, 0.01437808],\n       [0.06200306, 0.06193012, 0.84601357, 0.03005325],\n       [0.06778312, 0.02510486, 0.00324526, 0.90386676]])"
       },
       "execution_count": 16,
       "metadata": {},
       "output_type": "execute_result"
      }
     ],
     "persistentId": "1fa2ed7d-28f8-4ac5-9506-dc9a44059d36",
     "text": "mat = metrics.confusion_matrix(y_test, predicted,labels=labels)\ncm = mat.astype('float') / mat.sum(axis=1)[:, np.newaxis]\ncm"
    },
    "executionTime": "2020-05-28T18:11:57.696Z"
   },
   {
    "cell": {
     "executionCount": 17,
     "executionEventId": "9c6f2c4c-1c56-4d23-814b-3a08f3822f95",
     "hasError": false,
     "id": "2da93694-5a5f-4dbe-89ea-4614afb2ec03",
     "outputs": [],
     "persistentId": "b05e946b-266c-4467-b55c-a28481e00958",
     "text": "import itertools\nimport matplotlib.pyplot as plt\n\ndef plot_confusion_matrix(cm, classes,\n                          title='Confusion matrix',\n                          cmap=plt.cm.Blues):\n    \"\"\"\n    This function prints and plots the confusion matrix.\n    \"\"\"\n    plt.imshow(cm, interpolation='nearest', cmap=cmap)\n    plt.title(title)\n    plt.colorbar()\n    tick_marks = np.arange(len(classes))\n    plt.xticks(tick_marks, classes, rotation=45)\n    plt.yticks(tick_marks, classes)\n\n    thresh = cm.max() / 2.\n    for i, j in itertools.product(range(cm.shape[0]), range(cm.shape[1])):\n        plt.text(j, i, '{:5.2f}'.format(cm[i, j]),\n                 horizontalalignment=\"center\",\n                 color=\"white\" if cm[i, j] > thresh else \"black\")\n\n    plt.tight_layout()\n    plt.ylabel('True label')\n    plt.xlabel('Predicted label')\n    plt.colorbar()\n    plt.show()"
    },
    "executionTime": "2020-05-28T18:12:02.384Z"
   },
   {
    "cell": {
     "executionCount": 18,
     "executionEventId": "b9ae2146-ece8-4e85-9cad-b43a014816bd",
     "hasError": false,
     "id": "90c470f9-f984-4138-a029-65b600e80b31",
     "outputs": [
      {
       "data": {
        "image/png": "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\n",
        "text/plain": "<Figure size 432x288 with 3 Axes>"
       },
       "metadata": {
        "needs_background": "light"
       },
       "output_type": "display_data"
      }
     ],
     "persistentId": "44fbc64a-3039-4922-840e-61288a38a6f4",
     "text": "plot_confusion_matrix(cm, labels, title='Confusion matrix')"
    },
    "executionTime": "2020-05-28T18:12:03.710Z"
   },
   {
    "cell": {
     "executionCount": 19,
     "executionEventId": "f280e74c-1e70-4f88-95f7-34a3b1161f81",
     "hasError": false,
     "id": "bb644276-9350-45ad-85e7-16a99d9f2e66",
     "outputs": [],
     "persistentId": "141a9324-8901-4c9f-b428-ef5f4cd71722",
     "text": "def resume_data(labels,y_train,f1s):\n    c = Counter(y_train)\n    cont = dict(c)\n    tot = sum(list(cont.values()))\n    nlabels = len(labels)\n    d = {\n        \"category\" : [labels[i] for i in range(nlabels)],\n        \"percent\" : [cont[labels[i]]/tot for i in range(nlabels)],\n        \"f1-score\" : [f1s[i] for i in range(nlabels)]\n    }\n   \n    print(pd.DataFrame(d))   \n    print(\"total \\t\",tot) \n    return cont"
    },
    "executionTime": "2020-05-28T18:12:07.270Z"
   },
   {
    "cell": {
     "executionCount": 20,
     "executionEventId": "4c3bec9f-6066-4cf7-add4-e921ca3f66cc",
     "hasError": false,
     "id": "d43e512d-f5fa-4c5a-b9b6-23c96cfcdade",
     "outputs": [
      {
       "name": "stdout",
       "output_type": "stream",
       "text": "  category   percent  f1-score\n0        b  0.274738  0.903839\n1        e  0.361334  0.959225\n2        m  0.107984  0.902814\n3        t  0.255945  0.903314\ntotal \t 295693\n"
      }
     ],
     "persistentId": "66275296-21a0-4a0f-8077-cd92aceb0e12",
     "text": "f1s = metrics.f1_score(y_test, predicted, labels=labels, average=None)\ncont3 = resume_data(labels,y_train,f1s)"
    },
    "executionTime": "2020-05-28T18:12:08.053Z"
   },
   {
    "cell": {
     "executionCount": 21,
     "executionEventId": "8866c630-99dd-4983-a2be-2f9b61b82861",
     "hasError": false,
     "id": "e023d4ba-a48b-44b0-97db-111dc90737b2",
     "outputs": [],
     "persistentId": "05375fb1-c292-40b5-ae27-4535625bc49a",
     "text": "from sklearn.feature_extraction.text import CountVectorizer \nfrom sklearn.feature_extraction.text import TfidfTransformer \nfrom sklearn.naive_bayes import MultinomialNB, BernoulliNB\nfrom sklearn.pipeline import Pipeline \nfrom sklearn import metrics \nimport numpy as np\nimport pprint\n\n# lmats = [] # list of confussion matrix \nnrows = nlabels\nncols = nlabels\n# conf_mat_sum = np.zeros((nrows, ncols))\n# f1_acum = [] # list of f1-score\n\ndef train_test():\n    global X_train, y_train, X_test, y_test, labels \n    #lmats, \\\n     #       conf_mat_sum, f1_acum, ncategories\n    text_clf = Pipeline([('vect', CountVectorizer()),\n                         ('tfidf', TfidfTransformer()),\n                         ('clf', BernoulliNB()),\n                         ])\n    text_clf = text_clf.fit(X_train, y_train)\n    predicted = text_clf.predict(X_test)\n    return predicted"
    },
    "executionTime": "2020-05-28T18:12:15.159Z"
   },
   {
    "cell": {
     "executionCount": 22,
     "executionEventId": "7a713c18-6ffd-44b7-a846-9e921fd0d21d",
     "hasError": false,
     "id": "1472dd14-17ae-4a9a-a4a1-783be3a5ecd3",
     "outputs": [
      {
       "name": "stdout",
       "output_type": "stream",
       "text": "CPU times: user 4.81 s, sys: 117 ms, total: 4.92 s\nWall time: 4.95 s\n"
      }
     ],
     "persistentId": "8376c486-92c2-40b3-ab3f-793bcd4fc5ee",
     "text": "%time predicted = train_test()"
    },
    "executionTime": "2020-05-28T18:12:21.574Z"
   },
   {
    "cell": {
     "executionCount": 23,
     "executionEventId": "892e49ab-ae07-4736-96bb-e6dc088efe7a",
     "hasError": false,
     "id": "a401acf4-7f19-4166-ace2-decd2359678b",
     "outputs": [
      {
       "data": {
        "text/plain": "0.9253034105077096"
       },
       "execution_count": 23,
       "metadata": {},
       "output_type": "execute_result"
      }
     ],
     "persistentId": "9a8422b7-d4fd-41c9-bb85-3468b9e82b0d",
     "text": "metrics.accuracy_score(y_test, predicted)"
    },
    "executionTime": "2020-05-28T18:12:22.959Z"
   },
   {
    "cell": {
     "executionCount": 24,
     "executionEventId": "8f4fd869-6130-43cf-8599-0cfddaa0edb5",
     "hasError": false,
     "id": "1189990d-5617-453c-8a7a-4effd9e0c953",
     "outputs": [
      {
       "name": "stdout",
       "output_type": "stream",
       "text": "              precision    recall  f1-score   support\n\n           b       0.91      0.90      0.90     34729\n           e       0.96      0.96      0.96     45625\n           m       0.92      0.91      0.91     13709\n           t       0.90      0.91      0.90     32663\n\n    accuracy                           0.93    126726\n   macro avg       0.92      0.92      0.92    126726\nweighted avg       0.93      0.93      0.93    126726\n\n"
      }
     ],
     "persistentId": "ce4e5605-1f59-4bbc-ab63-25c61e2fd982",
     "text": "print(metrics.classification_report(y_test, predicted, target_names=labels))"
    },
    "executionTime": "2020-05-28T18:12:27.918Z"
   },
   {
    "cell": {
     "executionCount": 25,
     "executionEventId": "4e593964-aac0-4efe-9b03-08ac1cea6128",
     "hasError": false,
     "id": "8bd8f00b-9674-4fa7-83d2-4827a96f021a",
     "outputs": [
      {
       "data": {
        "text/plain": "array([[0.90158081, 0.01816925, 0.0148579 , 0.06539204],\n       [0.01350137, 0.96144658, 0.00574247, 0.01930959],\n       [0.03968196, 0.03260632, 0.90903786, 0.01867386],\n       [0.06502771, 0.0191348 , 0.00897039, 0.9068671 ]])"
       },
       "execution_count": 25,
       "metadata": {},
       "output_type": "execute_result"
      }
     ],
     "persistentId": "1fa2ed7d-28f8-4ac5-9506-dc9a44059d36",
     "text": "mat = metrics.confusion_matrix(y_test, predicted,labels=labels)\ncm = mat.astype('float') / mat.sum(axis=1)[:, np.newaxis]\ncm"
    },
    "executionTime": "2020-05-28T18:12:31.781Z"
   },
   {
    "cell": {
     "executionCount": 26,
     "executionEventId": "0ab7c887-6d96-4317-a1d2-139ee2b1535f",
     "hasError": false,
     "id": "2da93694-5a5f-4dbe-89ea-4614afb2ec03",
     "outputs": [],
     "persistentId": "b05e946b-266c-4467-b55c-a28481e00958",
     "text": "import itertools\nimport matplotlib.pyplot as plt\n\ndef plot_confusion_matrix(cm, classes,\n                          title='Confusion matrix',\n                          cmap=plt.cm.Blues):\n    \"\"\"\n    This function prints and plots the confusion matrix.\n    \"\"\"\n    plt.imshow(cm, interpolation='nearest', cmap=cmap)\n    plt.title(title)\n    plt.colorbar()\n    tick_marks = np.arange(len(classes))\n    plt.xticks(tick_marks, classes, rotation=45)\n    plt.yticks(tick_marks, classes)\n\n    thresh = cm.max() / 2.\n    for i, j in itertools.product(range(cm.shape[0]), range(cm.shape[1])):\n        plt.text(j, i, '{:5.2f}'.format(cm[i, j]),\n                 horizontalalignment=\"center\",\n                 color=\"white\" if cm[i, j] > thresh else \"black\")\n\n    plt.tight_layout()\n    plt.ylabel('True label')\n    plt.xlabel('Predicted label')\n    plt.colorbar()\n    plt.show()"
    },
    "executionTime": "2020-05-28T18:12:34.176Z"
   },
   {
    "cell": {
     "executionCount": 27,
     "executionEventId": "e9a436e3-341d-49d6-bba7-0ac5a7cde2fe",
     "hasError": false,
     "id": "90c470f9-f984-4138-a029-65b600e80b31",
     "outputs": [
      {
       "data": {
        "image/png": "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\n",
        "text/plain": "<Figure size 432x288 with 3 Axes>"
       },
       "metadata": {
        "needs_background": "light"
       },
       "output_type": "display_data"
      }
     ],
     "persistentId": "44fbc64a-3039-4922-840e-61288a38a6f4",
     "text": "plot_confusion_matrix(cm, labels, title='Confusion matrix')"
    },
    "executionTime": "2020-05-28T18:12:41.458Z"
   },
   {
    "cell": {
     "executionCount": 28,
     "executionEventId": "f861d90d-3786-413e-9f15-9796d182a30e",
     "hasError": false,
     "id": "e023d4ba-a48b-44b0-97db-111dc90737b2",
     "outputs": [],
     "persistentId": "05375fb1-c292-40b5-ae27-4535625bc49a",
     "text": "from sklearn.feature_extraction.text import CountVectorizer \nfrom sklearn.feature_extraction.text import TfidfTransformer \nfrom sklearn.naive_bayes import MultinomialNB, BernoulliNB, GaussianNB\n\nfrom sklearn.pipeline import Pipeline \nfrom sklearn import metrics \nimport numpy as np\nimport pprint\n\n# lmats = [] # list of confussion matrix \nnrows = nlabels\nncols = nlabels\n# conf_mat_sum = np.zeros((nrows, ncols))\n# f1_acum = [] # list of f1-score\n\ndef train_test():\n    global X_train, y_train, X_test, y_test, labels \n    #lmats, \\\n     #       conf_mat_sum, f1_acum, ncategories\n    text_clf = Pipeline([('vect', CountVectorizer()),\n                         ('tfidf', TfidfTransformer()),\n                         ('clf', GaussianNB()),\n                         ])\n    text_clf = text_clf.fit(X_train, y_train)\n    predicted = text_clf.predict(X_test)\n    return predicted"
    },
    "executionTime": "2020-05-28T18:20:39.355Z"
   },
   {
    "cell": {
     "executionCount": 29,
     "executionEventId": "88c25edc-2a9c-4420-99ea-61cdf9eb1fa0",
     "hasError": true,
     "id": "1472dd14-17ae-4a9a-a4a1-783be3a5ecd3",
     "outputs": [
      {
       "ename": "TypeError",
       "evalue": "A sparse matrix was passed, but dense data is required. Use X.toarray() to convert to a dense numpy array.",
       "output_type": "error",
       "traceback": [
        "\u001b[0;31m-----------------------------------------------------------------------\u001b[0m",
        "\u001b[0;31mTypeError\u001b[0m                             Traceback (most recent call last)",
        "\u001b[0;32m<timed exec>\u001b[0m in \u001b[0;36m<module>\u001b[0;34m\u001b[0m\n",
        "\u001b[0;32m<ipython-input-28-b971b5e4091f>\u001b[0m in \u001b[0;36mtrain_test\u001b[0;34m()\u001b[0m\n\u001b[1;32m     22\u001b[0m                          \u001b[0;34m(\u001b[0m\u001b[0;34m'clf'\u001b[0m\u001b[0;34m,\u001b[0m \u001b[0mGaussianNB\u001b[0m\u001b[0;34m(\u001b[0m\u001b[0;34m)\u001b[0m\u001b[0;34m)\u001b[0m\u001b[0;34m,\u001b[0m\u001b[0;34m\u001b[0m\u001b[0;34m\u001b[0m\u001b[0m\n\u001b[1;32m     23\u001b[0m                          ])\n\u001b[0;32m---> 24\u001b[0;31m     \u001b[0mtext_clf\u001b[0m \u001b[0;34m=\u001b[0m \u001b[0mtext_clf\u001b[0m\u001b[0;34m.\u001b[0m\u001b[0mfit\u001b[0m\u001b[0;34m(\u001b[0m\u001b[0mX_train\u001b[0m\u001b[0;34m,\u001b[0m \u001b[0my_train\u001b[0m\u001b[0;34m)\u001b[0m\u001b[0;34m\u001b[0m\u001b[0;34m\u001b[0m\u001b[0m\n\u001b[0m\u001b[1;32m     25\u001b[0m     \u001b[0mpredicted\u001b[0m \u001b[0;34m=\u001b[0m \u001b[0mtext_clf\u001b[0m\u001b[0;34m.\u001b[0m\u001b[0mpredict\u001b[0m\u001b[0;34m(\u001b[0m\u001b[0mX_test\u001b[0m\u001b[0;34m)\u001b[0m\u001b[0;34m\u001b[0m\u001b[0;34m\u001b[0m\u001b[0m\n\u001b[1;32m     26\u001b[0m     \u001b[0;32mreturn\u001b[0m \u001b[0mpredicted\u001b[0m\u001b[0;34m\u001b[0m\u001b[0;34m\u001b[0m\u001b[0m\n",
        "\u001b[0;32m~/miniconda/lib/python3.7/site-packages/sklearn/pipeline.py\u001b[0m in \u001b[0;36mfit\u001b[0;34m(self, X, y, **fit_params)\u001b[0m\n\u001b[1;32m    333\u001b[0m             \u001b[0;32mif\u001b[0m \u001b[0mself\u001b[0m\u001b[0;34m.\u001b[0m\u001b[0m_final_estimator\u001b[0m \u001b[0;34m!=\u001b[0m \u001b[0;34m'passthrough'\u001b[0m\u001b[0;34m:\u001b[0m\u001b[0;34m\u001b[0m\u001b[0;34m\u001b[0m\u001b[0m\n\u001b[1;32m    334\u001b[0m                 \u001b[0mfit_params_last_step\u001b[0m \u001b[0;34m=\u001b[0m \u001b[0mfit_params_steps\u001b[0m\u001b[0;34m[\u001b[0m\u001b[0mself\u001b[0m\u001b[0;34m.\u001b[0m\u001b[0msteps\u001b[0m\u001b[0;34m[\u001b[0m\u001b[0;34m-\u001b[0m\u001b[0;36m1\u001b[0m\u001b[0;34m]\u001b[0m\u001b[0;34m[\u001b[0m\u001b[0;36m0\u001b[0m\u001b[0;34m]\u001b[0m\u001b[0;34m]\u001b[0m\u001b[0;34m\u001b[0m\u001b[0;34m\u001b[0m\u001b[0m\n\u001b[0;32m--> 335\u001b[0;31m                 \u001b[0mself\u001b[0m\u001b[0;34m.\u001b[0m\u001b[0m_final_estimator\u001b[0m\u001b[0;34m.\u001b[0m\u001b[0mfit\u001b[0m\u001b[0;34m(\u001b[0m\u001b[0mXt\u001b[0m\u001b[0;34m,\u001b[0m \u001b[0my\u001b[0m\u001b[0;34m,\u001b[0m \u001b[0;34m**\u001b[0m\u001b[0mfit_params_last_step\u001b[0m\u001b[0;34m)\u001b[0m\u001b[0;34m\u001b[0m\u001b[0;34m\u001b[0m\u001b[0m\n\u001b[0m\u001b[1;32m    336\u001b[0m \u001b[0;34m\u001b[0m\u001b[0m\n\u001b[1;32m    337\u001b[0m         \u001b[0;32mreturn\u001b[0m \u001b[0mself\u001b[0m\u001b[0;34m\u001b[0m\u001b[0;34m\u001b[0m\u001b[0m\n",
        "\u001b[0;32m~/miniconda/lib/python3.7/site-packages/sklearn/naive_bayes.py\u001b[0m in \u001b[0;36mfit\u001b[0;34m(self, X, y, sample_weight)\u001b[0m\n\u001b[1;32m    208\u001b[0m         \u001b[0mself\u001b[0m \u001b[0;34m:\u001b[0m \u001b[0mobject\u001b[0m\u001b[0;34m\u001b[0m\u001b[0;34m\u001b[0m\u001b[0m\n\u001b[1;32m    209\u001b[0m         \"\"\"\n\u001b[0;32m--> 210\u001b[0;31m         \u001b[0mX\u001b[0m\u001b[0;34m,\u001b[0m \u001b[0my\u001b[0m \u001b[0;34m=\u001b[0m \u001b[0mself\u001b[0m\u001b[0;34m.\u001b[0m\u001b[0m_validate_data\u001b[0m\u001b[0;34m(\u001b[0m\u001b[0mX\u001b[0m\u001b[0;34m,\u001b[0m \u001b[0my\u001b[0m\u001b[0;34m)\u001b[0m\u001b[0;34m\u001b[0m\u001b[0;34m\u001b[0m\u001b[0m\n\u001b[0m\u001b[1;32m    211\u001b[0m         \u001b[0my\u001b[0m \u001b[0;34m=\u001b[0m \u001b[0mcolumn_or_1d\u001b[0m\u001b[0;34m(\u001b[0m\u001b[0my\u001b[0m\u001b[0;34m,\u001b[0m \u001b[0mwarn\u001b[0m\u001b[0;34m=\u001b[0m\u001b[0;32mTrue\u001b[0m\u001b[0;34m)\u001b[0m\u001b[0;34m\u001b[0m\u001b[0;34m\u001b[0m\u001b[0m\n\u001b[1;32m    212\u001b[0m         return self._partial_fit(X, y, np.unique(y), _refit=True,\n",
        "\u001b[0;32m~/miniconda/lib/python3.7/site-packages/sklearn/base.py\u001b[0m in \u001b[0;36m_validate_data\u001b[0;34m(self, X, y, reset, validate_separately, **check_params)\u001b[0m\n\u001b[1;32m    430\u001b[0m                 \u001b[0my\u001b[0m \u001b[0;34m=\u001b[0m \u001b[0mcheck_array\u001b[0m\u001b[0;34m(\u001b[0m\u001b[0my\u001b[0m\u001b[0;34m,\u001b[0m \u001b[0;34m**\u001b[0m\u001b[0mcheck_y_params\u001b[0m\u001b[0;34m)\u001b[0m\u001b[0;34m\u001b[0m\u001b[0;34m\u001b[0m\u001b[0m\n\u001b[1;32m    431\u001b[0m             \u001b[0;32melse\u001b[0m\u001b[0;34m:\u001b[0m\u001b[0;34m\u001b[0m\u001b[0;34m\u001b[0m\u001b[0m\n\u001b[0;32m--> 432\u001b[0;31m                 \u001b[0mX\u001b[0m\u001b[0;34m,\u001b[0m \u001b[0my\u001b[0m \u001b[0;34m=\u001b[0m \u001b[0mcheck_X_y\u001b[0m\u001b[0;34m(\u001b[0m\u001b[0mX\u001b[0m\u001b[0;34m,\u001b[0m \u001b[0my\u001b[0m\u001b[0;34m,\u001b[0m \u001b[0;34m**\u001b[0m\u001b[0mcheck_params\u001b[0m\u001b[0;34m)\u001b[0m\u001b[0;34m\u001b[0m\u001b[0;34m\u001b[0m\u001b[0m\n\u001b[0m\u001b[1;32m    433\u001b[0m             \u001b[0mout\u001b[0m \u001b[0;34m=\u001b[0m \u001b[0mX\u001b[0m\u001b[0;34m,\u001b[0m \u001b[0my\u001b[0m\u001b[0;34m\u001b[0m\u001b[0;34m\u001b[0m\u001b[0m\n\u001b[1;32m    434\u001b[0m \u001b[0;34m\u001b[0m\u001b[0m\n",
        "\u001b[0;32m~/miniconda/lib/python3.7/site-packages/sklearn/utils/validation.py\u001b[0m in \u001b[0;36minner_f\u001b[0;34m(*args, **kwargs)\u001b[0m\n\u001b[1;32m     71\u001b[0m                           FutureWarning)\n\u001b[1;32m     72\u001b[0m         \u001b[0mkwargs\u001b[0m\u001b[0;34m.\u001b[0m\u001b[0mupdate\u001b[0m\u001b[0;34m(\u001b[0m\u001b[0;34m{\u001b[0m\u001b[0mk\u001b[0m\u001b[0;34m:\u001b[0m \u001b[0marg\u001b[0m \u001b[0;32mfor\u001b[0m \u001b[0mk\u001b[0m\u001b[0;34m,\u001b[0m \u001b[0marg\u001b[0m \u001b[0;32min\u001b[0m \u001b[0mzip\u001b[0m\u001b[0;34m(\u001b[0m\u001b[0msig\u001b[0m\u001b[0;34m.\u001b[0m\u001b[0mparameters\u001b[0m\u001b[0;34m,\u001b[0m \u001b[0margs\u001b[0m\u001b[0;34m)\u001b[0m\u001b[0;34m}\u001b[0m\u001b[0;34m)\u001b[0m\u001b[0;34m\u001b[0m\u001b[0;34m\u001b[0m\u001b[0m\n\u001b[0;32m---> 73\u001b[0;31m         \u001b[0;32mreturn\u001b[0m \u001b[0mf\u001b[0m\u001b[0;34m(\u001b[0m\u001b[0;34m**\u001b[0m\u001b[0mkwargs\u001b[0m\u001b[0;34m)\u001b[0m\u001b[0;34m\u001b[0m\u001b[0;34m\u001b[0m\u001b[0m\n\u001b[0m\u001b[1;32m     74\u001b[0m     \u001b[0;32mreturn\u001b[0m \u001b[0minner_f\u001b[0m\u001b[0;34m\u001b[0m\u001b[0;34m\u001b[0m\u001b[0m\n\u001b[1;32m     75\u001b[0m \u001b[0;34m\u001b[0m\u001b[0m\n",
        "\u001b[0;32m~/miniconda/lib/python3.7/site-packages/sklearn/utils/validation.py\u001b[0m in \u001b[0;36mcheck_X_y\u001b[0;34m(X, y, accept_sparse, accept_large_sparse, dtype, order, copy, force_all_finite, ensure_2d, allow_nd, multi_output, ensure_min_samples, ensure_min_features, y_numeric, estimator)\u001b[0m\n\u001b[1;32m    801\u001b[0m                     \u001b[0mensure_min_samples\u001b[0m\u001b[0;34m=\u001b[0m\u001b[0mensure_min_samples\u001b[0m\u001b[0;34m,\u001b[0m\u001b[0;34m\u001b[0m\u001b[0;34m\u001b[0m\u001b[0m\n\u001b[1;32m    802\u001b[0m                     \u001b[0mensure_min_features\u001b[0m\u001b[0;34m=\u001b[0m\u001b[0mensure_min_features\u001b[0m\u001b[0;34m,\u001b[0m\u001b[0;34m\u001b[0m\u001b[0;34m\u001b[0m\u001b[0m\n\u001b[0;32m--> 803\u001b[0;31m                     estimator=estimator)\n\u001b[0m\u001b[1;32m    804\u001b[0m     \u001b[0;32mif\u001b[0m \u001b[0mmulti_output\u001b[0m\u001b[0;34m:\u001b[0m\u001b[0;34m\u001b[0m\u001b[0;34m\u001b[0m\u001b[0m\n\u001b[1;32m    805\u001b[0m         y = check_array(y, accept_sparse='csr', force_all_finite=True,\n",
        "\u001b[0;32m~/miniconda/lib/python3.7/site-packages/sklearn/utils/validation.py\u001b[0m in \u001b[0;36minner_f\u001b[0;34m(*args, **kwargs)\u001b[0m\n\u001b[1;32m     71\u001b[0m                           FutureWarning)\n\u001b[1;32m     72\u001b[0m         \u001b[0mkwargs\u001b[0m\u001b[0;34m.\u001b[0m\u001b[0mupdate\u001b[0m\u001b[0;34m(\u001b[0m\u001b[0;34m{\u001b[0m\u001b[0mk\u001b[0m\u001b[0;34m:\u001b[0m \u001b[0marg\u001b[0m \u001b[0;32mfor\u001b[0m \u001b[0mk\u001b[0m\u001b[0;34m,\u001b[0m \u001b[0marg\u001b[0m \u001b[0;32min\u001b[0m \u001b[0mzip\u001b[0m\u001b[0;34m(\u001b[0m\u001b[0msig\u001b[0m\u001b[0;34m.\u001b[0m\u001b[0mparameters\u001b[0m\u001b[0;34m,\u001b[0m \u001b[0margs\u001b[0m\u001b[0;34m)\u001b[0m\u001b[0;34m}\u001b[0m\u001b[0;34m)\u001b[0m\u001b[0;34m\u001b[0m\u001b[0;34m\u001b[0m\u001b[0m\n\u001b[0;32m---> 73\u001b[0;31m         \u001b[0;32mreturn\u001b[0m \u001b[0mf\u001b[0m\u001b[0;34m(\u001b[0m\u001b[0;34m**\u001b[0m\u001b[0mkwargs\u001b[0m\u001b[0;34m)\u001b[0m\u001b[0;34m\u001b[0m\u001b[0;34m\u001b[0m\u001b[0m\n\u001b[0m\u001b[1;32m     74\u001b[0m     \u001b[0;32mreturn\u001b[0m \u001b[0minner_f\u001b[0m\u001b[0;34m\u001b[0m\u001b[0;34m\u001b[0m\u001b[0m\n\u001b[1;32m     75\u001b[0m \u001b[0;34m\u001b[0m\u001b[0m\n",
        "\u001b[0;32m~/miniconda/lib/python3.7/site-packages/sklearn/utils/validation.py\u001b[0m in \u001b[0;36mcheck_array\u001b[0;34m(array, accept_sparse, accept_large_sparse, dtype, order, copy, force_all_finite, ensure_2d, allow_nd, ensure_min_samples, ensure_min_features, estimator)\u001b[0m\n\u001b[1;32m    577\u001b[0m                                       \u001b[0mdtype\u001b[0m\u001b[0;34m=\u001b[0m\u001b[0mdtype\u001b[0m\u001b[0;34m,\u001b[0m \u001b[0mcopy\u001b[0m\u001b[0;34m=\u001b[0m\u001b[0mcopy\u001b[0m\u001b[0;34m,\u001b[0m\u001b[0;34m\u001b[0m\u001b[0;34m\u001b[0m\u001b[0m\n\u001b[1;32m    578\u001b[0m                                       \u001b[0mforce_all_finite\u001b[0m\u001b[0;34m=\u001b[0m\u001b[0mforce_all_finite\u001b[0m\u001b[0;34m,\u001b[0m\u001b[0;34m\u001b[0m\u001b[0;34m\u001b[0m\u001b[0m\n\u001b[0;32m--> 579\u001b[0;31m                                       accept_large_sparse=accept_large_sparse)\n\u001b[0m\u001b[1;32m    580\u001b[0m     \u001b[0;32melse\u001b[0m\u001b[0;34m:\u001b[0m\u001b[0;34m\u001b[0m\u001b[0;34m\u001b[0m\u001b[0m\n\u001b[1;32m    581\u001b[0m         \u001b[0;31m# If np.array(..) gives ComplexWarning, then we convert the warning\u001b[0m\u001b[0;34m\u001b[0m\u001b[0;34m\u001b[0m\u001b[0;34m\u001b[0m\u001b[0m\n",
        "\u001b[0;32m~/miniconda/lib/python3.7/site-packages/sklearn/utils/validation.py\u001b[0m in \u001b[0;36m_ensure_sparse_format\u001b[0;34m(spmatrix, accept_sparse, dtype, copy, force_all_finite, accept_large_sparse)\u001b[0m\n\u001b[1;32m    352\u001b[0m \u001b[0;34m\u001b[0m\u001b[0m\n\u001b[1;32m    353\u001b[0m     \u001b[0;32mif\u001b[0m \u001b[0maccept_sparse\u001b[0m \u001b[0;32mis\u001b[0m \u001b[0;32mFalse\u001b[0m\u001b[0;34m:\u001b[0m\u001b[0;34m\u001b[0m\u001b[0;34m\u001b[0m\u001b[0m\n\u001b[0;32m--> 354\u001b[0;31m         raise TypeError('A sparse matrix was passed, but dense '\n\u001b[0m\u001b[1;32m    355\u001b[0m                         \u001b[0;34m'data is required. Use X.toarray() to '\u001b[0m\u001b[0;34m\u001b[0m\u001b[0;34m\u001b[0m\u001b[0m\n\u001b[1;32m    356\u001b[0m                         'convert to a dense numpy array.')\n",
        "\u001b[0;31mTypeError\u001b[0m: A sparse matrix was passed, but dense data is required. Use X.toarray() to convert to a dense numpy array."
       ]
      }
     ],
     "persistentId": "8376c486-92c2-40b3-ab3f-793bcd4fc5ee",
     "text": "%time predicted = train_test()"
    },
    "executionTime": "2020-05-28T18:20:44.376Z"
   },
   {
    "cell": {
     "executionCount": 30,
     "executionEventId": "b35eaf14-0075-4501-9a3a-3706bf8d416c",
     "hasError": false,
     "id": "a401acf4-7f19-4166-ace2-decd2359678b",
     "outputs": [
      {
       "data": {
        "text/plain": "0.9253034105077096"
       },
       "execution_count": 30,
       "metadata": {},
       "output_type": "execute_result"
      }
     ],
     "persistentId": "9a8422b7-d4fd-41c9-bb85-3468b9e82b0d",
     "text": "metrics.accuracy_score(y_test, predicted)"
    },
    "executionTime": "2020-05-28T18:20:44.449Z"
   },
   {
    "cell": {
     "executionCount": 31,
     "executionEventId": "5e9e98f7-24f7-490e-a122-9716fd7a4e0a",
     "hasError": false,
     "id": "e023d4ba-a48b-44b0-97db-111dc90737b2",
     "outputs": [],
     "persistentId": "05375fb1-c292-40b5-ae27-4535625bc49a",
     "text": "from sklearn.feature_extraction.text import CountVectorizer \nfrom sklearn.feature_extraction.text import TfidfTransformer \nfrom sklearn.naive_bayes import MultinomialNB, BernoulliNB, ComplementNB\n\nfrom sklearn.pipeline import Pipeline \nfrom sklearn import metrics \nimport numpy as np\nimport pprint\n\n# lmats = [] # list of confussion matrix \nnrows = nlabels\nncols = nlabels\n# conf_mat_sum = np.zeros((nrows, ncols))\n# f1_acum = [] # list of f1-score\n\ndef train_test():\n    global X_train, y_train, X_test, y_test, labels \n    #lmats, \\\n     #       conf_mat_sum, f1_acum, ncategories\n    text_clf = Pipeline([('vect', CountVectorizer()),\n                         ('tfidf', TfidfTransformer()),\n                         ('clf', ComplementNB()),\n                         ])\n    text_clf = text_clf.fit(X_train, y_train)\n    predicted = text_clf.predict(X_test)\n    return predicted"
    },
    "executionTime": "2020-05-28T18:21:56.314Z"
   },
   {
    "cell": {
     "executionCount": 32,
     "executionEventId": "f1cca74a-76fa-48af-a43f-c3bf7ec12a4d",
     "hasError": false,
     "id": "1472dd14-17ae-4a9a-a4a1-783be3a5ecd3",
     "outputs": [
      {
       "name": "stdout",
       "output_type": "stream",
       "text": "CPU times: user 4.86 s, sys: 119 ms, total: 4.98 s\nWall time: 5.07 s\n"
      }
     ],
     "persistentId": "8376c486-92c2-40b3-ab3f-793bcd4fc5ee",
     "text": "%time predicted = train_test()"
    },
    "executionTime": "2020-05-28T18:22:02.320Z"
   },
   {
    "cell": {
     "executionCount": 33,
     "executionEventId": "f2df01e5-4994-41c3-b84a-d55ee374ea53",
     "hasError": false,
     "id": "a401acf4-7f19-4166-ace2-decd2359678b",
     "outputs": [
      {
       "data": {
        "text/plain": "0.9279232359578934"
       },
       "execution_count": 33,
       "metadata": {},
       "output_type": "execute_result"
      }
     ],
     "persistentId": "9a8422b7-d4fd-41c9-bb85-3468b9e82b0d",
     "text": "metrics.accuracy_score(y_test, predicted)"
    },
    "executionTime": "2020-05-28T18:22:06.097Z"
   },
   {
    "cell": {
     "executionCount": 34,
     "executionEventId": "2197721c-05e9-46c3-8f7e-45b808d567e9",
     "hasError": false,
     "id": "1189990d-5617-453c-8a7a-4effd9e0c953",
     "outputs": [
      {
       "name": "stdout",
       "output_type": "stream",
       "text": "              precision    recall  f1-score   support\n\n           b       0.91      0.91      0.91     34729\n           e       0.95      0.97      0.96     45625\n           m       0.92      0.91      0.92     13709\n           t       0.91      0.90      0.91     32663\n\n    accuracy                           0.93    126726\n   macro avg       0.92      0.92      0.92    126726\nweighted avg       0.93      0.93      0.93    126726\n\n"
      }
     ],
     "persistentId": "ce4e5605-1f59-4bbc-ab63-25c61e2fd982",
     "text": "print(metrics.classification_report(y_test, predicted, target_names=labels))"
    },
    "executionTime": "2020-05-28T18:22:09.545Z"
   },
   {
    "cell": {
     "executionCount": 35,
     "executionEventId": "266bb563-6622-4cd1-b896-64239ba9f59b",
     "hasError": false,
     "id": "8bd8f00b-9674-4fa7-83d2-4827a96f021a",
     "outputs": [
      {
       "data": {
        "text/plain": "array([[0.90722451, 0.02168217, 0.01396527, 0.05712805],\n       [0.01201096, 0.96876712, 0.00495342, 0.01426849],\n       [0.03581589, 0.03683711, 0.90860019, 0.01874681],\n       [0.06361939, 0.02550286, 0.00988887, 0.90098889]])"
       },
       "execution_count": 35,
       "metadata": {},
       "output_type": "execute_result"
      }
     ],
     "persistentId": "1fa2ed7d-28f8-4ac5-9506-dc9a44059d36",
     "text": "mat = metrics.confusion_matrix(y_test, predicted,labels=labels)\ncm = mat.astype('float') / mat.sum(axis=1)[:, np.newaxis]\ncm"
    },
    "executionTime": "2020-05-28T18:22:12.445Z"
   },
   {
    "cell": {
     "executionCount": 36,
     "executionEventId": "c857fa2c-bbf8-45cd-bc01-3f451264093b",
     "hasError": false,
     "id": "2da93694-5a5f-4dbe-89ea-4614afb2ec03",
     "outputs": [],
     "persistentId": "b05e946b-266c-4467-b55c-a28481e00958",
     "text": "import itertools\nimport matplotlib.pyplot as plt\n\ndef plot_confusion_matrix(cm, classes,\n                          title='Confusion matrix',\n                          cmap=plt.cm.Blues):\n    \"\"\"\n    This function prints and plots the confusion matrix.\n    \"\"\"\n    plt.imshow(cm, interpolation='nearest', cmap=cmap)\n    plt.title(title)\n    plt.colorbar()\n    tick_marks = np.arange(len(classes))\n    plt.xticks(tick_marks, classes, rotation=45)\n    plt.yticks(tick_marks, classes)\n\n    thresh = cm.max() / 2.\n    for i, j in itertools.product(range(cm.shape[0]), range(cm.shape[1])):\n        plt.text(j, i, '{:5.2f}'.format(cm[i, j]),\n                 horizontalalignment=\"center\",\n                 color=\"white\" if cm[i, j] > thresh else \"black\")\n\n    plt.tight_layout()\n    plt.ylabel('True label')\n    plt.xlabel('Predicted label')\n    plt.colorbar()\n    plt.show()"
    },
    "executionTime": "2020-05-28T18:22:15.102Z"
   },
   {
    "cell": {
     "executionCount": 37,
     "executionEventId": "fd15ab11-69b0-4e02-8230-81a1a3cb75fb",
     "hasError": false,
     "id": "90c470f9-f984-4138-a029-65b600e80b31",
     "outputs": [
      {
       "data": {
        "image/png": "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\n",
        "text/plain": "<Figure size 432x288 with 3 Axes>"
       },
       "metadata": {
        "needs_background": "light"
       },
       "output_type": "display_data"
      }
     ],
     "persistentId": "44fbc64a-3039-4922-840e-61288a38a6f4",
     "text": "plot_confusion_matrix(cm, labels, title='Confusion matrix')"
    },
    "executionTime": "2020-05-28T18:22:16.346Z"
   },
   {
    "cell": {
     "executionCount": 38,
     "executionEventId": "e43b5501-b585-4517-995b-f1bb84d3b508",
     "hasError": false,
     "id": "8a0f5744-8894-4849-a8f5-031d42143d21",
     "outputs": [
      {
       "name": "stdout",
       "output_type": "stream",
       "text": "Counter({'e': 152469, 'b': 115967, 't': 108344, 'm': 45639})\n  category    news   percent\n0        b  115967  0.274531\n1        e  152469  0.360943\n2        m   45639  0.108042\n3        t  108344  0.256485\ntotal \t 422419\n"
      }
     ],
     "persistentId": "d6f87979-07c5-4184-a612-667d24514975",
     "text": "from collections import Counter\n\ndef count_data(labels,categories):    \n    c = Counter(categories)\n    print(c)\n    cont = dict(c)\n    # total number of news\n    tot = sum(list(cont.values()))     \n    d = {\n        \"category\" : labels,\n        \"news\" : [cont[l] for l in labels],\n        \"percent\" : [cont[l]/tot for l in labels]\n    }\n   \n    print(pd.DataFrame(d))   \n    print(\"total \\t\",tot) \n    \n    return cont\n\ncont = count_data(labels,categories)"
    },
    "executionTime": "2020-05-29T17:10:26.374Z"
   },
   {
    "cell": {
     "executionCount": 39,
     "executionEventId": "119bb86b-a4dc-47c0-81a8-b63d2f34c6a2",
     "hasError": false,
     "id": "8a0f5744-8894-4849-a8f5-031d42143d21",
     "outputs": [
      {
       "name": "stdout",
       "output_type": "stream",
       "text": "Counter({'e': 152469, 'b': 115967, 't': 108344, 'm': 45639})\n{'t': 108344, 'e': 152469, 'm': 45639, 'b': 115967}\n  category    news   percent\n0        b  115967  0.274531\n1        e  152469  0.360943\n2        m   45639  0.108042\n3        t  108344  0.256485\ntotal \t 422419\n"
      }
     ],
     "persistentId": "d6f87979-07c5-4184-a612-667d24514975",
     "text": "from collections import Counter\n\ndef count_data(labels,categories):    \n    c = Counter(categories)\n    print(c)\n    cont = dict(c)\n    print(cont)\n    # total number of news\n    tot = sum(list(cont.values()))     \n    d = {\n        \"category\" : labels,\n        \"news\" : [cont[l] for l in labels],\n        \"percent\" : [cont[l]/tot for l in labels]\n    }\n   \n    print(pd.DataFrame(d))   \n    print(\"total \\t\",tot) \n    \n    return cont\n\ncont = count_data(labels,categories)"
    },
    "executionTime": "2020-05-29T17:10:33.968Z"
   },
   {
    "cell": {
     "executionCount": 1,
     "executionEventId": "a2cea6ab-d9ff-4868-9ebb-3272fde2f152",
     "hasError": false,
     "id": "d6b1e114-841b-4b26-8ac8-ab6efdb38571",
     "outputs": [],
     "persistentId": "6809247c-e57e-44d1-9517-bd0de4f314fc",
     "text": "%matplotlib inline\nimport pandas as pd "
    },
    "executionTime": "2020-05-29T17:11:29.476Z"
   },
   {
    "cell": {
     "executionCount": 2,
     "executionEventId": "72eaae4a-b1b9-40aa-b95f-0de40a266ed1",
     "hasError": false,
     "id": "e524f619-aa24-4fbb-b591-8338245d0d11",
     "outputs": [],
     "persistentId": "b7b06fa8-1beb-4b02-aa18-76d4c6c796e8",
     "text": "titles = [] # list of news titles\ncategories = [] # list of news categories\nlabels = [] # list of different categories (without repetitions)\nnlabels = 4 # number of different categories\nlnews = [] # list of dictionaries with two fields: one for the news and \n            # the other for its category"
    },
    "executionTime": "2020-05-29T17:11:29.485Z"
   },
   {
    "cell": {
     "executionCount": 3,
     "executionEventId": "567ef4cb-1847-4e24-aaf8-6cbc03e081a1",
     "hasError": false,
     "id": "803b7c4d-bbf8-4e7e-baa1-51a1b510718f",
     "outputs": [],
     "persistentId": "56086ab7-c222-466e-8dc4-1eb5a960d403",
     "text": "def import_data():\n    global titles, labels, categories\n    # importing news aggregator data via Pandas (Python Data Analysis Library)\n    news = pd.read_csv(\"uci-news-aggregator.csv\")\n    # function 'head' shows the first 5 items in a column (or\n    # the first 5 rows in the DataFrame)\n    print(news.head())\n    categories = news['CATEGORY']\n    titles = news['TITLE']\n    labels = sorted(list(set(categories)))    "
    },
    "executionTime": "2020-05-29T17:11:32.905Z"
   },
   {
    "cell": {
     "executionCount": 4,
     "executionEventId": "afe27e8d-1e43-4146-ac51-0948ad159f99",
     "hasError": false,
     "id": "7e634070-cb30-424f-baef-ca5b2bb92118",
     "outputs": [
      {
       "name": "stdout",
       "output_type": "stream",
       "text": "   ID                                              TITLE  \\\n0   1  Fed official says weak data caused by weather,...   \n1   2  Fed's Charles Plosser sees high bar for change...   \n2   3  US open: Stocks fall after Fed official hints ...   \n3   4  Fed risks falling 'behind the curve', Charles ...   \n4   5  Fed's Plosser: Nasty Weather Has Curbed Job Gr...   \n\n                                                 URL          PUBLISHER  \\\n0  http://www.latimes.com/business/money/la-fi-mo...  Los Angeles Times   \n1  http://www.livemint.com/Politics/H2EvwJSK2VE6O...           Livemint   \n2  http://www.ifamagazine.com/news/us-open-stocks...       IFA Magazine   \n3  http://www.ifamagazine.com/news/fed-risks-fall...       IFA Magazine   \n4  http://www.moneynews.com/Economy/federal-reser...          Moneynews   \n\n  CATEGORY                          STORY             HOSTNAME      TIMESTAMP  \n0        b  ddUyU0VZz0BRneMioxUPQVP6sIxvM      www.latimes.com  1394470370698  \n1        b  ddUyU0VZz0BRneMioxUPQVP6sIxvM     www.livemint.com  1394470371207  \n2        b  ddUyU0VZz0BRneMioxUPQVP6sIxvM  www.ifamagazine.com  1394470371550  \n3        b  ddUyU0VZz0BRneMioxUPQVP6sIxvM  www.ifamagazine.com  1394470371793  \n4        b  ddUyU0VZz0BRneMioxUPQVP6sIxvM    www.moneynews.com  1394470372027  \nCPU times: user 1.52 s, sys: 163 ms, total: 1.69 s\nWall time: 1.84 s\n"
      }
     ],
     "persistentId": "8b2dc817-d07d-421a-889d-fa6a7776f28b",
     "text": "%time import_data()"
    },
    "executionTime": "2020-05-29T17:11:35.523Z"
   },
   {
    "cell": {
     "executionCount": 5,
     "executionEventId": "514b53d3-960a-4874-b408-fc186080a80d",
     "hasError": false,
     "id": "8a0f5744-8894-4849-a8f5-031d42143d21",
     "outputs": [
      {
       "name": "stdout",
       "output_type": "stream",
       "text": "  category    news   percent\n0        b  115967  0.274531\n1        e  152469  0.360943\n2        m   45639  0.108042\n3        t  108344  0.256485\ntotal \t 422419\n"
      }
     ],
     "persistentId": "d6f87979-07c5-4184-a612-667d24514975",
     "text": "from collections import Counter\n\ndef count_data(labels,categories):    \n    c = Counter(categories)\n    cont = dict(c)\n    # total number of news\n    tot = sum(list(cont.values()))     \n    d = {\n        \"category\" : labels,\n        \"news\" : [cont[l] for l in labels],\n        \"percent\" : [cont[l]/tot for l in labels]\n    }\n   \n    print(pd.DataFrame(d))   \n    print(\"total \\t\",tot) \n    \n    return cont\n\ncont = count_data(labels,categories)"
    },
    "executionTime": "2020-05-29T17:11:41.246Z"
   },
   {
    "cell": {
     "executionCount": 6,
     "executionEventId": "a9eb12f0-f5f8-4f5f-9937-fe04099da5fe",
     "hasError": false,
     "id": "9e3b2619-afe7-4e6a-bfdd-835eb16914eb",
     "outputs": [
      {
       "data": {
        "image/png": "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\n",
        "text/plain": "<Figure size 432x288 with 1 Axes>"
       },
       "metadata": {},
       "output_type": "display_data"
      }
     ],
     "persistentId": "287dfc3f-c31e-4d55-8f6b-3f90ebcbe642",
     "text": "import pylab as pl # useful for drawing graphics\n\ndef categories_pie_plot(cont,tit):\n    global labels\n    sizes = [cont[l] for l in labels]\n    pl.pie(sizes, explode=(0, 0, 0, 0), labels=labels,\n        autopct='%1.1f%%', shadow=True, startangle=90)\n    pl.title(tit)\n    pl.show()\n    \ncategories_pie_plot(cont,\"Plotting categories\")"
    },
    "executionTime": "2020-05-29T17:11:43.812Z"
   },
   {
    "cell": {
     "executionCount": 7,
     "executionEventId": "c03ff7ff-dd25-43b6-a11e-365a278bc025",
     "hasError": false,
     "id": "b6eb6a66-f661-47e5-84c0-4079804ec134",
     "outputs": [],
     "persistentId": "20f266ea-dd69-4f0b-91d5-79055513c30b",
     "text": "from sklearn.utils import shuffle # Shuffle arrays in a consistent way\n\nX_train = []\ny_train = []\nX_test = []\ny_test = []\n\ndef split_data():\n    global titles, categories\n    global X_train, y_train, X_test, y_test,labels\n    N = len(titles)\n    Ntrain = int(N * 0.7)    \n    # Let's shuffle the data\n    titles, categories = shuffle(titles, categories, random_state=0)\n    X_train = titles[:Ntrain]\n    y_train = categories[:Ntrain]\n    X_test = titles[Ntrain:]\n    y_test = categories[Ntrain:]"
    },
    "executionTime": "2020-05-29T17:18:03.589Z"
   },
   {
    "cell": {
     "executionCount": 8,
     "executionEventId": "4c9094d0-3d76-4647-8f9a-ce7824169976",
     "hasError": false,
     "id": "f67e11e0-c893-4351-8057-ba888a6c0e75",
     "outputs": [
      {
       "name": "stdout",
       "output_type": "stream",
       "text": "CPU times: user 147 ms, sys: 37.2 ms, total: 184 ms\nWall time: 204 ms\n"
      }
     ],
     "persistentId": "ec9aad8a-94dc-44ed-b4b2-8a6966200743",
     "text": "%time split_data()"
    },
    "executionTime": "2020-05-29T17:18:04.514Z"
   },
   {
    "cell": {
     "executionCount": 9,
     "executionEventId": "1bc2ee23-1cad-4c8f-9477-b41a542a7397",
     "hasError": false,
     "id": "85aed7f7-b8f1-4d9b-af5d-618c77e9ca52",
     "outputs": [
      {
       "name": "stdout",
       "output_type": "stream",
       "text": "  category    news   percent\n0        b   81238  0.274738\n1        e  106844  0.361334\n2        m   31930  0.107984\n3        t   75681  0.255945\ntotal \t 295693\n"
      }
     ],
     "persistentId": "b3e57bae-0724-4559-ad2b-096d8da6407a",
     "text": "cont2 = count_data(labels,y_train)"
    },
    "executionTime": "2020-05-29T17:18:05.899Z"
   },
   {
    "cell": {
     "executionCount": 10,
     "executionEventId": "9d2786eb-4a98-4915-a21f-dd9addb0f119",
     "hasError": false,
     "id": "c09f11ba-f250-413e-a58d-a80778a095e8",
     "outputs": [
      {
       "data": {
        "image/png": "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\n",
        "text/plain": "<Figure size 432x288 with 1 Axes>"
       },
       "metadata": {},
       "output_type": "display_data"
      }
     ],
     "persistentId": "b2875505-d640-47ce-b9a9-fc0521c15d86",
     "text": "categories_pie_plot(cont2,\"Categories % in training set\")"
    },
    "executionTime": "2020-05-29T17:18:07.741Z"
   },
   {
    "cell": {
     "executionCount": 11,
     "executionEventId": "a48248b0-b924-4df7-bbc9-5b1d4954c150",
     "hasError": false,
     "id": "e6a5eb58-7611-4974-ac0f-368678fd47b5",
     "outputs": [],
     "persistentId": "05375fb1-c292-40b5-ae27-4535625bc49a",
     "text": "from sklearn.feature_extraction.text import CountVectorizer \nfrom sklearn.feature_extraction.text import TfidfTransformer \nfrom sklearn.naive_bayes import MultinomialNB, BernoulliNB, ComplementNB\n\nfrom sklearn.pipeline import Pipeline \nfrom sklearn import metrics \nimport numpy as np\nimport pprint\n\n# lmats = [] # list of confussion matrix \nnrows = nlabels\nncols = nlabels\n# conf_mat_sum = np.zeros((nrows, ncols))\n# f1_acum = [] # list of f1-score\n\ndef train_test():\n    global X_train, y_train, X_test, y_test, labels \n    #lmats, \\\n     #       conf_mat_sum, f1_acum, ncategories\n    text_clf = Pipeline([('vect', CountVectorizer()),\n                         ('tfidf', TfidfTransformer()),\n                         ('clf', MultinomialNB()),\n                         ])\n    text_clf = text_clf.fit(X_train, y_train)\n    predicted = text_clf.predict(X_test)\n    return predicted"
    },
    "executionTime": "2020-05-29T17:18:09.933Z"
   },
   {
    "cell": {
     "executionCount": 12,
     "executionEventId": "462f9e69-43f5-4d1b-bcfb-4e40760b9033",
     "hasError": false,
     "id": "e265958a-a9f6-4336-a452-a4b884c6b821",
     "outputs": [
      {
       "name": "stdout",
       "output_type": "stream",
       "text": "CPU times: user 4.87 s, sys: 151 ms, total: 5.03 s\nWall time: 5.1 s\n"
      }
     ],
     "persistentId": "8376c486-92c2-40b3-ab3f-793bcd4fc5ee",
     "text": "%time predicted = train_test()"
    },
    "executionTime": "2020-05-29T17:18:16.630Z"
   },
   {
    "cell": {
     "executionCount": 13,
     "executionEventId": "aada6287-e828-4978-a985-8a05ff9311af",
     "hasError": false,
     "id": "b795b1eb-fcf9-47de-bf55-8b87cda60654",
     "outputs": [
      {
       "data": {
        "text/plain": "0.9238041128103152"
       },
       "execution_count": 13,
       "metadata": {},
       "output_type": "execute_result"
      }
     ],
     "persistentId": "9a8422b7-d4fd-41c9-bb85-3468b9e82b0d",
     "text": "metrics.accuracy_score(y_test, predicted)"
    },
    "executionTime": "2020-05-29T17:18:16.783Z"
   },
   {
    "cell": {
     "executionCount": 14,
     "executionEventId": "9cae1882-4882-4fe0-98a5-2846b505a232",
     "hasError": false,
     "id": "1b51c1ea-d569-46f1-82e2-2a6429c55cad",
     "outputs": [
      {
       "name": "stdout",
       "output_type": "stream",
       "text": "              precision    recall  f1-score   support\n\n           b       0.90      0.91      0.90     34729\n           e       0.95      0.97      0.96     45625\n           m       0.97      0.85      0.90     13709\n           t       0.90      0.90      0.90     32663\n\n    accuracy                           0.92    126726\n   macro avg       0.93      0.91      0.92    126726\nweighted avg       0.92      0.92      0.92    126726\n\n"
      }
     ],
     "persistentId": "ce4e5605-1f59-4bbc-ab63-25c61e2fd982",
     "text": "print(metrics.classification_report(y_test, predicted, target_names=labels))"
    },
    "executionTime": "2020-05-29T17:18:19.863Z"
   },
   {
    "cell": {
     "executionCount": 15,
     "executionEventId": "0d254f6c-3cbc-4c6f-94c4-04775b35da4f",
     "hasError": false,
     "id": "924a1b68-6902-442c-ad1c-00f6feecf031",
     "outputs": [
      {
       "data": {
        "text/plain": "array([[0.91004636, 0.02361139, 0.00552852, 0.06081373],\n       [0.01176986, 0.97192329, 0.00192877, 0.01437808],\n       [0.06200306, 0.06193012, 0.84601357, 0.03005325],\n       [0.06778312, 0.02510486, 0.00324526, 0.90386676]])"
       },
       "execution_count": 15,
       "metadata": {},
       "output_type": "execute_result"
      }
     ],
     "persistentId": "1fa2ed7d-28f8-4ac5-9506-dc9a44059d36",
     "text": "mat = metrics.confusion_matrix(y_test, predicted,labels=labels)\ncm = mat.astype('float') / mat.sum(axis=1)[:, np.newaxis]\ncm"
    },
    "executionTime": "2020-05-29T17:18:22.258Z"
   },
   {
    "cell": {
     "executionCount": 16,
     "executionEventId": "101892ef-7a6f-4c2b-a2ac-98e2d04eb12c",
     "hasError": false,
     "id": "314e1d41-3fc5-4c4f-8332-8afa8204bf5d",
     "outputs": [],
     "persistentId": "b05e946b-266c-4467-b55c-a28481e00958",
     "text": "import itertools\nimport matplotlib.pyplot as plt\n\ndef plot_confusion_matrix(cm, classes,\n                          title='Confusion matrix',\n                          cmap=plt.cm.Blues):\n    \"\"\"\n    This function prints and plots the confusion matrix.\n    \"\"\"\n    plt.imshow(cm, interpolation='nearest', cmap=cmap)\n    plt.title(title)\n    plt.colorbar()\n    tick_marks = np.arange(len(classes))\n    plt.xticks(tick_marks, classes, rotation=45)\n    plt.yticks(tick_marks, classes)\n\n    thresh = cm.max() / 2.\n    for i, j in itertools.product(range(cm.shape[0]), range(cm.shape[1])):\n        plt.text(j, i, '{:5.2f}'.format(cm[i, j]),\n                 horizontalalignment=\"center\",\n                 color=\"white\" if cm[i, j] > thresh else \"black\")\n\n    plt.tight_layout()\n    plt.ylabel('True label')\n    plt.xlabel('Predicted label')\n    plt.colorbar()\n    plt.show()"
    },
    "executionTime": "2020-05-29T17:18:23.737Z"
   },
   {
    "cell": {
     "executionCount": 17,
     "executionEventId": "6dbbcff4-59a8-48f7-a11e-587b4aead2db",
     "hasError": false,
     "id": "f2d33c9e-3937-49f0-aee7-e188082033b7",
     "outputs": [
      {
       "data": {
        "image/png": "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\n",
        "text/plain": "<Figure size 432x288 with 3 Axes>"
       },
       "metadata": {
        "needs_background": "light"
       },
       "output_type": "display_data"
      }
     ],
     "persistentId": "44fbc64a-3039-4922-840e-61288a38a6f4",
     "text": "plot_confusion_matrix(cm, labels, title='Confusion matrix')"
    },
    "executionTime": "2020-05-29T17:18:25.097Z"
   },
   {
    "cell": {
     "executionCount": 18,
     "executionEventId": "3c6ab552-8167-4744-a46a-b9e1079cd4a7",
     "hasError": false,
     "id": "e6a5eb58-7611-4974-ac0f-368678fd47b5",
     "outputs": [],
     "persistentId": "05375fb1-c292-40b5-ae27-4535625bc49a",
     "text": "from sklearn.feature_extraction.text import CountVectorizer \nfrom sklearn.feature_extraction.text import TfidfTransformer \nfrom sklearn.naive_bayes import MultinomialNB, BernoulliNB, ComplementNB\n\nfrom sklearn.pipeline import Pipeline \nfrom sklearn import metrics \nimport numpy as np\nimport pprint\n\n# lmats = [] # list of confussion matrix \nnrows = nlabels\nncols = nlabels\n# conf_mat_sum = np.zeros((nrows, ncols))\n# f1_acum = [] # list of f1-score\n\ndef train_test():\n    global X_train, y_train, X_test, y_test, labels \n    #lmats, \\\n     #       conf_mat_sum, f1_acum, ncategories\n    text_clf = Pipeline([('vect', CountVectorizer()),\n                         ('tfidf', TfidfTransformer()),\n                         ('clf', MultinomialNB()),\n                         ])\n    text_clf = text_clf.fit(X_train, y_train)\n    predicted = text_clf.predict(X_test)\n    return predicted"
    },
    "executionTime": "2020-05-29T17:20:20.745Z"
   },
   {
    "cell": {
     "executionCount": 19,
     "executionEventId": "01e49371-a922-490a-8f3b-19912cf99880",
     "hasError": false,
     "id": "e6a5eb58-7611-4974-ac0f-368678fd47b5",
     "outputs": [],
     "persistentId": "05375fb1-c292-40b5-ae27-4535625bc49a",
     "text": "from sklearn.feature_extraction.text import CountVectorizer \nfrom sklearn.feature_extraction.text import TfidfTransformer \nfrom sklearn.naive_bayes import MultinomialNB, BernoulliNB, ComplementNB\n\nfrom sklearn.pipeline import Pipeline \nfrom sklearn import metrics \nimport numpy as np\nimport pprint\n\n# lmats = [] # list of confussion matrix \nnrows = nlabels\nncols = nlabels\n# conf_mat_sum = np.zeros((nrows, ncols))\n# f1_acum = [] # list of f1-score\n\ndef train_test():\n    global X_train, y_train, X_test, y_test, labels \n    #lmats, \\\n     #       conf_mat_sum, f1_acum, ncategories\n    text_clf = Pipeline([('vect', CountVectorizer()),\n                         ('tfidf', TfidfTransformer()),\n                         ('clf', MultinomialNB()),\n                         ])\n    text_clf = text_clf.fit(X_train, y_train)\n    predicted = text_clf.predict(X_test)\n    return predicted"
    },
    "executionTime": "2020-05-29T17:20:25.302Z"
   },
   {
    "cell": {
     "executionCount": 20,
     "executionEventId": "304f2d9b-c63a-4336-908e-87be97c6cf57",
     "hasError": false,
     "id": "e265958a-a9f6-4336-a452-a4b884c6b821",
     "outputs": [],
     "persistentId": "8376c486-92c2-40b3-ab3f-793bcd4fc5ee",
     "text": "predicted = train_test()"
    },
    "executionTime": "2020-05-29T17:20:31.908Z"
   },
   {
    "cell": {
     "executionCount": 21,
     "executionEventId": "57cb4bf8-7204-4d0d-808e-f12a9f0c94e6",
     "hasError": false,
     "id": "b795b1eb-fcf9-47de-bf55-8b87cda60654",
     "outputs": [
      {
       "data": {
        "text/plain": "0.9238041128103152"
       },
       "execution_count": 21,
       "metadata": {},
       "output_type": "execute_result"
      }
     ],
     "persistentId": "9a8422b7-d4fd-41c9-bb85-3468b9e82b0d",
     "text": "metrics.accuracy_score(y_test, predicted)"
    },
    "executionTime": "2020-05-29T17:20:31.988Z"
   },
   {
    "cell": {
     "executionCount": 22,
     "executionEventId": "f340b55b-b9c0-4085-a774-a6a076780088",
     "hasError": false,
     "id": "1b51c1ea-d569-46f1-82e2-2a6429c55cad",
     "outputs": [
      {
       "name": "stdout",
       "output_type": "stream",
       "text": "              precision    recall  f1-score   support\n\n           b       0.90      0.91      0.90     34729\n           e       0.95      0.97      0.96     45625\n           m       0.97      0.85      0.90     13709\n           t       0.90      0.90      0.90     32663\n\n    accuracy                           0.92    126726\n   macro avg       0.93      0.91      0.92    126726\nweighted avg       0.92      0.92      0.92    126726\n\n"
      }
     ],
     "persistentId": "ce4e5605-1f59-4bbc-ab63-25c61e2fd982",
     "text": "print(metrics.classification_report(y_test, predicted, target_names=labels))"
    },
    "executionTime": "2020-05-29T17:20:33.955Z"
   },
   {
    "cell": {
     "executionCount": 23,
     "executionEventId": "b0765e5b-1b25-445a-93ed-b27398ece451",
     "hasError": false,
     "id": "924a1b68-6902-442c-ad1c-00f6feecf031",
     "outputs": [
      {
       "data": {
        "text/plain": "array([[0.91004636, 0.02361139, 0.00552852, 0.06081373],\n       [0.01176986, 0.97192329, 0.00192877, 0.01437808],\n       [0.06200306, 0.06193012, 0.84601357, 0.03005325],\n       [0.06778312, 0.02510486, 0.00324526, 0.90386676]])"
       },
       "execution_count": 23,
       "metadata": {},
       "output_type": "execute_result"
      }
     ],
     "persistentId": "1fa2ed7d-28f8-4ac5-9506-dc9a44059d36",
     "text": "mat = metrics.confusion_matrix(y_test, predicted,labels=labels)\ncm = mat.astype('float') / mat.sum(axis=1)[:, np.newaxis]\ncm"
    },
    "executionTime": "2020-05-29T17:20:34.117Z"
   },
   {
    "cell": {
     "executionCount": 24,
     "executionEventId": "3459eef7-a74a-4860-8b8d-4dfdbafd44d9",
     "hasError": false,
     "id": "314e1d41-3fc5-4c4f-8332-8afa8204bf5d",
     "outputs": [],
     "persistentId": "b05e946b-266c-4467-b55c-a28481e00958",
     "text": "import itertools\nimport matplotlib.pyplot as plt\n\ndef plot_confusion_matrix(cm, classes,\n                          title='Confusion matrix',\n                          cmap=plt.cm.Blues):\n    \"\"\"\n    This function prints and plots the confusion matrix.\n    \"\"\"\n    plt.imshow(cm, interpolation='nearest', cmap=cmap)\n    plt.title(title)\n    plt.colorbar()\n    tick_marks = np.arange(len(classes))\n    plt.xticks(tick_marks, classes, rotation=45)\n    plt.yticks(tick_marks, classes)\n\n    thresh = cm.max() / 2.\n    for i, j in itertools.product(range(cm.shape[0]), range(cm.shape[1])):\n        plt.text(j, i, '{:5.2f}'.format(cm[i, j]),\n                 horizontalalignment=\"center\",\n                 color=\"white\" if cm[i, j] > thresh else \"black\")\n\n    plt.tight_layout()\n    plt.ylabel('True label')\n    plt.xlabel('Predicted label')\n    plt.colorbar()\n    plt.show()"
    },
    "executionTime": "2020-05-29T17:20:34.137Z"
   },
   {
    "cell": {
     "executionCount": 25,
     "executionEventId": "e1903d68-ea06-4121-b6c3-ac7c860fae41",
     "hasError": false,
     "id": "f2d33c9e-3937-49f0-aee7-e188082033b7",
     "outputs": [
      {
       "data": {
        "image/png": "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\n",
        "text/plain": "<Figure size 432x288 with 3 Axes>"
       },
       "metadata": {
        "needs_background": "light"
       },
       "output_type": "display_data"
      }
     ],
     "persistentId": "44fbc64a-3039-4922-840e-61288a38a6f4",
     "text": "plot_confusion_matrix(cm, labels, title='Confusion matrix')"
    },
    "executionTime": "2020-05-29T17:20:34.508Z"
   },
   {
    "cell": {
     "executionCount": 26,
     "executionEventId": "938df296-512c-40f9-a6de-99510a46e646",
     "hasError": false,
     "id": "e6a5eb58-7611-4974-ac0f-368678fd47b5",
     "outputs": [],
     "persistentId": "05375fb1-c292-40b5-ae27-4535625bc49a",
     "text": "from sklearn.feature_extraction.text import CountVectorizer \nfrom sklearn.feature_extraction.text import TfidfTransformer \nfrom sklearn.naive_bayes import MultinomialNB, BernoulliNB, ComplementNB\n\nfrom sklearn.pipeline import Pipeline \nfrom sklearn import metrics \nimport numpy as np\nimport pprint\n\n# lmats = [] # list of confussion matrix \nnrows = nlabels\nncols = nlabels\n# conf_mat_sum = np.zeros((nrows, ncols))\n# f1_acum = [] # list of f1-score\n\ndef train_test():\n    global X_train, y_train, X_test, y_test, labels \n    #lmats, \\\n     #       conf_mat_sum, f1_acum, ncategories\n    text_clf = Pipeline([('vect', CountVectorizer()),\n                         ('tfidf', TfidfTransformer()),\n                         ('clf', ComplementNB()),\n                         ])\n    text_clf = text_clf.fit(X_train, y_train)\n    predicted = text_clf.predict(X_test)\n    return predicted"
    },
    "executionTime": "2020-05-29T17:21:34.030Z"
   },
   {
    "cell": {
     "executionCount": 27,
     "executionEventId": "9752fc66-c74c-4cc4-88cc-b49432a4cc5a",
     "hasError": false,
     "id": "6065b726-5ce3-4780-bd77-7fc8db1e3598",
     "outputs": [],
     "persistentId": "1fa38fa4-768f-4355-9182-7f67b4d89dee",
     "text": "predicted = train_test()"
    },
    "executionTime": "2020-05-29T17:21:41.570Z"
   },
   {
    "cell": {
     "executionCount": 28,
     "executionEventId": "9c3d4684-f4c6-478e-a727-12127fe5b7af",
     "hasError": false,
     "id": "b795b1eb-fcf9-47de-bf55-8b87cda60654",
     "outputs": [
      {
       "data": {
        "text/plain": "0.9279232359578934"
       },
       "execution_count": 28,
       "metadata": {},
       "output_type": "execute_result"
      }
     ],
     "persistentId": "9a8422b7-d4fd-41c9-bb85-3468b9e82b0d",
     "text": "metrics.accuracy_score(y_test, predicted)"
    },
    "executionTime": "2020-05-29T17:21:41.660Z"
   },
   {
    "cell": {
     "executionCount": 29,
     "executionEventId": "176de136-e1a4-4b14-ac37-e2fb3d763b69",
     "hasError": false,
     "id": "1b51c1ea-d569-46f1-82e2-2a6429c55cad",
     "outputs": [
      {
       "name": "stdout",
       "output_type": "stream",
       "text": "              precision    recall  f1-score   support\n\n           b       0.91      0.91      0.91     34729\n           e       0.95      0.97      0.96     45625\n           m       0.92      0.91      0.92     13709\n           t       0.91      0.90      0.91     32663\n\n    accuracy                           0.93    126726\n   macro avg       0.92      0.92      0.92    126726\nweighted avg       0.93      0.93      0.93    126726\n\n"
      }
     ],
     "persistentId": "ce4e5605-1f59-4bbc-ab63-25c61e2fd982",
     "text": "print(metrics.classification_report(y_test, predicted, target_names=labels))"
    },
    "executionTime": "2020-05-29T17:21:43.568Z"
   },
   {
    "cell": {
     "executionCount": 30,
     "executionEventId": "7ccb09a6-a356-419d-8d46-6e159f2d78f3",
     "hasError": false,
     "id": "924a1b68-6902-442c-ad1c-00f6feecf031",
     "outputs": [
      {
       "data": {
        "text/plain": "array([[0.90722451, 0.02168217, 0.01396527, 0.05712805],\n       [0.01201096, 0.96876712, 0.00495342, 0.01426849],\n       [0.03581589, 0.03683711, 0.90860019, 0.01874681],\n       [0.06361939, 0.02550286, 0.00988887, 0.90098889]])"
       },
       "execution_count": 30,
       "metadata": {},
       "output_type": "execute_result"
      }
     ],
     "persistentId": "1fa2ed7d-28f8-4ac5-9506-dc9a44059d36",
     "text": "mat = metrics.confusion_matrix(y_test, predicted,labels=labels)\ncm = mat.astype('float') / mat.sum(axis=1)[:, np.newaxis]\ncm"
    },
    "executionTime": "2020-05-29T17:21:43.740Z"
   },
   {
    "cell": {
     "executionCount": 31,
     "executionEventId": "7c01ffca-2b33-4dc2-a286-956dccb55691",
     "hasError": false,
     "id": "314e1d41-3fc5-4c4f-8332-8afa8204bf5d",
     "outputs": [],
     "persistentId": "b05e946b-266c-4467-b55c-a28481e00958",
     "text": "import itertools\nimport matplotlib.pyplot as plt\n\ndef plot_confusion_matrix(cm, classes,\n                          title='Confusion matrix',\n                          cmap=plt.cm.Blues):\n    \"\"\"\n    This function prints and plots the confusion matrix.\n    \"\"\"\n    plt.imshow(cm, interpolation='nearest', cmap=cmap)\n    plt.title(title)\n    plt.colorbar()\n    tick_marks = np.arange(len(classes))\n    plt.xticks(tick_marks, classes, rotation=45)\n    plt.yticks(tick_marks, classes)\n\n    thresh = cm.max() / 2.\n    for i, j in itertools.product(range(cm.shape[0]), range(cm.shape[1])):\n        plt.text(j, i, '{:5.2f}'.format(cm[i, j]),\n                 horizontalalignment=\"center\",\n                 color=\"white\" if cm[i, j] > thresh else \"black\")\n\n    plt.tight_layout()\n    plt.ylabel('True label')\n    plt.xlabel('Predicted label')\n    plt.colorbar()\n    plt.show()"
    },
    "executionTime": "2020-05-29T17:21:43.765Z"
   },
   {
    "cell": {
     "executionCount": 32,
     "executionEventId": "e1147ec3-8dc5-43bf-9741-421e65bef712",
     "hasError": false,
     "id": "f2d33c9e-3937-49f0-aee7-e188082033b7",
     "outputs": [
      {
       "data": {
        "image/png": "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\n",
        "text/plain": "<Figure size 432x288 with 3 Axes>"
       },
       "metadata": {
        "needs_background": "light"
       },
       "output_type": "display_data"
      }
     ],
     "persistentId": "44fbc64a-3039-4922-840e-61288a38a6f4",
     "text": "plot_confusion_matrix(cm, labels, title='Confusion matrix')"
    },
    "executionTime": "2020-05-29T17:21:44.058Z"
   },
   {
    "cell": {
     "executionCount": 1,
     "executionEventId": "eb50d253-1674-4048-ad49-7def0534e24e",
     "hasError": false,
     "id": "d6b1e114-841b-4b26-8ac8-ab6efdb38571",
     "outputs": [],
     "persistentId": "6809247c-e57e-44d1-9517-bd0de4f314fc",
     "text": "%matplotlib inline\nimport pandas as pd "
    },
    "executionTime": "2020-05-29T17:47:59.812Z"
   },
   {
    "cell": {
     "executionCount": 2,
     "executionEventId": "8e393348-99a7-47a4-8c7b-9f6dbedfe4bf",
     "hasError": false,
     "id": "e524f619-aa24-4fbb-b591-8338245d0d11",
     "outputs": [],
     "persistentId": "b7b06fa8-1beb-4b02-aa18-76d4c6c796e8",
     "text": "titles = [] # list of news titles\ncategories = [] # list of news categories\nlabels = [] # list of different categories (without repetitions)\nnlabels = 4 # number of different categories\nlnews = [] # list of dictionaries with two fields: one for the news and \n            # the other for its category"
    },
    "executionTime": "2020-05-29T17:47:59.817Z"
   },
   {
    "cell": {
     "executionCount": 3,
     "executionEventId": "73e754f9-c41f-4529-be32-bee334a1e67e",
     "hasError": false,
     "id": "803b7c4d-bbf8-4e7e-baa1-51a1b510718f",
     "outputs": [],
     "persistentId": "56086ab7-c222-466e-8dc4-1eb5a960d403",
     "text": "def import_data():\n    # importing news aggregator data via Pandas (Python Data Analysis Library)\n    news = pd.read_csv(\"uci-news-aggregator.csv\")\n    # function 'head' shows the first 5 items in a column (or\n    # the first 5 rows in the DataFrame)\n    print(news.head())\n    categories = news['CATEGORY']\n    titles = news['TITLE']\n    labels = sorted(list(set(categories)))\n    return (categories, titles, labels)"
    },
    "executionTime": "2020-05-29T17:48:00.163Z"
   },
   {
    "cell": {
     "executionCount": 4,
     "executionEventId": "582eacf1-73a8-4257-b26c-dd6dcefc7972",
     "hasError": false,
     "id": "7e634070-cb30-424f-baef-ca5b2bb92118",
     "outputs": [
      {
       "name": "stdout",
       "output_type": "stream",
       "text": "   ID                                              TITLE  \\\n0   1  Fed official says weak data caused by weather,...   \n1   2  Fed's Charles Plosser sees high bar for change...   \n2   3  US open: Stocks fall after Fed official hints ...   \n3   4  Fed risks falling 'behind the curve', Charles ...   \n4   5  Fed's Plosser: Nasty Weather Has Curbed Job Gr...   \n\n                                                 URL          PUBLISHER  \\\n0  http://www.latimes.com/business/money/la-fi-mo...  Los Angeles Times   \n1  http://www.livemint.com/Politics/H2EvwJSK2VE6O...           Livemint   \n2  http://www.ifamagazine.com/news/us-open-stocks...       IFA Magazine   \n3  http://www.ifamagazine.com/news/fed-risks-fall...       IFA Magazine   \n4  http://www.moneynews.com/Economy/federal-reser...          Moneynews   \n\n  CATEGORY                          STORY             HOSTNAME      TIMESTAMP  \n0        b  ddUyU0VZz0BRneMioxUPQVP6sIxvM      www.latimes.com  1394470370698  \n1        b  ddUyU0VZz0BRneMioxUPQVP6sIxvM     www.livemint.com  1394470371207  \n2        b  ddUyU0VZz0BRneMioxUPQVP6sIxvM  www.ifamagazine.com  1394470371550  \n3        b  ddUyU0VZz0BRneMioxUPQVP6sIxvM  www.ifamagazine.com  1394470371793  \n4        b  ddUyU0VZz0BRneMioxUPQVP6sIxvM    www.moneynews.com  1394470372027  \n"
      }
     ],
     "persistentId": "8b2dc817-d07d-421a-889d-fa6a7776f28b",
     "text": "categories, titles, labels = import_data()"
    },
    "executionTime": "2020-05-29T17:48:02.286Z"
   },
   {
    "cell": {
     "executionCount": 5,
     "executionEventId": "0efc54fb-9816-4d09-ba3f-e7640f09bdce",
     "hasError": false,
     "id": "8a0f5744-8894-4849-a8f5-031d42143d21",
     "outputs": [
      {
       "name": "stdout",
       "output_type": "stream",
       "text": "  category    news   percent\n0        b  115967  0.274531\n1        e  152469  0.360943\n2        m   45639  0.108042\n3        t  108344  0.256485\ntotal \t 422419\n"
      }
     ],
     "persistentId": "d6f87979-07c5-4184-a612-667d24514975",
     "text": "from collections import Counter\n\ndef count_data(labels,categories):    \n    c = Counter(categories)\n    cont = dict(c)\n    # total number of news\n    tot = sum(list(cont.values()))     \n    d = {\n        \"category\" : labels,\n        \"news\" : [cont[l] for l in labels],\n        \"percent\" : [cont[l]/tot for l in labels]\n    }\n   \n    print(pd.DataFrame(d))   \n    print(\"total \\t\",tot) \n    \n    return cont\n\ncont = count_data(labels,categories)"
    },
    "executionTime": "2020-05-29T17:48:02.348Z"
   },
   {
    "cell": {
     "executionCount": 6,
     "executionEventId": "2b48eedb-19a5-4c40-a3d0-ad162ef3b023",
     "hasError": false,
     "id": "9e3b2619-afe7-4e6a-bfdd-835eb16914eb",
     "outputs": [
      {
       "data": {
        "image/png": "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\n",
        "text/plain": "<Figure size 432x288 with 1 Axes>"
       },
       "metadata": {},
       "output_type": "display_data"
      }
     ],
     "persistentId": "287dfc3f-c31e-4d55-8f6b-3f90ebcbe642",
     "text": "import pylab as pl # useful for drawing graphics\n\ndef categories_pie_plot(cont,tit):\n    global labels\n    sizes = [cont[l] for l in labels]\n    pl.pie(sizes, explode=(0, 0, 0, 0), labels=labels,\n        autopct='%1.1f%%', shadow=True, startangle=90)\n    pl.title(tit)\n    pl.show()\n    \ncategories_pie_plot(cont,\"Plotting categories\")"
    },
    "executionTime": "2020-05-29T17:48:02.453Z"
   },
   {
    "cell": {
     "executionCount": 7,
     "executionEventId": "fa941511-038d-487a-b454-4ac4b8fc5d51",
     "hasError": false,
     "id": "b6eb6a66-f661-47e5-84c0-4079804ec134",
     "outputs": [],
     "persistentId": "20f266ea-dd69-4f0b-91d5-79055513c30b",
     "text": "from sklearn.utils import shuffle # Shuffle arrays in a consistent way\n\nX_train = []\ny_train = []\nX_test = []\ny_test = []\n\ndef split_data():\n    global titles, categories\n    global X_train, y_train, X_test, y_test,labels\n    N = len(titles)\n    Ntrain = int(N * 0.7)    \n    # Let's shuffle the data\n    titles, categories = shuffle(titles, categories, random_state=0)\n    X_train = titles[:Ntrain]\n    y_train = categories[:Ntrain]\n    X_test = titles[Ntrain:]\n    y_test = categories[Ntrain:]"
    },
    "executionTime": "2020-05-29T17:48:51.868Z"
   },
   {
    "cell": {
     "executionCount": 8,
     "executionEventId": "fdfa7693-0920-40d0-bd0c-320bc729727f",
     "hasError": false,
     "id": "f67e11e0-c893-4351-8057-ba888a6c0e75",
     "outputs": [
      {
       "name": "stdout",
       "output_type": "stream",
       "text": "CPU times: user 126 ms, sys: 16.1 ms, total: 142 ms\nWall time: 161 ms\n"
      }
     ],
     "persistentId": "ec9aad8a-94dc-44ed-b4b2-8a6966200743",
     "text": "%time split_data()"
    },
    "executionTime": "2020-05-29T17:48:52.048Z"
   },
   {
    "cell": {
     "executionCount": 9,
     "executionEventId": "9cffddd2-4d79-41df-9c01-125ef022558a",
     "hasError": false,
     "id": "b6eb6a66-f661-47e5-84c0-4079804ec134",
     "outputs": [],
     "persistentId": "20f266ea-dd69-4f0b-91d5-79055513c30b",
     "text": "from sklearn.utils import shuffle # Shuffle arrays in a consistent way\n\nX_train = []\ny_train = []\nX_test = []\ny_test = []\n\ndef split_data():\n    global titles, categories\n    global X_train, y_train, X_test, y_test,labels\n    N = len(titles)\n    Ntrain = int(N * 0.7)    \n    # Let's shuffle the data\n    titles, categories = shuffle(titles, categories, random_state=0)\n    X_train = titles[:Ntrain]\n    y_train = categories[:Ntrain]\n    X_test = titles[Ntrain:]\n    y_test = categories[Ntrain:]"
    },
    "executionTime": "2020-05-29T17:48:57.322Z"
   },
   {
    "cell": {
     "executionCount": 10,
     "executionEventId": "a10df5e2-222f-4e3b-bbac-45c23b2f1ee5",
     "hasError": false,
     "id": "b6eb6a66-f661-47e5-84c0-4079804ec134",
     "outputs": [],
     "persistentId": "20f266ea-dd69-4f0b-91d5-79055513c30b",
     "text": "from sklearn.utils import shuffle # Shuffle arrays in a consistent way\n\nX_train = []\ny_train = []\nX_test = []\ny_test = []\n\ndef split_data():\n    global titles, categories\n    global X_train, y_train, X_test, y_test,labels\n    N = len(titles)\n    Ntrain = int(N * 0.7)    \n    # Let's shuffle the data\n    titles, categories = shuffle(titles, categories, random_state=0)\n    X_train = titles[:Ntrain]\n    y_train = categories[:Ntrain]\n    X_test = titles[Ntrain:]\n    y_test = categories[Ntrain:]"
    },
    "executionTime": "2020-05-29T17:48:58.148Z"
   },
   {
    "cell": {
     "executionCount": 11,
     "executionEventId": "6e20cf56-5a35-4e18-ab38-47c1e7fe55b1",
     "hasError": false,
     "id": "f67e11e0-c893-4351-8057-ba888a6c0e75",
     "outputs": [],
     "persistentId": "ec9aad8a-94dc-44ed-b4b2-8a6966200743",
     "text": "split_data()"
    },
    "executionTime": "2020-05-29T17:49:01.264Z"
   },
   {
    "cell": {
     "executionCount": 12,
     "executionEventId": "ed66bd12-7478-4980-83d8-0022f7e99b9a",
     "hasError": false,
     "id": "85aed7f7-b8f1-4d9b-af5d-618c77e9ca52",
     "outputs": [
      {
       "name": "stdout",
       "output_type": "stream",
       "text": "  category    news   percent\n0        b   81343  0.275093\n1        e  106475  0.360086\n2        m   31908  0.107909\n3        t   75967  0.256912\ntotal \t 295693\n"
      }
     ],
     "persistentId": "b3e57bae-0724-4559-ad2b-096d8da6407a",
     "text": "cont2 = count_data(labels,y_train)"
    },
    "executionTime": "2020-05-29T17:49:02.886Z"
   },
   {
    "cell": {
     "executionCount": 13,
     "executionEventId": "fc20e938-8553-4dc9-8b54-f3bda2a8438d",
     "hasError": false,
     "id": "c09f11ba-f250-413e-a58d-a80778a095e8",
     "outputs": [
      {
       "data": {
        "image/png": "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\n",
        "text/plain": "<Figure size 432x288 with 1 Axes>"
       },
       "metadata": {},
       "output_type": "display_data"
      }
     ],
     "persistentId": "b2875505-d640-47ce-b9a9-fc0521c15d86",
     "text": "categories_pie_plot(cont2,\"Categories % in training set\")"
    },
    "executionTime": "2020-05-29T17:49:03.821Z"
   },
   {
    "cell": {
     "executionCount": 14,
     "executionEventId": "95b6ea4c-a2bc-4f88-b764-aa125f1ec178",
     "hasError": false,
     "id": "e6a5eb58-7611-4974-ac0f-368678fd47b5",
     "outputs": [],
     "persistentId": "05375fb1-c292-40b5-ae27-4535625bc49a",
     "text": "from sklearn.feature_extraction.text import CountVectorizer \nfrom sklearn.feature_extraction.text import TfidfTransformer \nfrom sklearn.naive_bayes import MultinomialNB, BernoulliNB, ComplementNB\n\nfrom sklearn.pipeline import Pipeline \nfrom sklearn import metrics \nimport numpy as np\nimport pprint\n\n# lmats = [] # list of confussion matrix \nnrows = nlabels\nncols = nlabels\n# conf_mat_sum = np.zeros((nrows, ncols))\n# f1_acum = [] # list of f1-score\n\ndef train_test():\n    global X_train, y_train, X_test, y_test, labels \n    #lmats, \\\n     #       conf_mat_sum, f1_acum, ncategories\n    text_clf = Pipeline([('vect', CountVectorizer()),\n                         ('tfidf', TfidfTransformer()),\n                         ('clf', MultinomialNB()),\n                         ])\n    text_clf = text_clf.fit(X_train, y_train)\n    predicted = text_clf.predict(X_test)\n    return predicted"
    },
    "executionTime": "2020-05-29T17:49:11.299Z"
   },
   {
    "cell": {
     "executionCount": 15,
     "executionEventId": "c8c4abfe-ad87-425b-98b6-c827df6d0536",
     "hasError": false,
     "id": "6065b726-5ce3-4780-bd77-7fc8db1e3598",
     "outputs": [],
     "persistentId": "1fa38fa4-768f-4355-9182-7f67b4d89dee",
     "text": "predicted = train_test()"
    },
    "executionTime": "2020-05-29T17:49:17.650Z"
   },
   {
    "cell": {
     "executionCount": 16,
     "executionEventId": "44dfb490-00b7-446c-910c-62908eb0e79e",
     "hasError": false,
     "id": "b795b1eb-fcf9-47de-bf55-8b87cda60654",
     "outputs": [
      {
       "data": {
        "text/plain": "0.9251534807379701"
       },
       "execution_count": 16,
       "metadata": {},
       "output_type": "execute_result"
      }
     ],
     "persistentId": "9a8422b7-d4fd-41c9-bb85-3468b9e82b0d",
     "text": "metrics.accuracy_score(y_test, predicted)"
    },
    "executionTime": "2020-05-29T17:49:17.732Z"
   },
   {
    "cell": {
     "executionCount": 17,
     "executionEventId": "db2efc81-8307-4e39-9ae0-1fcec65cfc06",
     "hasError": false,
     "id": "6065b726-5ce3-4780-bd77-7fc8db1e3598",
     "outputs": [],
     "persistentId": "1fa38fa4-768f-4355-9182-7f67b4d89dee",
     "text": "predicted = train_test()"
    },
    "executionTime": "2020-05-29T17:49:26.792Z"
   },
   {
    "cell": {
     "executionCount": 18,
     "executionEventId": "d5eae841-6488-4ba2-a1f2-8fc48d3a90c6",
     "hasError": false,
     "id": "b795b1eb-fcf9-47de-bf55-8b87cda60654",
     "outputs": [
      {
       "data": {
        "text/plain": "0.9251534807379701"
       },
       "execution_count": 18,
       "metadata": {},
       "output_type": "execute_result"
      }
     ],
     "persistentId": "9a8422b7-d4fd-41c9-bb85-3468b9e82b0d",
     "text": "metrics.accuracy_score(y_test, predicted)"
    },
    "executionTime": "2020-05-29T17:49:29.641Z"
   },
   {
    "cell": {
     "executionCount": 19,
     "executionEventId": "7e096bba-c08f-4feb-8ec7-709d6c05f02c",
     "hasError": false,
     "id": "1b51c1ea-d569-46f1-82e2-2a6429c55cad",
     "outputs": [
      {
       "name": "stdout",
       "output_type": "stream",
       "text": "              precision    recall  f1-score   support\n\n           b       0.90      0.91      0.91     34624\n           e       0.95      0.97      0.96     45994\n           m       0.97      0.84      0.90     13731\n           t       0.90      0.91      0.91     32377\n\n    accuracy                           0.93    126726\n   macro avg       0.93      0.91      0.92    126726\nweighted avg       0.93      0.93      0.92    126726\n\n"
      }
     ],
     "persistentId": "ce4e5605-1f59-4bbc-ab63-25c61e2fd982",
     "text": "print(metrics.classification_report(y_test, predicted, target_names=labels))"
    },
    "executionTime": "2020-05-29T17:49:32.422Z"
   },
   {
    "cell": {
     "executionCount": 20,
     "executionEventId": "2b1018cd-4c2f-4e03-a8a7-64300b5ded4f",
     "hasError": false,
     "id": "924a1b68-6902-442c-ad1c-00f6feecf031",
     "outputs": [
      {
       "data": {
        "text/plain": "array([[0.91297944, 0.02264325, 0.00470772, 0.05966959],\n       [0.01174066, 0.97199635, 0.00154368, 0.01471931],\n       [0.06823975, 0.06277766, 0.83956012, 0.02942247],\n       [0.06541681, 0.02375143, 0.0029033 , 0.90792847]])"
       },
       "execution_count": 20,
       "metadata": {},
       "output_type": "execute_result"
      }
     ],
     "persistentId": "1fa2ed7d-28f8-4ac5-9506-dc9a44059d36",
     "text": "mat = metrics.confusion_matrix(y_test, predicted,labels=labels)\ncm = mat.astype('float') / mat.sum(axis=1)[:, np.newaxis]\ncm"
    },
    "executionTime": "2020-05-29T17:49:40.705Z"
   },
   {
    "cell": {
     "executionCount": 21,
     "executionEventId": "84fd6763-071a-489f-a307-42b89f263b24",
     "hasError": false,
     "id": "314e1d41-3fc5-4c4f-8332-8afa8204bf5d",
     "outputs": [],
     "persistentId": "b05e946b-266c-4467-b55c-a28481e00958",
     "text": "import itertools\nimport matplotlib.pyplot as plt\n\ndef plot_confusion_matrix(cm, classes,\n                          title='Confusion matrix',\n                          cmap=plt.cm.Blues):\n    \"\"\"\n    This function prints and plots the confusion matrix.\n    \"\"\"\n    plt.imshow(cm, interpolation='nearest', cmap=cmap)\n    plt.title(title)\n    plt.colorbar()\n    tick_marks = np.arange(len(classes))\n    plt.xticks(tick_marks, classes, rotation=45)\n    plt.yticks(tick_marks, classes)\n\n    thresh = cm.max() / 2.\n    for i, j in itertools.product(range(cm.shape[0]), range(cm.shape[1])):\n        plt.text(j, i, '{:5.2f}'.format(cm[i, j]),\n                 horizontalalignment=\"center\",\n                 color=\"white\" if cm[i, j] > thresh else \"black\")\n\n    plt.tight_layout()\n    plt.ylabel('True label')\n    plt.xlabel('Predicted label')\n    plt.colorbar()\n    plt.show()"
    },
    "executionTime": "2020-05-29T17:49:42.414Z"
   },
   {
    "cell": {
     "executionCount": 22,
     "executionEventId": "a1c36b40-98d7-485c-b6f1-703b321f0e84",
     "hasError": false,
     "id": "f2d33c9e-3937-49f0-aee7-e188082033b7",
     "outputs": [
      {
       "data": {
        "image/png": "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\n",
        "text/plain": "<Figure size 432x288 with 3 Axes>"
       },
       "metadata": {
        "needs_background": "light"
       },
       "output_type": "display_data"
      }
     ],
     "persistentId": "44fbc64a-3039-4922-840e-61288a38a6f4",
     "text": "plot_confusion_matrix(cm, labels, title='Confusion matrix')"
    },
    "executionTime": "2020-05-29T17:49:43.989Z"
   },
   {
    "cell": {
     "executionCount": 1,
     "executionEventId": "f5ca1d04-8025-45ba-bb47-87bd3f8600e8",
     "hasError": false,
     "id": "d6b1e114-841b-4b26-8ac8-ab6efdb38571",
     "outputs": [],
     "persistentId": "6809247c-e57e-44d1-9517-bd0de4f314fc",
     "text": "%matplotlib inline\nimport pandas as pd "
    },
    "executionTime": "2020-05-29T17:52:17.408Z"
   },
   {
    "cell": {
     "executionCount": 2,
     "executionEventId": "89cfeae1-785e-4da0-bdeb-226197fc0134",
     "hasError": false,
     "id": "e524f619-aa24-4fbb-b591-8338245d0d11",
     "outputs": [],
     "persistentId": "b7b06fa8-1beb-4b02-aa18-76d4c6c796e8",
     "text": "nlabels = 4 # number of different categories\nlnews = [] # list of dictionaries with two fields: one for the news and \n            # the other for its category"
    },
    "executionTime": "2020-05-29T17:52:17.751Z"
   },
   {
    "cell": {
     "executionCount": 3,
     "executionEventId": "03120996-f7a8-44f2-9e58-9381e5d2fd81",
     "hasError": false,
     "id": "803b7c4d-bbf8-4e7e-baa1-51a1b510718f",
     "outputs": [],
     "persistentId": "56086ab7-c222-466e-8dc4-1eb5a960d403",
     "text": "def import_data():\n    # importing news aggregator data via Pandas (Python Data Analysis Library)\n    news = pd.read_csv(\"uci-news-aggregator.csv\")\n    # function 'head' shows the first 5 items in a column (or\n    # the first 5 rows in the DataFrame)\n    print(news.head())\n    categories = news['CATEGORY']\n    titles = news['TITLE']\n    labels = sorted(list(set(categories)))\n    return (categories, titles, labels)"
    },
    "executionTime": "2020-05-29T17:52:18.741Z"
   },
   {
    "cell": {
     "executionCount": 4,
     "executionEventId": "3f0f59c1-a5d3-4ee4-b7d8-8042f71393d7",
     "hasError": false,
     "id": "7e634070-cb30-424f-baef-ca5b2bb92118",
     "outputs": [
      {
       "name": "stdout",
       "output_type": "stream",
       "text": "   ID                                              TITLE  \\\n0   1  Fed official says weak data caused by weather,...   \n1   2  Fed's Charles Plosser sees high bar for change...   \n2   3  US open: Stocks fall after Fed official hints ...   \n3   4  Fed risks falling 'behind the curve', Charles ...   \n4   5  Fed's Plosser: Nasty Weather Has Curbed Job Gr...   \n\n                                                 URL          PUBLISHER  \\\n0  http://www.latimes.com/business/money/la-fi-mo...  Los Angeles Times   \n1  http://www.livemint.com/Politics/H2EvwJSK2VE6O...           Livemint   \n2  http://www.ifamagazine.com/news/us-open-stocks...       IFA Magazine   \n3  http://www.ifamagazine.com/news/fed-risks-fall...       IFA Magazine   \n4  http://www.moneynews.com/Economy/federal-reser...          Moneynews   \n\n  CATEGORY                          STORY             HOSTNAME      TIMESTAMP  \n0        b  ddUyU0VZz0BRneMioxUPQVP6sIxvM      www.latimes.com  1394470370698  \n1        b  ddUyU0VZz0BRneMioxUPQVP6sIxvM     www.livemint.com  1394470371207  \n2        b  ddUyU0VZz0BRneMioxUPQVP6sIxvM  www.ifamagazine.com  1394470371550  \n3        b  ddUyU0VZz0BRneMioxUPQVP6sIxvM  www.ifamagazine.com  1394470371793  \n4        b  ddUyU0VZz0BRneMioxUPQVP6sIxvM    www.moneynews.com  1394470372027  \n"
      }
     ],
     "persistentId": "8b2dc817-d07d-421a-889d-fa6a7776f28b",
     "text": "categories, titles, labels = import_data()"
    },
    "executionTime": "2020-05-29T17:52:23.050Z"
   },
   {
    "cell": {
     "executionCount": 5,
     "executionEventId": "d82cbff8-cc4e-422a-8122-b42f21a40074",
     "hasError": false,
     "id": "8a0f5744-8894-4849-a8f5-031d42143d21",
     "outputs": [
      {
       "name": "stdout",
       "output_type": "stream",
       "text": "  category    news   percent\n0        b  115967  0.274531\n1        e  152469  0.360943\n2        m   45639  0.108042\n3        t  108344  0.256485\ntotal \t 422419\n"
      }
     ],
     "persistentId": "d6f87979-07c5-4184-a612-667d24514975",
     "text": "from collections import Counter\n\ndef count_data(labels,categories):    \n    c = Counter(categories)\n    cont = dict(c)\n    # total number of news\n    tot = sum(list(cont.values()))     \n    d = {\n        \"category\" : labels,\n        \"news\" : [cont[l] for l in labels],\n        \"percent\" : [cont[l]/tot for l in labels]\n    }\n   \n    print(pd.DataFrame(d))   \n    print(\"total \\t\",tot) \n    \n    return cont\n\ncont = count_data(labels,categories)"
    },
    "executionTime": "2020-05-29T17:52:23.126Z"
   },
   {
    "cell": {
     "executionCount": 6,
     "executionEventId": "a608a460-486e-4bec-abe5-d1512a7e626c",
     "hasError": false,
     "id": "9e3b2619-afe7-4e6a-bfdd-835eb16914eb",
     "outputs": [
      {
       "data": {
        "image/png": "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\n",
        "text/plain": "<Figure size 432x288 with 1 Axes>"
       },
       "metadata": {},
       "output_type": "display_data"
      }
     ],
     "persistentId": "287dfc3f-c31e-4d55-8f6b-3f90ebcbe642",
     "text": "import pylab as pl # useful for drawing graphics\n\ndef categories_pie_plot(cont,tit):\n    global labels\n    sizes = [cont[l] for l in labels]\n    pl.pie(sizes, explode=(0, 0, 0, 0), labels=labels,\n        autopct='%1.1f%%', shadow=True, startangle=90)\n    pl.title(tit)\n    pl.show()\n    \ncategories_pie_plot(cont,\"Plotting categories\")"
    },
    "executionTime": "2020-05-29T17:52:24.192Z"
   },
   {
    "cell": {
     "executionCount": 7,
     "executionEventId": "32659035-3248-4a1e-8092-3bbb4ef8af37",
     "hasError": true,
     "id": "b6eb6a66-f661-47e5-84c0-4079804ec134",
     "outputs": [
      {
       "ename": "SyntaxError",
       "evalue": "name 'labels' is parameter and global (<ipython-input-7-2f538b343ece>, line 7)",
       "output_type": "error",
       "traceback": [
        "\u001b[0;36m  File \u001b[0;32m\"<ipython-input-7-2f538b343ece>\"\u001b[0;36m, line \u001b[0;32m7\u001b[0m\n\u001b[0;31m    # Let's shuffle the data\u001b[0m\n\u001b[0m           ^\u001b[0m\n\u001b[0;31mSyntaxError\u001b[0m\u001b[0;31m:\u001b[0m name 'labels' is parameter and global\n"
       ]
      }
     ],
     "persistentId": "20f266ea-dd69-4f0b-91d5-79055513c30b",
     "text": "from sklearn.utils import shuffle # Shuffle arrays in a consistent way\n\ndef split_data(labels, categories):\n    global X_train, y_train, X_test, y_test,labels\n    N = len(titles)\n    Ntrain = int(N * 0.7)    \n    # Let's shuffle the data\n    titles, categories = shuffle(titles, categories, random_state=0)\n    X_train = titles[:Ntrain]\n    y_train = categories[:Ntrain]\n    X_test = titles[Ntrain:]\n    y_test = categories[Ntrain:]\n    return (X_train, y_train, X_test, y_test)"
    },
    "executionTime": "2020-05-29T17:52:26.395Z"
   },
   {
    "cell": {
     "executionCount": 8,
     "executionEventId": "5a2164bc-dad3-437b-8ae2-9ad337f0807d",
     "hasError": true,
     "id": "f67e11e0-c893-4351-8057-ba888a6c0e75",
     "outputs": [
      {
       "ename": "NameError",
       "evalue": "name 'split_data' is not defined",
       "output_type": "error",
       "traceback": [
        "\u001b[0;31m-----------------------------------------------------------------------\u001b[0m",
        "\u001b[0;31mNameError\u001b[0m                             Traceback (most recent call last)",
        "\u001b[0;32m<ipython-input-8-264062ba53d0>\u001b[0m in \u001b[0;36m<module>\u001b[0;34m\u001b[0m\n\u001b[0;32m----> 1\u001b[0;31m \u001b[0msplit_data\u001b[0m\u001b[0;34m(\u001b[0m\u001b[0mlabels\u001b[0m\u001b[0;34m,\u001b[0m \u001b[0mcategories\u001b[0m\u001b[0;34m)\u001b[0m\u001b[0;34m\u001b[0m\u001b[0;34m\u001b[0m\u001b[0m\n\u001b[0m",
        "\u001b[0;31mNameError\u001b[0m: name 'split_data' is not defined"
       ]
      }
     ],
     "persistentId": "ec9aad8a-94dc-44ed-b4b2-8a6966200743",
     "text": "split_data(labels, categories)"
    },
    "executionTime": "2020-05-29T17:52:26.829Z"
   },
   {
    "cell": {
     "executionCount": 9,
     "executionEventId": "4123f01d-3a14-4eed-8d70-5792c8a6b9ff",
     "hasError": false,
     "id": "b6eb6a66-f661-47e5-84c0-4079804ec134",
     "outputs": [],
     "persistentId": "20f266ea-dd69-4f0b-91d5-79055513c30b",
     "text": "from sklearn.utils import shuffle # Shuffle arrays in a consistent way\n\ndef split_data(labels, categories, titles):\n    N = len(titles)\n    Ntrain = int(N * 0.7)    \n    # Let's shuffle the data\n    titles, categories = shuffle(titles, categories, random_state=0)\n    X_train = titles[:Ntrain]\n    y_train = categories[:Ntrain]\n    X_test = titles[Ntrain:]\n    y_test = categories[Ntrain:]\n    return (X_train, y_train, X_test, y_test)"
    },
    "executionTime": "2020-05-29T17:53:02.955Z"
   },
   {
    "cell": {
     "executionCount": 10,
     "executionEventId": "dc39cf0d-084a-4e5e-8522-cdb6035a06c9",
     "hasError": false,
     "id": "f67e11e0-c893-4351-8057-ba888a6c0e75",
     "outputs": [
      {
       "data": {
        "text/plain": "(153245    iPhone 6 Release Date Pushed Back Due to Issue...\n 308611    Samsung Galaxy S4 vs Galaxy S3: Budget-Friendl...\n 354964        Warner Brothers Reveals Superman's 'New Look'\n 151664    Local restaurants raising funds for HIV/AIDS T...\n 393995                 Amazon Fire breaks ground for phones\n 154254    Pharrell's 'Marilyn Monroe' Video Loaded With ...\n 50382       Bill banning 'cure' therapies for gays advances\n 407723                                       One final show\n 148878    Allergan Owners Left Wanting More From Valeant...\n 67612     Piers Morgan Ends His Final Show With Gun Cont...\n 40800     Mila Kunis and Ashton Kutcher reportedly expec...\n 321215    Big Gulps Safe After New York City Loses Final...\n 245086             New Home Sales Grew in April 6.4 Percent\n 25169     Why Oracle Earnings Could Make or Break Tech S...\n 214126    Jupiter's Great Red Spot shrank to smallest si...\n 351030    Ryan Gosling and Rachel McAdams hated each oth...\n 219339    Morning MoneyBeat Europe: Data Cupboard Bare, ...\n 23205     'Muppets Most Wanted' review: Welcome back, Ke...\n 150133    Comcast's profit rises; company adds video sub...\n 273449     iOS 8 Tracks Your Location To Launch Or Buy Apps\n 359312    The article requested cannot be found! Please ...\n 122308    Samsung Galaxy S5 vs Galaxy S4 comparison vide...\n 156803    Updated: Jodie Foster marries her photographer...\n 281167    Study finds teens drink and smoke less, text b...\n 145445    Model Says Celebrity Photographer Offered Her ...\n 274260     Jonah Hill sorry for gay slur aimed at paparazzo\n 337879    Pistorius trial: Experts find no sign of menta...\n 212208    Darden To Sell Red Lobster To Golden Gate Capi...\n 71252      GM answering questions from Congress over recall\n 402642    Bachelorette Andi Dorfman and Fiance Josh Murr...\n                                 ...                        \n 87201     BOJ Seen Doubling ETF Purchases in Next Round ...\n 253751    Kim Kardashian and Kanye West tie the knot in ...\n 114004    Leonardo DiCaprio Dancing At Coachella 2014: T...\n 286271    Twitter takes popular Tweetdeck app offline du...\n 179677    Anti-Aging Protein Pumps Up Muscle, Brain Func...\n 394341    What a new law about cellphone unlocking has t...\n 6349      'The Flash': First full costume photo of Grant...\n 416062    Put Away the Ice Bucket and Try the Tacos and ...\n 112549    NASA's putting plants inside special 'pillows'...\n 417732             Alibaba's Mega IPO: Crowding Out Others?\n 359278               Egypt raises fuel prices by up to 78pc\n 139803           US music labels sue Pandora over royalties\n 75754          L.A. Reid and New Music From Michael Jackson\n 250916    Investigators never saw menacing videos before...\n 155307            Facebook Q1 earnings soar to $642 million\n 22966     NBC'S 'The Voice' NAMES CHRIS MARTIN AS KEY AD...\n 296153     Zendaya Will Play Aaliyah in New Lifetime Biopic\n 396259    Bachelorette Proposal: Josh Murray Asks Andi D...\n 379947    Microsoft soon to announce biggest job cuts in...\n 39848     Trending today: One World Trade Center base ju...\n 166435    Toyota's move to Texas also good for employee ...\n 359133                 Daily Trade Flow Review for PetSmart\n 231405    eBay forces users to change their passwords fo...\n 67091     RACHEL JOHNSON: Like all control freaks, Gwynn...\n 253571    The Equalizer Trailer: Denzel Washington Kicks...\n 395806    Beyoncé decides to go house-hunting WITHOUT he...\n 136015       Heineman to sign Nebraska autism coverage bill\n 224693    Third U.S. Man Tests Positive for MERS Virus, ...\n 409608                            US car sales jump in July\n 340221    Lew says cyber-security on agenda for US-China...\n Name: TITLE, Length: 295693, dtype: object,\n 153245    t\n 308611    t\n 354964    e\n 151664    m\n 393995    t\n 154254    e\n 50382     m\n 407723    e\n 148878    b\n 67612     e\n 40800     e\n 321215    m\n 245086    b\n 25169     b\n 214126    t\n 351030    e\n 219339    b\n 23205     e\n 150133    t\n 273449    t\n 359312    b\n 122308    t\n 156803    e\n 281167    m\n 145445    e\n 274260    e\n 337879    m\n 212208    b\n 71252     t\n 402642    e\n          ..\n 87201     b\n 253751    e\n 114004    e\n 286271    t\n 179677    m\n 394341    t\n 6349      e\n 416062    e\n 112549    t\n 417732    b\n 359278    b\n 139803    e\n 75754     e\n 250916    e\n 155307    b\n 22966     e\n 296153    e\n 396259    e\n 379947    t\n 39848     e\n 166435    b\n 359133    b\n 231405    t\n 67091     e\n 253571    e\n 395806    e\n 136015    b\n 224693    m\n 409608    b\n 340221    b\n Name: CATEGORY, Length: 295693, dtype: object,\n 238416    Investors Embrace Momentum Stocks on Otherwise...\n 405418       Relative Strength Alert For Carlisle Companies\n 250347             Catch The First 90 Minutes Of Watch Dogs\n 406006                       US weekly jobless claims surge\n 165978    Jewish mayor of eastern Ukrainian city Kharkiv...\n 211906    Biden warns China about aggressive behavior in...\n 27335     Madonna impresses Game of Thrones cast with he...\n 273680    Chinese media warns US tech companies are cybe...\n 204149     M&A frenzy as Pfizer amasses AstraZeneca critics\n 246330    Jennifer Lawrence Admits to Puking at Oscars P...\n 599       Persisting Ukraine crisis may fuel energy poli...\n 50873     Leading auto finance company Ally Financial se...\n 153420    Astronauts repair space station computer on em...\n 30540     US files charge against Toyota, $1.2 billion p...\n 351059    Gosling, McAdams hated each other on 'Notebook...\n 120420                 Motorola to Vend Enterprise Business\n 284541    A conversation with Bonnaroo co-founder Ashley...\n 46458             W.Va. metros rank lowest in wellness poll\n 93253     Chewbacca Is Returning for 'Star Wars: Episode...\n 374889    Harry Potter Is Back! JK Rowling Publishes New...\n 342950    From family favourite to convicted sex offende...\n 276859    Twitter COO, 'co-CEO' and 'Mr Fix It' Ali Rowg...\n 111075         Parker: Protecting the Heartland from comedy\n 179596                Childbirth maternal deaths rise in US\n 221289          Game of Thrones Review 4.07 - 'Mockingbird'\n 255378    Greeley-based Pilgrim's Pride offers to buy Hi...\n 93868                  Mike Pellerito on Archie's kids line\n 261777            Seth Rogen, Judd Apatow respond to critic\n 159016              New Microsoft CEO impresses Wall Street\n 319988                 Kim Kardashian goes blonde yet again\n                                 ...                        \n 395712    50 Shades of Grey Official Trailer Video Relea...\n 73135     Rick (Andrew Lincoln) and Carl (Chandler Riggs...\n 395087                         Watch the Mockingjay Trailer\n 346110                 Olivia Munn disavows wife stereotype\n 7877            Simple blood test could predict Alzheimer's\n 332752    Andi Dorfman Joining The View Fabricated By Ho...\n 329843             Gas Prices On Rise With Conflict In Iraq\n 400137    Aerial applications to prevent West Nile Virus...\n 82457     Mystery mom finally revealed on How I Met Your...\n 255653    China pushing banks to remove IBM servers in s...\n 363345    Taylor Swift - Taylor Swift hosts star-studded...\n 220760                  5 things you need to know on Monday\n 370775          Samsung Reports Weaker Sales; Cites Reasons\n 150055    Charter Said to Near Deal for Divested Comcast...\n 17089                     Air Force held MH370 data 10 days\n 80186               Fall in inflation heaps pressure on ECB\n 314764             Daily ETF Watch: New Active Fund Planned\n 170584    ATK to split into two companies; cutting jobs ...\n 310744           White House, Tom Steyer to meet on climate\n 212038                Pinterest Has Now Raised $764 Million\n 211543    AMERICANS READY TO TRAVEL MEMORIAL DAY WEEKEND...\n 374564         N.Korea Complains to UN Over Hollywood Movie\n 86293     ABC Announces Barbara Walters' Last Day, Week-...\n 122579     Ford Mustang turns 50. Let the celebration begin\n 304137    Three arrested outside Taylor Swift's Rhode Is...\n 359783    Home Shopping Network website takes pre-orders...\n 358083       Watch The New Teaser For 'Doctor Who' Season 8\n 152315    Eurozone business activity expansion nears thr...\n 117952                   Google Glass to hit stores Tuesday\n 305711    British Pound Exchange Rates Could Harm Recove...\n Name: TITLE, Length: 126726, dtype: object,\n 238416    b\n 405418    b\n 250347    t\n 406006    b\n 165978    b\n 211906    b\n 27335     e\n 273680    t\n 204149    b\n 246330    e\n 599       b\n 50873     b\n 153420    t\n 30540     t\n 351059    e\n 120420    b\n 284541    e\n 46458     m\n 93253     e\n 374889    e\n 342950    e\n 276859    b\n 111075    e\n 179596    m\n 221289    e\n 255378    b\n 93868     e\n 261777    e\n 159016    b\n 319988    e\n          ..\n 395712    e\n 73135     e\n 395087    e\n 346110    e\n 7877      m\n 332752    e\n 329843    b\n 400137    m\n 82457     e\n 255653    b\n 363345    e\n 220760    e\n 370775    b\n 150055    t\n 17089     b\n 80186     b\n 314764    b\n 170584    b\n 310744    b\n 212038    b\n 211543    b\n 374564    e\n 86293     e\n 122579    t\n 304137    e\n 359783    t\n 358083    e\n 152315    b\n 117952    t\n 305711    b\n Name: CATEGORY, Length: 126726, dtype: object)"
       },
       "execution_count": 10,
       "metadata": {},
       "output_type": "execute_result"
      }
     ],
     "persistentId": "ec9aad8a-94dc-44ed-b4b2-8a6966200743",
     "text": "split_data(labels, categories,titles)"
    },
    "executionTime": "2020-05-29T17:53:03.149Z"
   },
   {
    "cell": {
     "executionCount": 11,
     "executionEventId": "4df373cd-a00b-4524-9fe0-1afb4566b9f6",
     "hasError": true,
     "id": "85aed7f7-b8f1-4d9b-af5d-618c77e9ca52",
     "outputs": [
      {
       "ename": "NameError",
       "evalue": "name 'y_train' is not defined",
       "output_type": "error",
       "traceback": [
        "\u001b[0;31m-----------------------------------------------------------------------\u001b[0m",
        "\u001b[0;31mNameError\u001b[0m                             Traceback (most recent call last)",
        "\u001b[0;32m<ipython-input-11-4e2ac8a69b57>\u001b[0m in \u001b[0;36m<module>\u001b[0;34m\u001b[0m\n\u001b[0;32m----> 1\u001b[0;31m \u001b[0mcont2\u001b[0m \u001b[0;34m=\u001b[0m \u001b[0mcount_data\u001b[0m\u001b[0;34m(\u001b[0m\u001b[0mlabels\u001b[0m\u001b[0;34m,\u001b[0m\u001b[0my_train\u001b[0m\u001b[0;34m)\u001b[0m\u001b[0;34m\u001b[0m\u001b[0;34m\u001b[0m\u001b[0m\n\u001b[0m",
        "\u001b[0;31mNameError\u001b[0m: name 'y_train' is not defined"
       ]
      }
     ],
     "persistentId": "b3e57bae-0724-4559-ad2b-096d8da6407a",
     "text": "cont2 = count_data(labels,y_train)"
    },
    "executionTime": "2020-05-29T17:53:17.579Z"
   },
   {
    "cell": {
     "executionCount": 12,
     "executionEventId": "18468295-0060-470c-b633-1c45b7f20b0b",
     "hasError": false,
     "id": "b6eb6a66-f661-47e5-84c0-4079804ec134",
     "outputs": [],
     "persistentId": "20f266ea-dd69-4f0b-91d5-79055513c30b",
     "text": "from sklearn.utils import shuffle # Shuffle arrays in a consistent way\n\ndef split_data(labels, categories, titles):\n    N = len(titles)\n    Ntrain = int(N * 0.7)    \n    # Let's shuffle the data\n    titles, categories = shuffle(titles, categories, random_state=0)\n    X_train = titles[:Ntrain]\n    y_train = categories[:Ntrain]\n    X_test = titles[Ntrain:]\n    y_test = categories[Ntrain:]\n    return (X_train, y_train, X_test, y_test)"
    },
    "executionTime": "2020-05-29T17:53:37.478Z"
   },
   {
    "cell": {
     "executionCount": 13,
     "executionEventId": "0c076e61-22f9-4b2d-a388-fba13c0561c0",
     "hasError": false,
     "id": "f67e11e0-c893-4351-8057-ba888a6c0e75",
     "outputs": [],
     "persistentId": "ec9aad8a-94dc-44ed-b4b2-8a6966200743",
     "text": "X_train, y_train, X_test, y_test = split_data(labels, categories,titles)"
    },
    "executionTime": "2020-05-29T17:53:38.219Z"
   },
   {
    "cell": {
     "executionCount": 14,
     "executionEventId": "269ecf5e-fb6c-42b9-9fe6-a824ba5a2684",
     "hasError": false,
     "id": "85aed7f7-b8f1-4d9b-af5d-618c77e9ca52",
     "outputs": [
      {
       "name": "stdout",
       "output_type": "stream",
       "text": "  category    news   percent\n0        b   81238  0.274738\n1        e  106844  0.361334\n2        m   31930  0.107984\n3        t   75681  0.255945\ntotal \t 295693\n"
      }
     ],
     "persistentId": "b3e57bae-0724-4559-ad2b-096d8da6407a",
     "text": "cont2 = count_data(labels,y_train)"
    },
    "executionTime": "2020-05-29T17:53:39.614Z"
   },
   {
    "cell": {
     "executionCount": 15,
     "executionEventId": "90a826ba-7f93-4970-81e6-668858a6ef75",
     "hasError": false,
     "id": "c09f11ba-f250-413e-a58d-a80778a095e8",
     "outputs": [
      {
       "data": {
        "image/png": "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\n",
        "text/plain": "<Figure size 432x288 with 1 Axes>"
       },
       "metadata": {},
       "output_type": "display_data"
      }
     ],
     "persistentId": "b2875505-d640-47ce-b9a9-fc0521c15d86",
     "text": "categories_pie_plot(cont2,\"Categories % in training set\")"
    },
    "executionTime": "2020-05-29T17:53:40.719Z"
   },
   {
    "cell": {
     "executionCount": 16,
     "executionEventId": "85526245-dbbc-4c95-8ab0-78b60c91bb9a",
     "hasError": false,
     "id": "c09f11ba-f250-413e-a58d-a80778a095e8",
     "outputs": [
      {
       "data": {
        "image/png": "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\n",
        "text/plain": "<Figure size 432x288 with 1 Axes>"
       },
       "metadata": {},
       "output_type": "display_data"
      }
     ],
     "persistentId": "b2875505-d640-47ce-b9a9-fc0521c15d86",
     "text": "categories_pie_plot(cont2,\"Categories % in training set\")"
    },
    "executionTime": "2020-05-29T17:53:45.380Z"
   },
   {
    "cell": {
     "executionCount": 17,
     "executionEventId": "bb337ef9-ed60-4d32-81a6-a5dc35bed7c8",
     "hasError": false,
     "id": "e6a5eb58-7611-4974-ac0f-368678fd47b5",
     "outputs": [],
     "persistentId": "05375fb1-c292-40b5-ae27-4535625bc49a",
     "text": "from sklearn.feature_extraction.text import CountVectorizer \nfrom sklearn.feature_extraction.text import TfidfTransformer \nfrom sklearn.naive_bayes import MultinomialNB, BernoulliNB, ComplementNB\n\nfrom sklearn.pipeline import Pipeline \nfrom sklearn import metrics \nimport numpy as np\nimport pprint\n\n# lmats = [] # list of confussion matrix \nnrows = nlabels\nncols = nlabels\n# conf_mat_sum = np.zeros((nrows, ncols))\n# f1_acum = [] # list of f1-score\n\ndef train_test():\n    global X_train, y_train, X_test, y_test, labels \n    #lmats, \\\n     #       conf_mat_sum, f1_acum, ncategories\n    text_clf = Pipeline([('vect', CountVectorizer()),\n                         ('tfidf', TfidfTransformer()),\n                         ('clf', MultinomialNB()),\n                         ])\n    text_clf = text_clf.fit(X_train, y_train)\n    predicted = text_clf.predict(X_test)\n    return predicted"
    },
    "executionTime": "2020-05-29T17:53:46.299Z"
   },
   {
    "cell": {
     "executionCount": 18,
     "executionEventId": "2e0da3cb-c7d5-41f5-bd5f-ecb3900a0966",
     "hasError": false,
     "id": "6065b726-5ce3-4780-bd77-7fc8db1e3598",
     "outputs": [],
     "persistentId": "1fa38fa4-768f-4355-9182-7f67b4d89dee",
     "text": "predicted = train_test()"
    },
    "executionTime": "2020-05-29T17:53:51.819Z"
   },
   {
    "cell": {
     "executionCount": 19,
     "executionEventId": "0b63c730-120a-49e7-9586-9e35f3f510a3",
     "hasError": false,
     "id": "b795b1eb-fcf9-47de-bf55-8b87cda60654",
     "outputs": [
      {
       "data": {
        "text/plain": "0.9238041128103152"
       },
       "execution_count": 19,
       "metadata": {},
       "output_type": "execute_result"
      }
     ],
     "persistentId": "9a8422b7-d4fd-41c9-bb85-3468b9e82b0d",
     "text": "metrics.accuracy_score(y_test, predicted)"
    },
    "executionTime": "2020-05-29T17:53:51.922Z"
   },
   {
    "cell": {
     "executionCount": 20,
     "executionEventId": "139b9488-1f35-4593-9179-3f49a18c2c66",
     "hasError": false,
     "id": "1b51c1ea-d569-46f1-82e2-2a6429c55cad",
     "outputs": [
      {
       "name": "stdout",
       "output_type": "stream",
       "text": "              precision    recall  f1-score   support\n\n           b       0.90      0.91      0.90     34729\n           e       0.95      0.97      0.96     45625\n           m       0.97      0.85      0.90     13709\n           t       0.90      0.90      0.90     32663\n\n    accuracy                           0.92    126726\n   macro avg       0.93      0.91      0.92    126726\nweighted avg       0.92      0.92      0.92    126726\n\n"
      }
     ],
     "persistentId": "ce4e5605-1f59-4bbc-ab63-25c61e2fd982",
     "text": "print(metrics.classification_report(y_test, predicted, target_names=labels))"
    },
    "executionTime": "2020-05-29T17:53:53.942Z"
   },
   {
    "cell": {
     "executionCount": 21,
     "executionEventId": "9e9cc3aa-1a6a-425b-aeac-60dc3646e17a",
     "hasError": false,
     "id": "924a1b68-6902-442c-ad1c-00f6feecf031",
     "outputs": [
      {
       "data": {
        "text/plain": "array([[0.91004636, 0.02361139, 0.00552852, 0.06081373],\n       [0.01176986, 0.97192329, 0.00192877, 0.01437808],\n       [0.06200306, 0.06193012, 0.84601357, 0.03005325],\n       [0.06778312, 0.02510486, 0.00324526, 0.90386676]])"
       },
       "execution_count": 21,
       "metadata": {},
       "output_type": "execute_result"
      }
     ],
     "persistentId": "1fa2ed7d-28f8-4ac5-9506-dc9a44059d36",
     "text": "mat = metrics.confusion_matrix(y_test, predicted,labels=labels)\ncm = mat.astype('float') / mat.sum(axis=1)[:, np.newaxis]\ncm"
    },
    "executionTime": "2020-05-29T17:53:54.120Z"
   },
   {
    "cell": {
     "executionCount": 22,
     "executionEventId": "0e1f00ae-143c-4291-9ec4-e2f9eb7654a9",
     "hasError": false,
     "id": "314e1d41-3fc5-4c4f-8332-8afa8204bf5d",
     "outputs": [],
     "persistentId": "b05e946b-266c-4467-b55c-a28481e00958",
     "text": "import itertools\nimport matplotlib.pyplot as plt\n\ndef plot_confusion_matrix(cm, classes,\n                          title='Confusion matrix',\n                          cmap=plt.cm.Blues):\n    \"\"\"\n    This function prints and plots the confusion matrix.\n    \"\"\"\n    plt.imshow(cm, interpolation='nearest', cmap=cmap)\n    plt.title(title)\n    plt.colorbar()\n    tick_marks = np.arange(len(classes))\n    plt.xticks(tick_marks, classes, rotation=45)\n    plt.yticks(tick_marks, classes)\n\n    thresh = cm.max() / 2.\n    for i, j in itertools.product(range(cm.shape[0]), range(cm.shape[1])):\n        plt.text(j, i, '{:5.2f}'.format(cm[i, j]),\n                 horizontalalignment=\"center\",\n                 color=\"white\" if cm[i, j] > thresh else \"black\")\n\n    plt.tight_layout()\n    plt.ylabel('True label')\n    plt.xlabel('Predicted label')\n    plt.colorbar()\n    plt.show()"
    },
    "executionTime": "2020-05-29T17:53:54.140Z"
   },
   {
    "cell": {
     "executionCount": 23,
     "executionEventId": "fae25f1e-c7f0-4583-b683-bdbf254b6907",
     "hasError": false,
     "id": "f2d33c9e-3937-49f0-aee7-e188082033b7",
     "outputs": [
      {
       "data": {
        "image/png": "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\n",
        "text/plain": "<Figure size 432x288 with 3 Axes>"
       },
       "metadata": {
        "needs_background": "light"
       },
       "output_type": "display_data"
      }
     ],
     "persistentId": "44fbc64a-3039-4922-840e-61288a38a6f4",
     "text": "plot_confusion_matrix(cm, labels, title='Confusion matrix')"
    },
    "executionTime": "2020-05-29T17:53:54.753Z"
   },
   {
    "cell": {
     "executionCount": 1,
     "executionEventId": "3ebe2c15-fee1-429f-8960-d01d2f8198c1",
     "hasError": false,
     "id": "d6b1e114-841b-4b26-8ac8-ab6efdb38571",
     "outputs": [],
     "persistentId": "6809247c-e57e-44d1-9517-bd0de4f314fc",
     "text": "%matplotlib inline\nimport pandas as pd "
    },
    "executionTime": "2020-05-29T17:59:08.750Z"
   },
   {
    "cell": {
     "executionCount": 2,
     "executionEventId": "ec9181c6-4e52-4d11-9db9-8daaa0b58651",
     "hasError": false,
     "id": "e524f619-aa24-4fbb-b591-8338245d0d11",
     "outputs": [],
     "persistentId": "b7b06fa8-1beb-4b02-aa18-76d4c6c796e8",
     "text": "nlabels = 4 # number of different categories\nlnews = [] # list of dictionaries with two fields: one for the news and \n            # the other for its category"
    },
    "executionTime": "2020-05-29T17:59:08.760Z"
   },
   {
    "cell": {
     "executionCount": 3,
     "executionEventId": "281ecc84-6b3f-4e8b-be6e-320dfd391244",
     "hasError": false,
     "id": "803b7c4d-bbf8-4e7e-baa1-51a1b510718f",
     "outputs": [],
     "persistentId": "56086ab7-c222-466e-8dc4-1eb5a960d403",
     "text": "def import_data():\n    # importing news aggregator data via Pandas (Python Data Analysis Library)\n    news = pd.read_csv(\"uci-news-aggregator.csv\")\n    # function 'head' shows the first 5 items in a column (or\n    # the first 5 rows in the DataFrame)\n    print(news.head())\n    categories = news['CATEGORY']\n    titles = news['TITLE']\n    labels = sorted(list(set(categories)))\n    return (categories, titles, labels)"
    },
    "executionTime": "2020-05-29T17:59:08.778Z"
   },
   {
    "cell": {
     "executionCount": 4,
     "executionEventId": "dcb2d0b0-51bf-437c-a33b-838b0887c8e5",
     "hasError": false,
     "id": "7e634070-cb30-424f-baef-ca5b2bb92118",
     "outputs": [
      {
       "name": "stdout",
       "output_type": "stream",
       "text": "   ID                                              TITLE  \\\n0   1  Fed official says weak data caused by weather,...   \n1   2  Fed's Charles Plosser sees high bar for change...   \n2   3  US open: Stocks fall after Fed official hints ...   \n3   4  Fed risks falling 'behind the curve', Charles ...   \n4   5  Fed's Plosser: Nasty Weather Has Curbed Job Gr...   \n\n                                                 URL          PUBLISHER  \\\n0  http://www.latimes.com/business/money/la-fi-mo...  Los Angeles Times   \n1  http://www.livemint.com/Politics/H2EvwJSK2VE6O...           Livemint   \n2  http://www.ifamagazine.com/news/us-open-stocks...       IFA Magazine   \n3  http://www.ifamagazine.com/news/fed-risks-fall...       IFA Magazine   \n4  http://www.moneynews.com/Economy/federal-reser...          Moneynews   \n\n  CATEGORY                          STORY             HOSTNAME      TIMESTAMP  \n0        b  ddUyU0VZz0BRneMioxUPQVP6sIxvM      www.latimes.com  1394470370698  \n1        b  ddUyU0VZz0BRneMioxUPQVP6sIxvM     www.livemint.com  1394470371207  \n2        b  ddUyU0VZz0BRneMioxUPQVP6sIxvM  www.ifamagazine.com  1394470371550  \n3        b  ddUyU0VZz0BRneMioxUPQVP6sIxvM  www.ifamagazine.com  1394470371793  \n4        b  ddUyU0VZz0BRneMioxUPQVP6sIxvM    www.moneynews.com  1394470372027  \n"
      }
     ],
     "persistentId": "8b2dc817-d07d-421a-889d-fa6a7776f28b",
     "text": "categories, titles, labels = import_data()"
    },
    "executionTime": "2020-05-29T17:59:10.405Z"
   },
   {
    "cell": {
     "executionCount": 5,
     "executionEventId": "e40c0848-caae-4da2-b946-cc90421ddbe2",
     "hasError": false,
     "id": "8a0f5744-8894-4849-a8f5-031d42143d21",
     "outputs": [
      {
       "name": "stdout",
       "output_type": "stream",
       "text": "  category    news   percent\n0        b  115967  0.274531\n1        e  152469  0.360943\n2        m   45639  0.108042\n3        t  108344  0.256485\ntotal \t 422419\n"
      }
     ],
     "persistentId": "d6f87979-07c5-4184-a612-667d24514975",
     "text": "from collections import Counter\n\ndef count_data(labels,categories):    \n    c = Counter(categories)\n    cont = dict(c)\n    # total number of news\n    tot = sum(list(cont.values()))     \n    d = {\n        \"category\" : labels,\n        \"news\" : [cont[l] for l in labels],\n        \"percent\" : [cont[l]/tot for l in labels]\n    }\n   \n    print(pd.DataFrame(d))   \n    print(\"total \\t\",tot) \n    \n    return cont\n\ncont = count_data(labels,categories)"
    },
    "executionTime": "2020-05-29T17:59:10.471Z"
   },
   {
    "cell": {
     "executionCount": 6,
     "executionEventId": "7707ea09-9e46-42e0-b470-f4bcb2dc15d5",
     "hasError": false,
     "id": "9e3b2619-afe7-4e6a-bfdd-835eb16914eb",
     "outputs": [
      {
       "data": {
        "image/png": "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\n",
        "text/plain": "<Figure size 432x288 with 1 Axes>"
       },
       "metadata": {},
       "output_type": "display_data"
      }
     ],
     "persistentId": "287dfc3f-c31e-4d55-8f6b-3f90ebcbe642",
     "text": "import pylab as pl # useful for drawing graphics\n\ndef categories_pie_plot(cont,tit):\n    sizes = [cont[l] for l in labels]\n    pl.pie(sizes, explode=(0, 0, 0, 0), labels=labels,\n        autopct='%1.1f%%', shadow=True, startangle=90)\n    pl.title(tit)\n    pl.show()\n    \ncategories_pie_plot(cont,\"Plotting categories\")"
    },
    "executionTime": "2020-05-29T17:59:10.577Z"
   },
   {
    "cell": {
     "executionCount": 7,
     "executionEventId": "a7e729ab-23fd-43f9-9add-bc0f7ed28ecd",
     "hasError": false,
     "id": "b6eb6a66-f661-47e5-84c0-4079804ec134",
     "outputs": [],
     "persistentId": "20f266ea-dd69-4f0b-91d5-79055513c30b",
     "text": "from sklearn.utils import shuffle # Shuffle arrays in a consistent way\n\ndef split_data(labels, categories, titles):\n    N = len(titles)\n    Ntrain = int(N * 0.7)    \n    # Let's shuffle the data\n    titles, categories = shuffle(titles, categories, random_state=0)\n    X_train = titles[:Ntrain]\n    y_train = categories[:Ntrain]\n    X_test = titles[Ntrain:]\n    y_test = categories[Ntrain:]\n    return (X_train, y_train, X_test, y_test)"
    },
    "executionTime": "2020-05-29T17:59:11.785Z"
   },
   {
    "cell": {
     "executionCount": 8,
     "executionEventId": "2bcb0694-3025-46e0-a4fb-a59345564c9f",
     "hasError": false,
     "id": "f67e11e0-c893-4351-8057-ba888a6c0e75",
     "outputs": [],
     "persistentId": "ec9aad8a-94dc-44ed-b4b2-8a6966200743",
     "text": "X_train, y_train, X_test, y_test = split_data(labels, categories,titles)"
    },
    "executionTime": "2020-05-29T17:59:11.848Z"
   },
   {
    "cell": {
     "executionCount": 9,
     "executionEventId": "c92c7a65-1cd7-4310-aeea-0442eb6565dc",
     "hasError": false,
     "id": "85aed7f7-b8f1-4d9b-af5d-618c77e9ca52",
     "outputs": [
      {
       "name": "stdout",
       "output_type": "stream",
       "text": "  category    news   percent\n0        b   81238  0.274738\n1        e  106844  0.361334\n2        m   31930  0.107984\n3        t   75681  0.255945\ntotal \t 295693\n"
      }
     ],
     "persistentId": "b3e57bae-0724-4559-ad2b-096d8da6407a",
     "text": "cont2 = count_data(labels,y_train)"
    },
    "executionTime": "2020-05-29T17:59:11.918Z"
   },
   {
    "cell": {
     "executionCount": 10,
     "executionEventId": "6d8e580a-cc94-4d50-944d-e5c107445a7a",
     "hasError": false,
     "id": "c09f11ba-f250-413e-a58d-a80778a095e8",
     "outputs": [
      {
       "data": {
        "image/png": "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\n",
        "text/plain": "<Figure size 432x288 with 1 Axes>"
       },
       "metadata": {},
       "output_type": "display_data"
      }
     ],
     "persistentId": "b2875505-d640-47ce-b9a9-fc0521c15d86",
     "text": "categories_pie_plot(cont2,\"Categories % in training set\")"
    },
    "executionTime": "2020-05-29T17:59:12.019Z"
   },
   {
    "cell": {
     "executionCount": 11,
     "executionEventId": "1939ff82-6e85-4720-836e-845e301fe103",
     "hasError": false,
     "id": "e6a5eb58-7611-4974-ac0f-368678fd47b5",
     "outputs": [],
     "persistentId": "05375fb1-c292-40b5-ae27-4535625bc49a",
     "text": "from sklearn.feature_extraction.text import CountVectorizer \nfrom sklearn.feature_extraction.text import TfidfTransformer \nfrom sklearn.naive_bayes import MultinomialNB, BernoulliNB, ComplementNB\n\nfrom sklearn.pipeline import Pipeline \nfrom sklearn import metrics \nimport numpy as np\nimport pprint\n\n# lmats = [] # list of confussion matrix \nnrows = nlabels\nncols = nlabels\n# conf_mat_sum = np.zeros((nrows, ncols))\n# f1_acum = [] # list of f1-score\n\ndef train_test():\n    text_clf = Pipeline([('vect', CountVectorizer()),\n                         ('tfidf', TfidfTransformer()),\n                         ('clf', MultinomialNB()),\n                         ])\n    text_clf = text_clf.fit(X_train, y_train)\n    predicted = text_clf.predict(X_test)\n    return predicted"
    },
    "executionTime": "2020-05-29T17:59:12.198Z"
   },
   {
    "cell": {
     "executionCount": 12,
     "executionEventId": "6ef908dc-09a8-439e-a078-f58e85c55cba",
     "hasError": false,
     "id": "6065b726-5ce3-4780-bd77-7fc8db1e3598",
     "outputs": [],
     "persistentId": "1fa38fa4-768f-4355-9182-7f67b4d89dee",
     "text": "predicted = train_test()"
    },
    "executionTime": "2020-05-29T17:59:17.946Z"
   },
   {
    "cell": {
     "executionCount": 13,
     "executionEventId": "d1d03a16-86d4-43c2-88c3-5c1891df72f1",
     "hasError": false,
     "id": "b795b1eb-fcf9-47de-bf55-8b87cda60654",
     "outputs": [
      {
       "data": {
        "text/plain": "0.9238041128103152"
       },
       "execution_count": 13,
       "metadata": {},
       "output_type": "execute_result"
      }
     ],
     "persistentId": "9a8422b7-d4fd-41c9-bb85-3468b9e82b0d",
     "text": "metrics.accuracy_score(y_test, predicted)"
    },
    "executionTime": "2020-05-29T17:59:18.035Z"
   },
   {
    "cell": {
     "executionCount": 14,
     "executionEventId": "09af6051-91a9-4c14-a91c-5e5662bf328b",
     "hasError": false,
     "id": "1b51c1ea-d569-46f1-82e2-2a6429c55cad",
     "outputs": [
      {
       "name": "stdout",
       "output_type": "stream",
       "text": "              precision    recall  f1-score   support\n\n           b       0.90      0.91      0.90     34729\n           e       0.95      0.97      0.96     45625\n           m       0.97      0.85      0.90     13709\n           t       0.90      0.90      0.90     32663\n\n    accuracy                           0.92    126726\n   macro avg       0.93      0.91      0.92    126726\nweighted avg       0.92      0.92      0.92    126726\n\n"
      }
     ],
     "persistentId": "ce4e5605-1f59-4bbc-ab63-25c61e2fd982",
     "text": "print(metrics.classification_report(y_test, predicted, target_names=labels))"
    },
    "executionTime": "2020-05-29T17:59:19.950Z"
   },
   {
    "cell": {
     "executionCount": 15,
     "executionEventId": "201fa591-3d2c-4b9d-9f7f-4ceaab811709",
     "hasError": false,
     "id": "924a1b68-6902-442c-ad1c-00f6feecf031",
     "outputs": [
      {
       "data": {
        "text/plain": "array([[0.91004636, 0.02361139, 0.00552852, 0.06081373],\n       [0.01176986, 0.97192329, 0.00192877, 0.01437808],\n       [0.06200306, 0.06193012, 0.84601357, 0.03005325],\n       [0.06778312, 0.02510486, 0.00324526, 0.90386676]])"
       },
       "execution_count": 15,
       "metadata": {},
       "output_type": "execute_result"
      }
     ],
     "persistentId": "1fa2ed7d-28f8-4ac5-9506-dc9a44059d36",
     "text": "mat = metrics.confusion_matrix(y_test, predicted,labels=labels)\ncm = mat.astype('float') / mat.sum(axis=1)[:, np.newaxis]\ncm"
    },
    "executionTime": "2020-05-29T17:59:20.128Z"
   },
   {
    "cell": {
     "executionCount": 16,
     "executionEventId": "1e868526-9ca3-4844-ab12-9d712dd88fde",
     "hasError": false,
     "id": "314e1d41-3fc5-4c4f-8332-8afa8204bf5d",
     "outputs": [],
     "persistentId": "b05e946b-266c-4467-b55c-a28481e00958",
     "text": "import itertools\nimport matplotlib.pyplot as plt\n\ndef plot_confusion_matrix(cm, classes,\n                          title='Confusion matrix',\n                          cmap=plt.cm.Blues):\n    \"\"\"\n    This function prints and plots the confusion matrix.\n    \"\"\"\n    plt.imshow(cm, interpolation='nearest', cmap=cmap)\n    plt.title(title)\n    plt.colorbar()\n    tick_marks = np.arange(len(classes))\n    plt.xticks(tick_marks, classes, rotation=45)\n    plt.yticks(tick_marks, classes)\n\n    thresh = cm.max() / 2.\n    for i, j in itertools.product(range(cm.shape[0]), range(cm.shape[1])):\n        plt.text(j, i, '{:5.2f}'.format(cm[i, j]),\n                 horizontalalignment=\"center\",\n                 color=\"white\" if cm[i, j] > thresh else \"black\")\n\n    plt.tight_layout()\n    plt.ylabel('True label')\n    plt.xlabel('Predicted label')\n    plt.colorbar()\n    plt.show()"
    },
    "executionTime": "2020-05-29T17:59:20.148Z"
   },
   {
    "cell": {
     "executionCount": 17,
     "executionEventId": "2d66cc8f-757c-4d39-952d-4441de069867",
     "hasError": false,
     "id": "f2d33c9e-3937-49f0-aee7-e188082033b7",
     "outputs": [
      {
       "data": {
        "image/png": "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\n",
        "text/plain": "<Figure size 432x288 with 3 Axes>"
       },
       "metadata": {
        "needs_background": "light"
       },
       "output_type": "display_data"
      }
     ],
     "persistentId": "44fbc64a-3039-4922-840e-61288a38a6f4",
     "text": "plot_confusion_matrix(cm, labels, title='Confusion matrix')"
    },
    "executionTime": "2020-05-29T17:59:20.427Z"
   },
   {
    "cell": {
     "executionCount": 18,
     "executionEventId": "0f66a2df-c1ce-478f-a5e2-b326b0173d9a",
     "hasError": false,
     "id": "3f139408-b896-4768-86f3-c666264d64a7",
     "outputs": [],
     "persistentId": "141a9324-8901-4c9f-b428-ef5f4cd71722",
     "text": "def resume_data(labels,y_train,f1s):\n    c = Counter(y_train)\n    cont = dict(c)\n    tot = sum(list(cont.values()))\n    nlabels = len(labels)\n    d = {\n        \"category\" : [labels[i] for i in range(nlabels)],\n        \"percent\" : [cont[labels[i]]/tot for i in range(nlabels)],\n        \"f1-score\" : [f1s[i] for i in range(nlabels)]\n    }\n   \n    print(pd.DataFrame(d))   \n    print(\"total \\t\",tot) \n    return cont"
    },
    "executionTime": "2020-05-29T17:59:20.444Z"
   },
   {
    "cell": {
     "executionCount": 19,
     "executionEventId": "64739a16-0edd-4a3b-babe-29ccbb5a1bbc",
     "hasError": false,
     "id": "d64d7a65-10e3-4e27-87ac-68117be9f51a",
     "outputs": [
      {
       "name": "stdout",
       "output_type": "stream",
       "text": "  category   percent  f1-score\n0        b  0.274738  0.903839\n1        e  0.361334  0.959225\n2        m  0.107984  0.902814\n3        t  0.255945  0.903314\ntotal \t 295693\n"
      }
     ],
     "persistentId": "66275296-21a0-4a0f-8077-cd92aceb0e12",
     "text": "f1s = metrics.f1_score(y_test, predicted, labels=labels, average=None)\ncont3 = resume_data(labels,y_train,f1s)"
    },
    "executionTime": "2020-05-29T17:59:20.959Z"
   },
   {
    "cell": {
     "executionCount": 1,
     "executionEventId": "e2cc6607-cf4c-400e-aa67-6393bd007d59",
     "hasError": false,
     "id": "d6b1e114-841b-4b26-8ac8-ab6efdb38571",
     "outputs": [],
     "persistentId": "6809247c-e57e-44d1-9517-bd0de4f314fc",
     "text": "%matplotlib inline\nimport pandas as pd "
    },
    "executionTime": "2020-05-29T18:32:13.737Z"
   },
   {
    "cell": {
     "executionCount": 2,
     "executionEventId": "193b3a22-8206-4149-b010-9890a35221c9",
     "hasError": false,
     "id": "e524f619-aa24-4fbb-b591-8338245d0d11",
     "outputs": [],
     "persistentId": "b7b06fa8-1beb-4b02-aa18-76d4c6c796e8",
     "text": "nlabels = 4 # number of different categories\nlnews = [] # list of dictionaries with two fields: one for the news and \n            # the other for its category"
    },
    "executionTime": "2020-05-29T18:32:13.748Z"
   },
   {
    "cell": {
     "executionCount": 3,
     "executionEventId": "be28b1db-43f5-47c5-acf9-0b040025363b",
     "hasError": false,
     "id": "803b7c4d-bbf8-4e7e-baa1-51a1b510718f",
     "outputs": [],
     "persistentId": "56086ab7-c222-466e-8dc4-1eb5a960d403",
     "text": "def import_data():\n    # importing news aggregator data via Pandas (Python Data Analysis Library)\n    news = pd.read_csv(\"uci-news-aggregator.csv\")\n    # function 'head' shows the first 5 items in a column (or\n    # the first 5 rows in the DataFrame)\n    print(news.head())\n    categories = news['CATEGORY']\n    titles = news['TITLE']\n    labels = sorted(list(set(categories)))\n    return (categories, titles, labels)"
    },
    "executionTime": "2020-05-29T18:32:13.797Z"
   },
   {
    "cell": {
     "executionCount": 4,
     "executionEventId": "10371ce7-547b-4d26-8386-c66280a173ab",
     "hasError": false,
     "id": "7e634070-cb30-424f-baef-ca5b2bb92118",
     "outputs": [
      {
       "name": "stdout",
       "output_type": "stream",
       "text": "   ID                                              TITLE  \\\n0   1  Fed official says weak data caused by weather,...   \n1   2  Fed's Charles Plosser sees high bar for change...   \n2   3  US open: Stocks fall after Fed official hints ...   \n3   4  Fed risks falling 'behind the curve', Charles ...   \n4   5  Fed's Plosser: Nasty Weather Has Curbed Job Gr...   \n\n                                                 URL          PUBLISHER  \\\n0  http://www.latimes.com/business/money/la-fi-mo...  Los Angeles Times   \n1  http://www.livemint.com/Politics/H2EvwJSK2VE6O...           Livemint   \n2  http://www.ifamagazine.com/news/us-open-stocks...       IFA Magazine   \n3  http://www.ifamagazine.com/news/fed-risks-fall...       IFA Magazine   \n4  http://www.moneynews.com/Economy/federal-reser...          Moneynews   \n\n  CATEGORY                          STORY             HOSTNAME      TIMESTAMP  \n0        b  ddUyU0VZz0BRneMioxUPQVP6sIxvM      www.latimes.com  1394470370698  \n1        b  ddUyU0VZz0BRneMioxUPQVP6sIxvM     www.livemint.com  1394470371207  \n2        b  ddUyU0VZz0BRneMioxUPQVP6sIxvM  www.ifamagazine.com  1394470371550  \n3        b  ddUyU0VZz0BRneMioxUPQVP6sIxvM  www.ifamagazine.com  1394470371793  \n4        b  ddUyU0VZz0BRneMioxUPQVP6sIxvM    www.moneynews.com  1394470372027  \n"
      }
     ],
     "persistentId": "8b2dc817-d07d-421a-889d-fa6a7776f28b",
     "text": "categories, titles, labels = import_data()"
    },
    "executionTime": "2020-05-29T18:32:15.842Z"
   },
   {
    "cell": {
     "executionCount": 5,
     "executionEventId": "deb3429f-0f79-476d-a035-eaa1655a5564",
     "hasError": false,
     "id": "8a0f5744-8894-4849-a8f5-031d42143d21",
     "outputs": [
      {
       "name": "stdout",
       "output_type": "stream",
       "text": "  category    news   percent\n0        b  115967  0.274531\n1        e  152469  0.360943\n2        m   45639  0.108042\n3        t  108344  0.256485\ntotal \t 422419\n"
      }
     ],
     "persistentId": "d6f87979-07c5-4184-a612-667d24514975",
     "text": "from collections import Counter\n\ndef count_data(labels,categories):    \n    c = Counter(categories)\n    cont = dict(c)\n    # total number of news\n    tot = sum(list(cont.values()))     \n    d = {\n        \"category\" : labels,\n        \"news\" : [cont[l] for l in labels],\n        \"percent\" : [cont[l]/tot for l in labels]\n    }\n   \n    print(pd.DataFrame(d))   \n    print(\"total \\t\",tot) \n    \n    return cont\n\ncont = count_data(labels,categories)"
    },
    "executionTime": "2020-05-29T18:32:15.868Z"
   },
   {
    "cell": {
     "executionCount": 6,
     "executionEventId": "bee68201-3808-421d-ad8d-0823ebac15bc",
     "hasError": false,
     "id": "8a0f5744-8894-4849-a8f5-031d42143d21",
     "outputs": [
      {
       "name": "stdout",
       "output_type": "stream",
       "text": "  category    news   percent\n0        b  115967  0.274531\n1        e  152469  0.360943\n2        m   45639  0.108042\n3        t  108344  0.256485\ntotal \t 422419\n"
      }
     ],
     "persistentId": "d6f87979-07c5-4184-a612-667d24514975",
     "text": "from collections import Counter\n\ndef count_data(labels,categories):    \n    c = Counter(categories)\n    cont = dict(c)\n    # total number of news\n    tot = sum(list(cont.values()))     \n    d = {\n        \"category\" : labels,\n        \"news\" : [cont[l] for l in labels],\n        \"percent\" : [cont[l]/tot for l in labels]\n    }\n   \n    print(pd.DataFrame(d))   \n    print(\"total \\t\",tot) \n    \n    return cont\n\ncont = count_data(labels,categories)"
    },
    "executionTime": "2020-05-29T18:35:48.304Z"
   },
   {
    "cell": {
     "executionCount": 7,
     "executionEventId": "d5d3f496-736d-4f3f-a36c-6923abc374fd",
     "hasError": false,
     "id": "9e3b2619-afe7-4e6a-bfdd-835eb16914eb",
     "outputs": [
      {
       "data": {
        "image/png": "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\n",
        "text/plain": "<Figure size 432x288 with 1 Axes>"
       },
       "metadata": {},
       "output_type": "display_data"
      }
     ],
     "persistentId": "287dfc3f-c31e-4d55-8f6b-3f90ebcbe642",
     "text": "import pylab as pl # useful for drawing graphics\n\ndef categories_pie_plot(cont,tit):\n    sizes = [cont[l] for l in labels]\n    pl.pie(sizes, explode=(0, 0, 0, 0), labels=labels,\n        autopct='%1.1f%%', shadow=True, startangle=90)\n    pl.title(tit)\n    pl.show()\n    \ncategories_pie_plot(cont,\"Plotting categories\")"
    },
    "executionTime": "2020-05-29T18:35:49.912Z"
   },
   {
    "cell": {
     "executionCount": 1,
     "executionEventId": "0c70f7ce-5fd8-4852-aba6-1de90ee03569",
     "hasError": false,
     "id": "d6b1e114-841b-4b26-8ac8-ab6efdb38571",
     "outputs": [],
     "persistentId": "6809247c-e57e-44d1-9517-bd0de4f314fc",
     "text": "%matplotlib inline\nimport pandas as pd "
    },
    "executionTime": "2020-05-29T18:36:39.043Z"
   },
   {
    "cell": {
     "executionCount": 1,
     "executionEventId": "ad0853db-a016-49ad-af85-7298eff7d95a",
     "hasError": false,
     "id": "d6b1e114-841b-4b26-8ac8-ab6efdb38571",
     "outputs": [],
     "persistentId": "6809247c-e57e-44d1-9517-bd0de4f314fc",
     "text": "%matplotlib inline\nimport pandas as pd "
    },
    "executionTime": "2020-05-29T19:06:19.872Z"
   },
   {
    "cell": {
     "executionCount": 2,
     "executionEventId": "8e82cc45-b5bf-467a-8b69-872adb5db96d",
     "hasError": false,
     "id": "e524f619-aa24-4fbb-b591-8338245d0d11",
     "outputs": [],
     "persistentId": "b7b06fa8-1beb-4b02-aa18-76d4c6c796e8",
     "text": "nlabels = 4 # number of different categories\nlnews = [] # list of dictionaries with two fields: one for the news and \n            # the other for its category"
    },
    "executionTime": "2020-05-29T19:06:19.894Z"
   },
   {
    "cell": {
     "executionCount": 3,
     "executionEventId": "56fe3e48-0b53-4143-9eff-5ce2f7ea5cb9",
     "hasError": false,
     "id": "803b7c4d-bbf8-4e7e-baa1-51a1b510718f",
     "outputs": [],
     "persistentId": "56086ab7-c222-466e-8dc4-1eb5a960d403",
     "text": "def import_data():\n    # importing news aggregator data via Pandas (Python Data Analysis Library)\n    news = pd.read_csv(\"uci-news-aggregator.csv\")\n    # function 'head' shows the first 5 items in a column (or\n    # the first 5 rows in the DataFrame)\n    print(news.head())\n    categories = news['CATEGORY']\n    titles = news['TITLE']\n    labels = sorted(list(set(categories)))\n    return (categories, titles, labels)"
    },
    "executionTime": "2020-05-29T19:06:20.811Z"
   },
   {
    "cell": {
     "executionCount": 4,
     "executionEventId": "6b94cab9-23ef-461a-81c4-99cf95f09bdd",
     "hasError": false,
     "id": "7e634070-cb30-424f-baef-ca5b2bb92118",
     "outputs": [
      {
       "name": "stdout",
       "output_type": "stream",
       "text": "   ID                                              TITLE  \\\n0   1  Fed official says weak data caused by weather,...   \n1   2  Fed's Charles Plosser sees high bar for change...   \n2   3  US open: Stocks fall after Fed official hints ...   \n3   4  Fed risks falling 'behind the curve', Charles ...   \n4   5  Fed's Plosser: Nasty Weather Has Curbed Job Gr...   \n\n                                                 URL          PUBLISHER  \\\n0  http://www.latimes.com/business/money/la-fi-mo...  Los Angeles Times   \n1  http://www.livemint.com/Politics/H2EvwJSK2VE6O...           Livemint   \n2  http://www.ifamagazine.com/news/us-open-stocks...       IFA Magazine   \n3  http://www.ifamagazine.com/news/fed-risks-fall...       IFA Magazine   \n4  http://www.moneynews.com/Economy/federal-reser...          Moneynews   \n\n  CATEGORY                          STORY             HOSTNAME      TIMESTAMP  \n0        b  ddUyU0VZz0BRneMioxUPQVP6sIxvM      www.latimes.com  1394470370698  \n1        b  ddUyU0VZz0BRneMioxUPQVP6sIxvM     www.livemint.com  1394470371207  \n2        b  ddUyU0VZz0BRneMioxUPQVP6sIxvM  www.ifamagazine.com  1394470371550  \n3        b  ddUyU0VZz0BRneMioxUPQVP6sIxvM  www.ifamagazine.com  1394470371793  \n4        b  ddUyU0VZz0BRneMioxUPQVP6sIxvM    www.moneynews.com  1394470372027  \n"
      }
     ],
     "persistentId": "8b2dc817-d07d-421a-889d-fa6a7776f28b",
     "text": "categories, titles, labels = import_data()"
    },
    "executionTime": "2020-05-29T19:06:24.009Z"
   },
   {
    "cell": {
     "executionCount": 5,
     "executionEventId": "00d0b301-f4fe-422b-a62d-eeab1d8410ab",
     "hasError": false,
     "id": "8a0f5744-8894-4849-a8f5-031d42143d21",
     "outputs": [
      {
       "name": "stdout",
       "output_type": "stream",
       "text": "  category    news   percent\n0        b  115967  0.274531\n1        e  152469  0.360943\n2        m   45639  0.108042\n3        t  108344  0.256485\ntotal \t 422419\n"
      }
     ],
     "persistentId": "d6f87979-07c5-4184-a612-667d24514975",
     "text": "from collections import Counter\n\ndef count_data(labels,categories):    \n    c = Counter(categories)\n    cont = dict(c)\n    # total number of news\n    tot = sum(list(cont.values()))     \n    d = {\n        \"category\" : labels,\n        \"news\" : [cont[l] for l in labels],\n        \"percent\" : [cont[l]/tot for l in labels]\n    }\n   \n    print(pd.DataFrame(d))   \n    print(\"total \\t\",tot) \n    \n    return cont\n\ncont = count_data(labels,categories)"
    },
    "executionTime": "2020-05-29T19:06:24.441Z"
   },
   {
    "cell": {
     "executionCount": 6,
     "executionEventId": "669d7135-c16a-43b1-9b01-99f368cfe1e0",
     "hasError": false,
     "id": "9e3b2619-afe7-4e6a-bfdd-835eb16914eb",
     "outputs": [
      {
       "data": {
        "image/png": "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\n",
        "text/plain": "<Figure size 432x288 with 1 Axes>"
       },
       "metadata": {},
       "output_type": "display_data"
      }
     ],
     "persistentId": "287dfc3f-c31e-4d55-8f6b-3f90ebcbe642",
     "text": "import pylab as pl # useful for drawing graphics\n\ndef categories_pie_plot(cont,tit):\n    sizes = [cont[l] for l in labels]\n    pl.pie(sizes, explode=(0, 0, 0, 0), labels=labels,\n        autopct='%1.1f%%', shadow=True, startangle=90)\n    pl.title(tit)\n    pl.show()\n    \ncategories_pie_plot(cont,\"Plotting categories\")"
    },
    "executionTime": "2020-05-29T19:06:24.663Z"
   },
   {
    "cell": {
     "executionCount": 7,
     "executionEventId": "30be3872-e42c-44bd-bb29-599b1d641480",
     "hasError": false,
     "id": "9e3b2619-afe7-4e6a-bfdd-835eb16914eb",
     "outputs": [
      {
       "data": {
        "image/png": "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\n",
        "text/plain": "<Figure size 432x288 with 1 Axes>"
       },
       "metadata": {},
       "output_type": "display_data"
      }
     ],
     "persistentId": "287dfc3f-c31e-4d55-8f6b-3f90ebcbe642",
     "text": "import pylab as pl # useful for drawing graphics\n\ndef categories_pie_plot(cont,tit):\n    sizes = [cont[l] for l in labels]\n    pl.pie(sizes, explode=(0, 0, 0, 0), labels=labels,\n        autopct='%1.1f%%', shadow=True, startangle=90)\n    pl.title(tit)\n    pl.show()\n    \ncategories_pie_plot(cont,\"Plotting categories\")"
    },
    "executionTime": "2020-05-29T19:06:29.777Z"
   },
   {
    "cell": {
     "executionCount": 8,
     "executionEventId": "9147dc18-acc2-4f52-98b0-8bb2860cffcc",
     "hasError": false,
     "id": "61fbd57e-8de7-4f4f-bf73-52e0c7d5a7f3",
     "outputs": [
      {
       "name": "stdout",
       "output_type": "stream",
       "text": "1\n"
      }
     ],
     "persistentId": "e3e6d57c-6e57-4844-8096-f9129b9ed754",
     "text": "x = [0 for _ in range(3)]\nx[1] = 1\nx[2] = 2\nprint(x[1])"
    },
    "executionTime": "2020-05-29T19:42:38.126Z"
   },
   {
    "cell": {
     "executionCount": 1,
     "executionEventId": "4a681ed2-4b98-46b1-83ce-a1a39c46eb61",
     "hasError": false,
     "id": "82893601-0422-44b7-876a-450f9f46285a",
     "outputs": [],
     "persistentId": "b05e946b-266c-4467-b55c-a28481e00958",
     "text": "import itertools\nimport matplotlib.pyplot as plt\n\ndef plot_confusion_matrix(cm, classes,\n                          title='Confusion matrix',\n                          cmap=plt.cm.Blues):\n    \"\"\"\n    This function prints and plots the confusion matrix.\n    \"\"\"\n    plt.imshow(cm, interpolation='nearest', cmap=cmap)\n    plt.title(title)\n    plt.colorbar()\n    tick_marks = np.arange(len(classes))\n    plt.xticks(tick_marks, classes, rotation=45)\n    plt.yticks(tick_marks, classes)\n\n    thresh = cm.max() / 2.\n    for i, j in itertools.product(range(cm.shape[0]), range(cm.shape[1])):\n        plt.text(j, i, '{:5.2f}'.format(cm[i, j]),\n                 horizontalalignment=\"center\",\n                 color=\"white\" if cm[i, j] > thresh else \"black\")\n\n    plt.tight_layout()\n    plt.ylabel('True label')\n    plt.xlabel('Predicted label')\n    plt.colorbar()\n    plt.show()"
    },
    "executionTime": "2020-06-16T18:27:16.647Z"
   },
   {
    "cell": {
     "executionCount": 2,
     "executionEventId": "b895bbe2-8a40-4b8e-b364-27c2a477b4eb",
     "hasError": true,
     "id": "b2c96873-879b-4bd9-adc2-c49ca813104c",
     "outputs": [
      {
       "ename": "NameError",
       "evalue": "name 'cm' is not defined",
       "output_type": "error",
       "traceback": [
        "\u001b[0;31m---------------------------------------------------------------------------\u001b[0m",
        "\u001b[0;31mNameError\u001b[0m                                 Traceback (most recent call last)",
        "\u001b[0;32m<ipython-input-2-c0288a9a8979>\u001b[0m in \u001b[0;36m<module>\u001b[0;34m\u001b[0m\n\u001b[0;32m----> 1\u001b[0;31m \u001b[0mplot_confusion_matrix\u001b[0m\u001b[0;34m(\u001b[0m\u001b[0mcm\u001b[0m\u001b[0;34m,\u001b[0m \u001b[0mlabels\u001b[0m\u001b[0;34m,\u001b[0m \u001b[0mtitle\u001b[0m\u001b[0;34m=\u001b[0m\u001b[0;34m'Confusion matrix'\u001b[0m\u001b[0;34m)\u001b[0m\u001b[0;34m\u001b[0m\u001b[0;34m\u001b[0m\u001b[0m\n\u001b[0m",
        "\u001b[0;31mNameError\u001b[0m: name 'cm' is not defined"
       ]
      }
     ],
     "persistentId": "44fbc64a-3039-4922-840e-61288a38a6f4",
     "text": "plot_confusion_matrix(cm, labels, title='Confusion matrix')"
    },
    "executionTime": "2020-06-16T18:27:17.541Z"
   },
   {
    "cell": {
     "executionCount": 3,
     "executionEventId": "89a71353-8430-4ec3-8cfc-aabb07747f70",
     "hasError": false,
     "id": "74b834fc-1661-48e0-8d7c-c6fa4756cf8a",
     "outputs": [],
     "persistentId": "b7b06fa8-1beb-4b02-aa18-76d4c6c796e8",
     "text": "nlabels = 4 # number of different categories\nlnews = [] # list of dictionaries with two fields: one for the news and \n            # the other for its category"
    },
    "executionTime": "2020-06-16T18:27:25.502Z"
   },
   {
    "cell": {
     "executionCount": 4,
     "executionEventId": "87deb69d-120d-44aa-8325-3dbaa241fb91",
     "hasError": false,
     "id": "da5b85e0-ebb3-4911-ad3c-c2a3c225a9fb",
     "outputs": [],
     "persistentId": "56086ab7-c222-466e-8dc4-1eb5a960d403",
     "text": "def import_data():\n    # importing news aggregator data via Pandas (Python Data Analysis Library)\n    news = pd.read_csv(\"uci-news-aggregator.csv\")\n    # function 'head' shows the first 5 items in a column (or\n    # the first 5 rows in the DataFrame)\n    print(news.head())\n    categories = news['CATEGORY']\n    titles = news['TITLE']\n    labels = sorted(list(set(categories)))\n    return (categories, titles, labels)"
    },
    "executionTime": "2020-06-16T18:27:27.735Z"
   },
   {
    "cell": {
     "executionCount": 5,
     "executionEventId": "2020ee96-2b7a-43f6-8720-070121327f53",
     "hasError": true,
     "id": "209b7f0e-6876-44db-b2e1-fc76e18ecd89",
     "outputs": [
      {
       "ename": "NameError",
       "evalue": "name 'pd' is not defined",
       "output_type": "error",
       "traceback": [
        "\u001b[0;31m---------------------------------------------------------------------------\u001b[0m",
        "\u001b[0;31mNameError\u001b[0m                                 Traceback (most recent call last)",
        "\u001b[0;32m<ipython-input-5-552522d41cf8>\u001b[0m in \u001b[0;36m<module>\u001b[0;34m\u001b[0m\n\u001b[0;32m----> 1\u001b[0;31m \u001b[0mcategories\u001b[0m\u001b[0;34m,\u001b[0m \u001b[0mtitles\u001b[0m\u001b[0;34m,\u001b[0m \u001b[0mlabels\u001b[0m \u001b[0;34m=\u001b[0m \u001b[0mimport_data\u001b[0m\u001b[0;34m(\u001b[0m\u001b[0;34m)\u001b[0m\u001b[0;34m\u001b[0m\u001b[0;34m\u001b[0m\u001b[0m\n\u001b[0m",
        "\u001b[0;32m<ipython-input-4-1c950000cbf1>\u001b[0m in \u001b[0;36mimport_data\u001b[0;34m()\u001b[0m\n\u001b[1;32m      1\u001b[0m \u001b[0;32mdef\u001b[0m \u001b[0mimport_data\u001b[0m\u001b[0;34m(\u001b[0m\u001b[0;34m)\u001b[0m\u001b[0;34m:\u001b[0m\u001b[0;34m\u001b[0m\u001b[0;34m\u001b[0m\u001b[0m\n\u001b[1;32m      2\u001b[0m     \u001b[0;31m# importing news aggregator data via Pandas (Python Data Analysis Library)\u001b[0m\u001b[0;34m\u001b[0m\u001b[0;34m\u001b[0m\u001b[0;34m\u001b[0m\u001b[0m\n\u001b[0;32m----> 3\u001b[0;31m     \u001b[0mnews\u001b[0m \u001b[0;34m=\u001b[0m \u001b[0mpd\u001b[0m\u001b[0;34m.\u001b[0m\u001b[0mread_csv\u001b[0m\u001b[0;34m(\u001b[0m\u001b[0;34m\"uci-news-aggregator.csv\"\u001b[0m\u001b[0;34m)\u001b[0m\u001b[0;34m\u001b[0m\u001b[0;34m\u001b[0m\u001b[0m\n\u001b[0m\u001b[1;32m      4\u001b[0m     \u001b[0;31m# function 'head' shows the first 5 items in a column (or\u001b[0m\u001b[0;34m\u001b[0m\u001b[0;34m\u001b[0m\u001b[0;34m\u001b[0m\u001b[0m\n\u001b[1;32m      5\u001b[0m     \u001b[0;31m# the first 5 rows in the DataFrame)\u001b[0m\u001b[0;34m\u001b[0m\u001b[0;34m\u001b[0m\u001b[0;34m\u001b[0m\u001b[0m\n",
        "\u001b[0;31mNameError\u001b[0m: name 'pd' is not defined"
       ]
      }
     ],
     "persistentId": "8b2dc817-d07d-421a-889d-fa6a7776f28b",
     "text": "categories, titles, labels = import_data()"
    },
    "executionTime": "2020-06-16T18:27:28.355Z"
   },
   {
    "cell": {
     "executionCount": 6,
     "executionEventId": "d3ef5b1a-ca58-48f5-88c6-d245ab8e41cf",
     "hasError": false,
     "id": "afb74199-2ec4-4478-add5-1f954ac70eb7",
     "outputs": [],
     "persistentId": "6809247c-e57e-44d1-9517-bd0de4f314fc",
     "text": "import pandas as pd "
    },
    "executionTime": "2020-06-16T18:27:32.235Z"
   },
   {
    "cell": {
     "executionCount": 7,
     "executionEventId": "ef582b18-81c8-4c29-bdc8-29df4aa5c43c",
     "hasError": false,
     "id": "74b834fc-1661-48e0-8d7c-c6fa4756cf8a",
     "outputs": [],
     "persistentId": "b7b06fa8-1beb-4b02-aa18-76d4c6c796e8",
     "text": "nlabels = 4 # number of different categories\nlnews = [] # list of dictionaries with two fields: one for the news and \n            # the other for its category"
    },
    "executionTime": "2020-06-16T18:27:32.517Z"
   },
   {
    "cell": {
     "executionCount": 8,
     "executionEventId": "57a99f88-3b29-4512-a912-4bb53e73da6b",
     "hasError": false,
     "id": "da5b85e0-ebb3-4911-ad3c-c2a3c225a9fb",
     "outputs": [],
     "persistentId": "56086ab7-c222-466e-8dc4-1eb5a960d403",
     "text": "def import_data():\n    # importing news aggregator data via Pandas (Python Data Analysis Library)\n    news = pd.read_csv(\"uci-news-aggregator.csv\")\n    # function 'head' shows the first 5 items in a column (or\n    # the first 5 rows in the DataFrame)\n    print(news.head())\n    categories = news['CATEGORY']\n    titles = news['TITLE']\n    labels = sorted(list(set(categories)))\n    return (categories, titles, labels)"
    },
    "executionTime": "2020-06-16T18:27:33.319Z"
   },
   {
    "cell": {
     "executionCount": 9,
     "executionEventId": "33e791cc-4c27-4c50-b99a-c1c046bc8dd7",
     "hasError": false,
     "id": "209b7f0e-6876-44db-b2e1-fc76e18ecd89",
     "outputs": [
      {
       "name": "stdout",
       "output_type": "stream",
       "text": "   ID                                              TITLE  \\\n0   1  Fed official says weak data caused by weather,...   \n1   2  Fed's Charles Plosser sees high bar for change...   \n2   3  US open: Stocks fall after Fed official hints ...   \n3   4  Fed risks falling 'behind the curve', Charles ...   \n4   5  Fed's Plosser: Nasty Weather Has Curbed Job Gr...   \n\n                                                 URL          PUBLISHER  \\\n0  http://www.latimes.com/business/money/la-fi-mo...  Los Angeles Times   \n1  http://www.livemint.com/Politics/H2EvwJSK2VE6O...           Livemint   \n2  http://www.ifamagazine.com/news/us-open-stocks...       IFA Magazine   \n3  http://www.ifamagazine.com/news/fed-risks-fall...       IFA Magazine   \n4  http://www.moneynews.com/Economy/federal-reser...          Moneynews   \n\n  CATEGORY                          STORY             HOSTNAME      TIMESTAMP  \n0        b  ddUyU0VZz0BRneMioxUPQVP6sIxvM      www.latimes.com  1394470370698  \n1        b  ddUyU0VZz0BRneMioxUPQVP6sIxvM     www.livemint.com  1394470371207  \n2        b  ddUyU0VZz0BRneMioxUPQVP6sIxvM  www.ifamagazine.com  1394470371550  \n3        b  ddUyU0VZz0BRneMioxUPQVP6sIxvM  www.ifamagazine.com  1394470371793  \n4        b  ddUyU0VZz0BRneMioxUPQVP6sIxvM    www.moneynews.com  1394470372027  \n"
      }
     ],
     "persistentId": "8b2dc817-d07d-421a-889d-fa6a7776f28b",
     "text": "categories, titles, labels = import_data()"
    },
    "executionTime": "2020-06-16T18:27:35.808Z"
   },
   {
    "cell": {
     "executionCount": 10,
     "executionEventId": "087c04b1-bb5b-4448-b8e8-01f46e59a17a",
     "hasError": false,
     "id": "1f3bc094-538b-487b-9c9d-4ebdfd65415b",
     "outputs": [
      {
       "name": "stdout",
       "output_type": "stream",
       "text": "  category    news   percent\n0        b  115967  0.274531\n1        e  152469  0.360943\n2        m   45639  0.108042\n3        t  108344  0.256485\ntotal \t 422419\n"
      }
     ],
     "persistentId": "d6f87979-07c5-4184-a612-667d24514975",
     "text": "from collections import Counter\n\ndef count_data(labels,categories):    \n    c = Counter(categories)\n    cont = dict(c)\n    # total number of news\n    tot = sum(list(cont.values()))     \n    d = {\n        \"category\" : labels,\n        \"news\" : [cont[l] for l in labels],\n        \"percent\" : [cont[l]/tot for l in labels]\n    }\n   \n    print(pd.DataFrame(d))   \n    print(\"total \\t\",tot) \n    \n    return cont\n\ncont = count_data(labels,categories)"
    },
    "executionTime": "2020-06-16T18:27:35.945Z"
   },
   {
    "cell": {
     "executionCount": 11,
     "executionEventId": "d31a058c-d352-418e-8dfa-791897494c2c",
     "hasError": false,
     "id": "5c5da8e7-096c-4697-a507-d21954f4ce1b",
     "outputs": [
      {
       "data": {
        "image/png": "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\n",
        "text/plain": "<Figure size 432x288 with 1 Axes>"
       },
       "metadata": {},
       "output_type": "display_data"
      }
     ],
     "persistentId": "287dfc3f-c31e-4d55-8f6b-3f90ebcbe642",
     "text": "import pylab as pl # useful for drawing graphics\n\ndef categories_pie_plot(cont,tit):\n    sizes = [cont[l] for l in labels]\n    pl.pie(sizes, explode=(0, 0, 0, 0), labels=labels,\n        autopct='%1.1f%%', shadow=True, startangle=90)\n    pl.title(tit)\n    pl.show()\n    \ncategories_pie_plot(cont,\"Plotting categories\")"
    },
    "executionTime": "2020-06-16T18:27:38.120Z"
   },
   {
    "cell": {
     "executionCount": 12,
     "executionEventId": "ef356877-93bf-4772-ba9d-40c884c56851",
     "hasError": false,
     "id": "abf0f081-3ba6-4ec8-926e-02795b1e0e32",
     "outputs": [],
     "persistentId": "20f266ea-dd69-4f0b-91d5-79055513c30b",
     "text": "from sklearn.utils import shuffle # Shuffle arrays in a consistent way\n\ndef split_data(labels, categories, titles):\n    N = len(titles)\n    Ntrain = int(N * 0.7)    \n    # Let's shuffle the data\n    titles, categories = shuffle(titles, categories, random_state=0)\n    X_train = titles[:Ntrain]\n    y_train = categories[:Ntrain]\n    X_test = titles[Ntrain:]\n    y_test = categories[Ntrain:]\n    return (X_train, y_train, X_test, y_test)"
    },
    "executionTime": "2020-06-16T18:27:42.603Z"
   },
   {
    "cell": {
     "executionCount": 13,
     "executionEventId": "29113fd2-0847-4180-b65d-8d7a7f2723f7",
     "hasError": false,
     "id": "55f61174-5b15-4b77-965d-aa2fb4903939",
     "outputs": [],
     "persistentId": "ec9aad8a-94dc-44ed-b4b2-8a6966200743",
     "text": "X_train, y_train, X_test, y_test = split_data(labels, categories,titles)"
    },
    "executionTime": "2020-06-16T18:27:42.787Z"
   },
   {
    "cell": {
     "executionCount": 14,
     "executionEventId": "546ccf85-e3a3-4fe1-b1a9-9e2d0b8a69e3",
     "hasError": false,
     "id": "cc36e855-aafd-4e6b-a742-d1c534f997d6",
     "outputs": [
      {
       "name": "stdout",
       "output_type": "stream",
       "text": "  category    news   percent\n0        b   81238  0.274738\n1        e  106844  0.361334\n2        m   31930  0.107984\n3        t   75681  0.255945\ntotal \t 295693\n"
      }
     ],
     "persistentId": "b3e57bae-0724-4559-ad2b-096d8da6407a",
     "text": "cont2 = count_data(labels,y_train)"
    },
    "executionTime": "2020-06-16T18:27:44.010Z"
   },
   {
    "cell": {
     "executionCount": 15,
     "executionEventId": "73b53f49-dc11-4c60-b0db-fd5ed2764f68",
     "hasError": false,
     "id": "8fe29310-61ec-49b7-bd2d-df2a6efc4931",
     "outputs": [
      {
       "data": {
        "image/png": "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\n",
        "text/plain": "<Figure size 432x288 with 1 Axes>"
       },
       "metadata": {},
       "output_type": "display_data"
      }
     ],
     "persistentId": "b2875505-d640-47ce-b9a9-fc0521c15d86",
     "text": "categories_pie_plot(cont2,\"Categories % in training set\")"
    },
    "executionTime": "2020-06-16T18:27:45.519Z"
   },
   {
    "cell": {
     "executionCount": 16,
     "executionEventId": "05467097-30f4-44c7-9e66-331409469cd7",
     "hasError": false,
     "id": "8f358fd1-127e-4ec1-930e-899316d3d63d",
     "outputs": [],
     "persistentId": "05375fb1-c292-40b5-ae27-4535625bc49a",
     "text": "from sklearn.feature_extraction.text import CountVectorizer \nfrom sklearn.feature_extraction.text import TfidfTransformer \nfrom sklearn.naive_bayes import MultinomialNB, BernoulliNB, ComplementNB\n\nfrom sklearn.pipeline import Pipeline \nfrom sklearn import metrics \nimport numpy as np\nimport pprint\n\n# lmats = [] # list of confussion matrix \nnrows = nlabels\nncols = nlabels\n# conf_mat_sum = np.zeros((nrows, ncols))\n# f1_acum = [] # list of f1-score\n\ndef train_test():\n    text_clf = Pipeline([('vect', CountVectorizer()),\n                         ('tfidf', TfidfTransformer()),\n                         ('clf', MultinomialNB()),\n                         ])\n    text_clf = text_clf.fit(X_train, y_train)\n    predicted = text_clf.predict(X_test)\n    return predicted"
    },
    "executionTime": "2020-06-16T18:27:59.177Z"
   },
   {
    "cell": {
     "executionCount": 17,
     "executionEventId": "25044135-f910-44f6-9122-1c2937f35817",
     "hasError": false,
     "id": "57eb55dc-2130-42d2-9260-b890d3733010",
     "outputs": [],
     "persistentId": "1fa38fa4-768f-4355-9182-7f67b4d89dee",
     "text": "predicted = train_test()"
    },
    "executionTime": "2020-06-16T18:28:06.224Z"
   },
   {
    "cell": {
     "executionCount": 18,
     "executionEventId": "2e283d61-2652-4d86-91a3-138da54e7bf7",
     "hasError": false,
     "id": "1ecf4066-b88c-4a7a-86d5-9562237fe1db",
     "outputs": [
      {
       "data": {
        "text/plain": "0.9238041128103152"
       },
       "execution_count": 18,
       "metadata": {},
       "output_type": "execute_result"
      }
     ],
     "persistentId": "9a8422b7-d4fd-41c9-bb85-3468b9e82b0d",
     "text": "metrics.accuracy_score(y_test, predicted)"
    },
    "executionTime": "2020-06-16T18:28:06.367Z"
   },
   {
    "cell": {
     "executionCount": 19,
     "executionEventId": "135c52f5-1b7b-474d-a4a2-9aba60a684da",
     "hasError": false,
     "id": "66159ca2-38bc-4598-8742-f6fc9b62d7f2",
     "outputs": [
      {
       "name": "stdout",
       "output_type": "stream",
       "text": "              precision    recall  f1-score   support\n\n           b       0.90      0.91      0.90     34729\n           e       0.95      0.97      0.96     45625\n           m       0.97      0.85      0.90     13709\n           t       0.90      0.90      0.90     32663\n\n    accuracy                           0.92    126726\n   macro avg       0.93      0.91      0.92    126726\nweighted avg       0.92      0.92      0.92    126726\n\n"
      }
     ],
     "persistentId": "ce4e5605-1f59-4bbc-ab63-25c61e2fd982",
     "text": "print(metrics.classification_report(y_test, predicted, target_names=labels))"
    },
    "executionTime": "2020-06-16T18:28:08.407Z"
   },
   {
    "cell": {
     "executionCount": 20,
     "executionEventId": "4179bb80-0485-4476-b9f2-21106a36eaa6",
     "hasError": false,
     "id": "b666e5e9-2fef-479a-b11b-57a18bb18d62",
     "outputs": [
      {
       "data": {
        "text/plain": "array([[0.91004636, 0.02361139, 0.00552852, 0.06081373],\n       [0.01176986, 0.97192329, 0.00192877, 0.01437808],\n       [0.06200306, 0.06193012, 0.84601357, 0.03005325],\n       [0.06778312, 0.02510486, 0.00324526, 0.90386676]])"
       },
       "execution_count": 20,
       "metadata": {},
       "output_type": "execute_result"
      }
     ],
     "persistentId": "1fa2ed7d-28f8-4ac5-9506-dc9a44059d36",
     "text": "mat = metrics.confusion_matrix(y_test, predicted,labels=labels)\ncm = mat.astype('float') / mat.sum(axis=1)[:, np.newaxis]\ncm"
    },
    "executionTime": "2020-06-16T18:28:08.601Z"
   },
   {
    "cell": {
     "executionCount": 21,
     "executionEventId": "b39d275b-d2ff-4578-9253-27cd11a0353b",
     "hasError": false,
     "id": "82893601-0422-44b7-876a-450f9f46285a",
     "outputs": [],
     "persistentId": "b05e946b-266c-4467-b55c-a28481e00958",
     "text": "import itertools\nimport matplotlib.pyplot as plt\n\ndef plot_confusion_matrix(cm, classes,\n                          title='Confusion matrix',\n                          cmap=plt.cm.Blues):\n    \"\"\"\n    This function prints and plots the confusion matrix.\n    \"\"\"\n    plt.imshow(cm, interpolation='nearest', cmap=cmap)\n    plt.title(title)\n    plt.colorbar()\n    tick_marks = np.arange(len(classes))\n    plt.xticks(tick_marks, classes, rotation=45)\n    plt.yticks(tick_marks, classes)\n\n    thresh = cm.max() / 2.\n    for i, j in itertools.product(range(cm.shape[0]), range(cm.shape[1])):\n        plt.text(j, i, '{:5.2f}'.format(cm[i, j]),\n                 horizontalalignment=\"center\",\n                 color=\"white\" if cm[i, j] > thresh else \"black\")\n\n    plt.tight_layout()\n    plt.ylabel('True label')\n    plt.xlabel('Predicted label')\n    plt.colorbar()\n    plt.show()"
    },
    "executionTime": "2020-06-16T18:28:08.621Z"
   },
   {
    "cell": {
     "executionCount": 22,
     "executionEventId": "9ff878b3-8027-41a3-a18e-c2d140fb32ac",
     "hasError": false,
     "id": "b2c96873-879b-4bd9-adc2-c49ca813104c",
     "outputs": [
      {
       "data": {
        "image/png": "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\n",
        "text/plain": "<Figure size 432x288 with 3 Axes>"
       },
       "metadata": {
        "needs_background": "light"
       },
       "output_type": "display_data"
      }
     ],
     "persistentId": "44fbc64a-3039-4922-840e-61288a38a6f4",
     "text": "plot_confusion_matrix(cm, labels, title='Confusion matrix')"
    },
    "executionTime": "2020-06-16T18:28:09.202Z"
   },
   {
    "cell": {
     "executionCount": 23,
     "executionEventId": "7598dd5e-c84b-49b3-a667-d4d3025a8d48",
     "hasError": false,
     "id": "26280997-7396-40e8-b5ac-6ea2aa036fbb",
     "outputs": [],
     "persistentId": "141a9324-8901-4c9f-b428-ef5f4cd71722",
     "text": "def resume_data(labels,y_train,f1s):\n    c = Counter(y_train)\n    cont = dict(c)\n    tot = sum(list(cont.values()))\n    nlabels = len(labels)\n    d = {\n        \"category\" : [labels[i] for i in range(nlabels)],\n        \"percent\" : [cont[labels[i]]/tot for i in range(nlabels)],\n        \"f1-score\" : [f1s[i] for i in range(nlabels)]\n    }\n   \n    print(pd.DataFrame(d))   \n    print(\"total \\t\",tot) \n    return cont"
    },
    "executionTime": "2020-06-16T18:28:09.248Z"
   },
   {
    "cell": {
     "executionCount": 24,
     "executionEventId": "e7537851-0055-424e-bc93-7e6accbb050b",
     "hasError": false,
     "id": "cf6cb3f2-b825-4f56-a9c0-bfe63fc8da4b",
     "outputs": [
      {
       "name": "stdout",
       "output_type": "stream",
       "text": "  category   percent  f1-score\n0        b  0.274738  0.903839\n1        e  0.361334  0.959225\n2        m  0.107984  0.902814\n3        t  0.255945  0.903314\ntotal \t 295693\n"
      }
     ],
     "persistentId": "66275296-21a0-4a0f-8077-cd92aceb0e12",
     "text": "f1s = metrics.f1_score(y_test, predicted, labels=labels, average=None)\ncont3 = resume_data(labels,y_train,f1s)"
    },
    "executionTime": "2020-06-16T18:28:09.883Z"
   }
  ],
  "kernelspec": {
   "display_name": "Python 3",
   "language": "python",
   "name": "python3"
  },
  "language_info": {
   "codemirror_mode": {
    "name": "ipython",
    "version": 3
   },
   "file_extension": ".py",
   "mimetype": "text/x-python",
   "name": "python",
   "nbconvert_exporter": "python",
   "pygments_lexer": "ipython3",
   "version": "3.7.4"
  },
  "uuid": "3d0c9730-ad02-455e-b182-30bac01b9689"
 },
 "nbformat": 4,
 "nbformat_minor": 4
}
