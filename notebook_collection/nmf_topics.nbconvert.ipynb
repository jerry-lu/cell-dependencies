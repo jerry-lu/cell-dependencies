{
 "cells": [
  {
   "cell_type": "markdown",
   "metadata": {},
   "source": [
    "# Topics extraction with Non-Negative Matrix Factorization\n",
    "\n",
    "This is a proof of concept application of Non Negative Matrix\n",
    "Factorization of the term frequency matrix of a corpus of documents so\n",
    "as to extract an additive model of the topic structure of the corpus."
   ]
  },
  {
   "cell_type": "markdown",
   "metadata": {},
   "source": [
    "## Load the 20 newsgroups dataset"
   ]
  },
  {
   "cell_type": "code",
   "execution_count": 14,
   "metadata": {
    "collapsed": false,
    "jupyter": {
     "outputs_hidden": false
    },
    "persistent_id": "b4a95155-bdb9-4b41-bc40-e8e5a0e8f3e7"
   },
   "outputs": [],
   "source": [
    "from sklearn import datasets\n",
    "dataset = datasets.fetch_20newsgroups(shuffle=True, random_state=1)\n",
    "print(dataset.target_names[dataset.target[0]])"
   ]
  },
  {
   "cell_type": "code",
   "execution_count": 15,
   "metadata": {
    "collapsed": false,
    "jupyter": {
     "outputs_hidden": false
    },
    "persistent_id": "04912fd8-8f78-4612-8347-c0069167cfea"
   },
   "outputs": [],
   "source": [
    "print(dataset.data[0])"
   ]
  },
  {
   "cell_type": "markdown",
   "metadata": {},
   "source": [
    "## Restrict the dimensions of the problem\n",
    "\n",
    "For shorter computation times."
   ]
  },
  {
   "cell_type": "code",
   "execution_count": 16,
   "metadata": {
    "collapsed": true,
    "jupyter": {
     "outputs_hidden": true
    }
   },
   "outputs": [],
   "source": [
    "n_samples = 1000\n",
    "n_features = 1000"
   ]
  },
  {
   "cell_type": "markdown",
   "metadata": {},
   "source": [
    "## Vectorize to compute word frequencies for each document\n",
    "\n",
    "Restrict to the most common word frequency and use TF-IDF weighting (without top 5% stop words)"
   ]
  },
  {
   "cell_type": "code",
   "execution_count": 17,
   "metadata": {
    "collapsed": false,
    "jupyter": {
     "outputs_hidden": false
    }
   },
   "outputs": [],
   "source": [
    "from sklearn.feature_extraction import text\n",
    "\n",
    "vectorizer = text.CountVectorizer(max_df=0.95, max_features=n_features)\n",
    "counts = vectorizer.fit_transform(dataset.data[:n_samples])\n",
    "\n",
    "tfidf = text.TfidfTransformer().fit_transform(counts)\n",
    "tfidf"
   ]
  },
  {
   "cell_type": "markdown",
   "metadata": {},
   "source": [
    "Convert from a `scipy.sparse.csr_matrix` representation to a dense `numpy` array and remove negative values."
   ]
  },
  {
   "cell_type": "code",
   "execution_count": 18,
   "metadata": {
    "collapsed": false,
    "jupyter": {
     "outputs_hidden": false
    }
   },
   "outputs": [],
   "source": [
    "tfidf.toarray()"
   ]
  },
  {
   "cell_type": "markdown",
   "metadata": {},
   "source": [
    "## Extract some topics with Non-negative Matrix Factorization"
   ]
  },
  {
   "cell_type": "code",
   "execution_count": 19,
   "metadata": {
    "collapsed": true,
    "jupyter": {
     "outputs_hidden": true
    }
   },
   "outputs": [],
   "source": [
    "from sklearn import decomposition\n",
    "n_topics = 5\n",
    "\n",
    "nmf = decomposition.NMF(n_components=n_topics).fit(tfidf)"
   ]
  },
  {
   "cell_type": "code",
   "execution_count": 20,
   "metadata": {
    "collapsed": false,
    "jupyter": {
     "outputs_hidden": false
    },
    "persistent_id": "f7e023e1-4dd0-4ea3-8a2c-05203f97bfe4"
   },
   "outputs": [],
   "source": [
    "print(nmf)"
   ]
  },
  {
   "cell_type": "code",
   "execution_count": 21,
   "metadata": {
    "collapsed": false,
    "jupyter": {
     "outputs_hidden": false
    },
    "persistent_id": "991eecbf-3c85-4a62-a4b3-d386c16871ef"
   },
   "outputs": [],
   "source": [
    "print(nmf.components_)"
   ]
  },
  {
   "cell_type": "markdown",
   "metadata": {},
   "source": [
    "## Display the most important words for each extracted topic\n",
    "\n",
    "Reuse the vocabulary of the vectorizer to find the words names from the matrix positions."
   ]
  },
  {
   "cell_type": "code",
   "execution_count": 22,
   "metadata": {
    "collapsed": false,
    "jupyter": {
     "outputs_hidden": false
    },
    "persistent_id": "f1c34927-bdc8-45a4-b9d6-dd33167b8e8a"
   },
   "outputs": [],
   "source": [
    "n_top_words = 12\n",
    "inverse_vocabulary = dict((v, k) for k, v in vectorizer.vocabulary.iteritems())\n",
    "\n",
    "for topic_idx, topic in enumerate(nmf.components_):\n",
    "    print(\"Topic #%d: \" % topic_idx, \" \".join([inverse_vocabulary[i] for i in topic.argsort()[:-(n_top_words + 1):-1]]))"
   ]
  },
  {
   "cell_type": "code",
   "execution_count": null,
   "metadata": {
    "collapsed": true,
    "jupyter": {
     "outputs_hidden": true
    }
   },
   "outputs": [],
   "source": []
  }
 ],
 "metadata": {
  "history": [],
  "kernelspec": {
   "display_name": "Python 3",
   "language": "python",
   "name": "python3"
  },
  "language_info": {
   "codemirror_mode": {
    "name": "ipython",
    "version": 3
   },
   "file_extension": ".py",
   "mimetype": "text/x-python",
   "name": "python",
   "nbconvert_exporter": "python",
   "pygments_lexer": "ipython3",
   "version": "3.7.4"
  },
  "uuid": "4479981d-aca3-45d4-9240-a28ab3d2aa6c"
 },
 "nbformat": 4,
 "nbformat_minor": 4
}
