{
 "metadata": {
  "name": ""
 },
 "nbformat": 3,
 "nbformat_minor": 0,
 "worksheets": [
  {
   "cells": [
    {
     "cell_type": "code",
     "collapsed": false,
     "input": [
      "from sklearn.datasets import fetch_mldata"
     ],
     "language": "python",
     "metadata": {},
     "outputs": [],
     "prompt_number": 1
    },
    {
     "cell_type": "code",
     "collapsed": false,
     "input": [
      "mnist = fetch_mldata('MNIST Original')"
     ],
     "language": "python",
     "metadata": {},
     "outputs": [],
     "prompt_number": 2
    },
    {
     "cell_type": "code",
     "collapsed": false,
     "input": [
      "# normalize and use the native DT precision level \n",
      "X = (mnist.data / 255.).astype(np.float32)\n",
      "X_train, y_train = X[:60000], mnist.target[:60000]\n",
      "X_test, y_test = X[60000:], mnist.target[60000:]"
     ],
     "language": "python",
     "metadata": {},
     "outputs": [],
     "prompt_number": 3
    },
    {
     "cell_type": "code",
     "collapsed": false,
     "input": [
      "from IPython.parallel import Client\n",
      "\n",
      "client = Client()\n",
      "lb_view = client.load_balanced_view()\n",
      "len(lb_view)"
     ],
     "language": "python",
     "metadata": {},
     "outputs": [
      {
       "metadata": {},
       "output_type": "pyout",
       "prompt_number": 4,
       "text": [
        "95"
       ]
      }
     ],
     "prompt_number": 4
    },
    {
     "cell_type": "code",
     "collapsed": false,
     "input": [
      "from sklearn.ensemble import ExtraTreesClassifier\n",
      "from pyrallel.model_selection import RandomizedGridSeach\n",
      "from pyrallel.mmap_utils import persist_cv_splits\n",
      "from sklearn.cross_validation import ShuffleSplit"
     ],
     "language": "python",
     "metadata": {},
     "outputs": [],
     "prompt_number": 5
    },
    {
     "cell_type": "code",
     "collapsed": false,
     "input": [
      "n_samples_dev = 60000  # make it possible to use a subsample of the trainingset\n",
      "X_dev, y_dev = X_train[:n_samples_dev], y_train[:n_samples_dev]\n",
      "\n",
      "cv_split_filenames = persist_cv_splits(X_dev, y_dev, n_cv_iter=2,\n",
      "                                       test_size=0.25, random_state=0)"
     ],
     "language": "python",
     "metadata": {},
     "outputs": [],
     "prompt_number": 6
    },
    {
     "cell_type": "code",
     "collapsed": false,
     "input": [
      "params = {\n",
      "    'criterion': ['gini', 'entropy'],\n",
      "    'max_features': [10, 20, 30, 50, 100, 200, 500, 768],\n",
      "    'min_samples_split': [2, 5, 10, 15, 20, 25, 30, 40, 50, 75, 100, 150, 200],\n",
      "}\n",
      "\n",
      "et = ExtraTreesClassifier(n_estimators=100, random_state=0)\n",
      "rgs = RandomizedGridSeach(lb_view, random_state=0)"
     ],
     "language": "python",
     "metadata": {},
     "outputs": [],
     "prompt_number": 7
    },
    {
     "cell_type": "code",
     "collapsed": false,
     "input": [
      "rgs.launch_for_splits(et, params, cv_split_filenames)"
     ],
     "language": "python",
     "metadata": {},
     "outputs": [
      {
       "metadata": {},
       "output_type": "pyout",
       "prompt_number": 8,
       "text": [
        "Progress: 00% (000/416)\n"
       ]
      }
     ],
     "prompt_number": 8
    },
    {
     "cell_type": "code",
     "collapsed": false,
     "input": [
      "print(rgs.report(n_top=100))"
     ],
     "language": "python",
     "metadata": {},
     "outputs": [
      {
       "output_type": "stream",
       "stream": "stdout",
       "text": [
        "Progress: 100% (416/416)\n",
        "\n",
        "Rank 1: validation: 0.97377 (+/-0.00103) train: 1.00000 (+/-0.00000):\n",
        " {'max_features': 100, 'min_samples_split': 2, 'criterion': 'gini'}\n",
        "Rank 2: validation: 0.97273 (+/-0.00107) train: 1.00000 (+/-0.00000):\n",
        " {'max_features': 50, 'min_samples_split': 2, 'criterion': 'gini'}\n",
        "Rank 3: validation: 0.97253 (+/-0.00047) train: 1.00000 (+/-0.00000):\n",
        " {'max_features': 30, 'min_samples_split': 2, 'criterion': 'gini'}\n",
        "Rank 4: validation: 0.97247 (+/-0.00133) train: 1.00000 (+/-0.00000):\n",
        " {'max_features': 200, 'min_samples_split': 2, 'criterion': 'entropy'}\n",
        "Rank 5: validation: 0.97223 (+/-0.00150) train: 1.00000 (+/-0.00000):\n",
        " {'max_features': 100, 'min_samples_split': 2, 'criterion': 'entropy'}\n",
        "Rank 6: validation: 0.97193 (+/-0.00067) train: 1.00000 (+/-0.00000):\n",
        " {'max_features': 100, 'min_samples_split': 5, 'criterion': 'gini'}\n",
        "Rank 7: validation: 0.97183 (+/-0.00083) train: 1.00000 (+/-0.00000):\n",
        " {'max_features': 200, 'min_samples_split': 2, 'criterion': 'gini'}\n",
        "Rank 8: validation: 0.97177 (+/-0.00097) train: 1.00000 (+/-0.00000):\n",
        " {'max_features': 50, 'min_samples_split': 2, 'criterion': 'entropy'}\n",
        "Rank 9: validation: 0.97167 (+/-0.00080) train: 1.00000 (+/-0.00000):\n",
        " {'max_features': 20, 'min_samples_split': 2, 'criterion': 'entropy'}\n",
        "Rank 10: validation: 0.97157 (+/-0.00123) train: 1.00000 (+/-0.00000):\n",
        " {'max_features': 200, 'min_samples_split': 5, 'criterion': 'gini'}\n",
        "Rank 11: validation: 0.97143 (+/-0.00163) train: 1.00000 (+/-0.00000):\n",
        " {'max_features': 100, 'min_samples_split': 5, 'criterion': 'entropy'}\n",
        "Rank 12: validation: 0.97143 (+/-0.00143) train: 1.00000 (+/-0.00000):\n",
        " {'max_features': 50, 'min_samples_split': 5, 'criterion': 'gini'}\n",
        "Rank 13: validation: 0.97143 (+/-0.00083) train: 1.00000 (+/-0.00000):\n",
        " {'max_features': 50, 'min_samples_split': 5, 'criterion': 'entropy'}\n",
        "Rank 14: validation: 0.97130 (+/-0.00077) train: 1.00000 (+/-0.00000):\n",
        " {'max_features': 30, 'min_samples_split': 2, 'criterion': 'entropy'}\n",
        "Rank 15: validation: 0.97123 (+/-0.00037) train: 1.00000 (+/-0.00000):\n",
        " {'max_features': 30, 'min_samples_split': 5, 'criterion': 'gini'}\n",
        "Rank 16: validation: 0.97117 (+/-0.00023) train: 1.00000 (+/-0.00000):\n",
        " {'max_features': 20, 'min_samples_split': 2, 'criterion': 'gini'}\n",
        "Rank 17: validation: 0.97107 (+/-0.00133) train: 1.00000 (+/-0.00000):\n",
        " {'max_features': 200, 'min_samples_split': 5, 'criterion': 'entropy'}\n",
        "Rank 18: validation: 0.97103 (+/-0.00123) train: 1.00000 (+/-0.00000):\n",
        " {'max_features': 500, 'min_samples_split': 2, 'criterion': 'gini'}\n",
        "Rank 19: validation: 0.97100 (+/-0.00133) train: 1.00000 (+/-0.00000):\n",
        " {'max_features': 500, 'min_samples_split': 2, 'criterion': 'entropy'}\n",
        "Rank 20: validation: 0.97070 (+/-0.00083) train: 1.00000 (+/-0.00000):\n",
        " {'max_features': 20, 'min_samples_split': 5, 'criterion': 'gini'}\n",
        "Rank 21: validation: 0.97057 (+/-0.00083) train: 1.00000 (+/-0.00000):\n",
        " {'max_features': 768, 'min_samples_split': 2, 'criterion': 'gini'}\n",
        "Rank 22: validation: 0.97053 (+/-0.00053) train: 1.00000 (+/-0.00000):\n",
        " {'max_features': 500, 'min_samples_split': 5, 'criterion': 'gini'}\n",
        "Rank 23: validation: 0.97047 (+/-0.00100) train: 1.00000 (+/-0.00000):\n",
        " {'max_features': 768, 'min_samples_split': 2, 'criterion': 'entropy'}\n",
        "Rank 24: validation: 0.97043 (+/-0.00110) train: 1.00000 (+/-0.00000):\n",
        " {'max_features': 500, 'min_samples_split': 5, 'criterion': 'entropy'}\n",
        "Rank 25: validation: 0.97040 (+/-0.00113) train: 0.99992 (+/-0.00001):\n",
        " {'max_features': 50, 'min_samples_split': 10, 'criterion': 'gini'}\n",
        "Rank 26: validation: 0.97040 (+/-0.00080) train: 0.99999 (+/-0.00001):\n",
        " {'max_features': 200, 'min_samples_split': 10, 'criterion': 'gini'}\n",
        "Rank 27: validation: 0.97037 (+/-0.00097) train: 0.99997 (+/-0.00001):\n",
        " {'max_features': 100, 'min_samples_split': 10, 'criterion': 'gini'}\n",
        "Rank 28: validation: 0.97020 (+/-0.00080) train: 1.00000 (+/-0.00000):\n",
        " {'max_features': 20, 'min_samples_split': 5, 'criterion': 'entropy'}\n",
        "Rank 29: validation: 0.97010 (+/-0.00083) train: 1.00000 (+/-0.00000):\n",
        " {'max_features': 30, 'min_samples_split': 5, 'criterion': 'entropy'}\n",
        "Rank 30: validation: 0.97000 (+/-0.00147) train: 0.99997 (+/-0.00001):\n",
        " {'max_features': 50, 'min_samples_split': 10, 'criterion': 'entropy'}\n",
        "Rank 31: validation: 0.96950 (+/-0.00097) train: 1.00000 (+/-0.00000):\n",
        " {'max_features': 768, 'min_samples_split': 5, 'criterion': 'gini'}\n",
        "Rank 32: validation: 0.96950 (+/-0.00090) train: 1.00000 (+/-0.00000):\n",
        " {'max_features': 10, 'min_samples_split': 2, 'criterion': 'entropy'}\n",
        "Rank 33: validation: 0.96930 (+/-0.00123) train: 1.00000 (+/-0.00000):\n",
        " {'max_features': 768, 'min_samples_split': 5, 'criterion': 'entropy'}\n",
        "Rank 34: validation: 0.96920 (+/-0.00193) train: 1.00000 (+/-0.00000):\n",
        " {'max_features': 200, 'min_samples_split': 10, 'criterion': 'entropy'}\n",
        "Rank 35: validation: 0.96907 (+/-0.00127) train: 1.00000 (+/-0.00000):\n",
        " {'max_features': 10, 'min_samples_split': 2, 'criterion': 'gini'}\n",
        "Rank 36: validation: 0.96897 (+/-0.00050) train: 1.00000 (+/-0.00000):\n",
        " {'max_features': 500, 'min_samples_split': 10, 'criterion': 'entropy'}\n",
        "Rank 37: validation: 0.96897 (+/-0.00110) train: 0.99989 (+/-0.00002):\n",
        " {'max_features': 20, 'min_samples_split': 10, 'criterion': 'gini'}\n",
        "Rank 38: validation: 0.96887 (+/-0.00087) train: 0.99974 (+/-0.00001):\n",
        " {'max_features': 200, 'min_samples_split': 15, 'criterion': 'gini'}\n",
        "Rank 39: validation: 0.96883 (+/-0.00043) train: 1.00000 (+/-0.00000):\n",
        " {'max_features': 100, 'min_samples_split': 10, 'criterion': 'entropy'}\n",
        "Rank 40: validation: 0.96877 (+/-0.00043) train: 0.99997 (+/-0.00001):\n",
        " {'max_features': 30, 'min_samples_split': 10, 'criterion': 'gini'}\n",
        "Rank 41: validation: 0.96873 (+/-0.00100) train: 0.99997 (+/-0.00001):\n",
        " {'max_features': 500, 'min_samples_split': 10, 'criterion': 'gini'}\n",
        "Rank 42: validation: 0.96847 (+/-0.00107) train: 1.00000 (+/-0.00000):\n",
        " {'max_features': 10, 'min_samples_split': 5, 'criterion': 'entropy'}\n",
        "Rank 43: validation: 0.96847 (+/-0.00093) train: 0.99994 (+/-0.00001):\n",
        " {'max_features': 30, 'min_samples_split': 10, 'criterion': 'entropy'}\n",
        "Rank 44: validation: 0.96843 (+/-0.00123) train: 1.00000 (+/-0.00000):\n",
        " {'max_features': 10, 'min_samples_split': 5, 'criterion': 'gini'}\n",
        "Rank 45: validation: 0.96843 (+/-0.00037) train: 0.99944 (+/-0.00004):\n",
        " {'max_features': 50, 'min_samples_split': 15, 'criterion': 'gini'}\n",
        "Rank 46: validation: 0.96810 (+/-0.00163) train: 0.99968 (+/-0.00006):\n",
        " {'max_features': 100, 'min_samples_split': 15, 'criterion': 'gini'}\n",
        "Rank 47: validation: 0.96810 (+/-0.00050) train: 0.99996 (+/-0.00000):\n",
        " {'max_features': 768, 'min_samples_split': 10, 'criterion': 'gini'}\n",
        "Rank 48: validation: 0.96783 (+/-0.00097) train: 1.00000 (+/-0.00000):\n",
        " {'max_features': 768, 'min_samples_split': 10, 'criterion': 'entropy'}\n",
        "Rank 49: validation: 0.96780 (+/-0.00060) train: 0.99979 (+/-0.00003):\n",
        " {'max_features': 200, 'min_samples_split': 15, 'criterion': 'entropy'}\n",
        "Rank 50: validation: 0.96747 (+/-0.00107) train: 0.99908 (+/-0.00003):\n",
        " {'max_features': 200, 'min_samples_split': 20, 'criterion': 'gini'}\n",
        "Rank 51: validation: 0.96733 (+/-0.00107) train: 0.99973 (+/-0.00004):\n",
        " {'max_features': 500, 'min_samples_split': 15, 'criterion': 'gini'}\n",
        "Rank 52: validation: 0.96723 (+/-0.00057) train: 0.99972 (+/-0.00003):\n",
        " {'max_features': 100, 'min_samples_split': 15, 'criterion': 'entropy'}\n",
        "Rank 53: validation: 0.96713 (+/-0.00053) train: 0.99992 (+/-0.00003):\n",
        " {'max_features': 20, 'min_samples_split': 10, 'criterion': 'entropy'}\n",
        "Rank 54: validation: 0.96700 (+/-0.00093) train: 0.99988 (+/-0.00001):\n",
        " {'max_features': 500, 'min_samples_split': 15, 'criterion': 'entropy'}\n",
        "Rank 55: validation: 0.96693 (+/-0.00073) train: 0.99892 (+/-0.00006):\n",
        " {'max_features': 20, 'min_samples_split': 15, 'criterion': 'gini'}\n",
        "Rank 56: validation: 0.96690 (+/-0.00030) train: 0.99879 (+/-0.00006):\n",
        " {'max_features': 100, 'min_samples_split': 20, 'criterion': 'gini'}\n",
        "Rank 57: validation: 0.96680 (+/-0.00047) train: 0.99832 (+/-0.00003):\n",
        " {'max_features': 50, 'min_samples_split': 20, 'criterion': 'gini'}\n",
        "Rank 58: validation: 0.96680 (+/-0.00073) train: 0.99929 (+/-0.00009):\n",
        " {'max_features': 50, 'min_samples_split': 15, 'criterion': 'entropy'}\n",
        "Rank 59: validation: 0.96667 (+/-0.00033) train: 0.99914 (+/-0.00006):\n",
        " {'max_features': 30, 'min_samples_split': 15, 'criterion': 'entropy'}\n",
        "Rank 60: validation: 0.96663 (+/-0.00050) train: 0.99924 (+/-0.00011):\n",
        " {'max_features': 30, 'min_samples_split': 15, 'criterion': 'gini'}\n",
        "Rank 61: validation: 0.96657 (+/-0.00103) train: 0.99981 (+/-0.00003):\n",
        " {'max_features': 768, 'min_samples_split': 15, 'criterion': 'entropy'}\n",
        "Rank 62: validation: 0.96653 (+/-0.00093) train: 0.99782 (+/-0.00016):\n",
        " {'max_features': 30, 'min_samples_split': 20, 'criterion': 'gini'}\n",
        "Rank 63: validation: 0.96617 (+/-0.00143) train: 0.99969 (+/-0.00000):\n",
        " {'max_features': 768, 'min_samples_split': 15, 'criterion': 'gini'}\n",
        "Rank 64: validation: 0.96617 (+/-0.00070) train: 0.99810 (+/-0.00006):\n",
        " {'max_features': 200, 'min_samples_split': 25, 'criterion': 'gini'}\n",
        "Rank 65: validation: 0.96587 (+/-0.00040) train: 0.99977 (+/-0.00008):\n",
        " {'max_features': 10, 'min_samples_split': 10, 'criterion': 'gini'}\n",
        "Rank 66: validation: 0.96587 (+/-0.00040) train: 0.99971 (+/-0.00004):\n",
        " {'max_features': 10, 'min_samples_split': 10, 'criterion': 'entropy'}\n",
        "Rank 67: validation: 0.96550 (+/-0.00150) train: 0.99880 (+/-0.00009):\n",
        " {'max_features': 200, 'min_samples_split': 20, 'criterion': 'entropy'}\n",
        "Rank 68: validation: 0.96547 (+/-0.00153) train: 0.99848 (+/-0.00008):\n",
        " {'max_features': 100, 'min_samples_split': 20, 'criterion': 'entropy'}\n",
        "Rank 69: validation: 0.96540 (+/-0.00007) train: 0.99774 (+/-0.00001):\n",
        " {'max_features': 50, 'min_samples_split': 20, 'criterion': 'entropy'}\n",
        "Rank 70: validation: 0.96537 (+/-0.00117) train: 0.99771 (+/-0.00002):\n",
        " {'max_features': 100, 'min_samples_split': 25, 'criterion': 'gini'}\n",
        "Rank 71: validation: 0.96530 (+/-0.00070) train: 0.99923 (+/-0.00001):\n",
        " {'max_features': 500, 'min_samples_split': 20, 'criterion': 'gini'}\n",
        "Rank 72: validation: 0.96510 (+/-0.00137) train: 0.99902 (+/-0.00007):\n",
        " {'max_features': 500, 'min_samples_split': 20, 'criterion': 'entropy'}\n",
        "Rank 73: validation: 0.96500 (+/-0.00087) train: 0.99911 (+/-0.00007):\n",
        " {'max_features': 768, 'min_samples_split': 20, 'criterion': 'gini'}\n",
        "Rank 74: validation: 0.96497 (+/-0.00030) train: 0.99737 (+/-0.00008):\n",
        " {'max_features': 20, 'min_samples_split': 20, 'criterion': 'gini'}\n",
        "Rank 75: validation: 0.96483 (+/-0.00090) train: 0.99877 (+/-0.00008):\n",
        " {'max_features': 20, 'min_samples_split': 15, 'criterion': 'entropy'}\n",
        "Rank 76: validation: 0.96470 (+/-0.00063) train: 0.99642 (+/-0.00002):\n",
        " {'max_features': 100, 'min_samples_split': 25, 'criterion': 'entropy'}\n",
        "Rank 77: validation: 0.96467 (+/-0.00127) train: 0.99719 (+/-0.00008):\n",
        " {'max_features': 200, 'min_samples_split': 25, 'criterion': 'entropy'}\n",
        "Rank 78: validation: 0.96467 (+/-0.00153) train: 0.99720 (+/-0.00016):\n",
        " {'max_features': 30, 'min_samples_split': 20, 'criterion': 'entropy'}\n",
        "Rank 79: validation: 0.96437 (+/-0.00137) train: 0.99871 (+/-0.00009):\n",
        " {'max_features': 768, 'min_samples_split': 20, 'criterion': 'entropy'}\n",
        "Rank 80: validation: 0.96433 (+/-0.00027) train: 0.99850 (+/-0.00028):\n",
        " {'max_features': 10, 'min_samples_split': 15, 'criterion': 'gini'}\n",
        "Rank 81: validation: 0.96423 (+/-0.00130) train: 0.99678 (+/-0.00004):\n",
        " {'max_features': 200, 'min_samples_split': 30, 'criterion': 'gini'}\n",
        "Rank 82: validation: 0.96400 (+/-0.00100) train: 0.99747 (+/-0.00007):\n",
        " {'max_features': 500, 'min_samples_split': 25, 'criterion': 'entropy'}\n",
        "Rank 83: validation: 0.96390 (+/-0.00090) train: 0.99611 (+/-0.00009):\n",
        " {'max_features': 100, 'min_samples_split': 30, 'criterion': 'gini'}\n",
        "Rank 84: validation: 0.96387 (+/-0.00047) train: 0.99819 (+/-0.00001):\n",
        " {'max_features': 500, 'min_samples_split': 25, 'criterion': 'gini'}\n",
        "Rank 85: validation: 0.96370 (+/-0.00143) train: 0.99628 (+/-0.00010):\n",
        " {'max_features': 30, 'min_samples_split': 25, 'criterion': 'gini'}\n",
        "Rank 86: validation: 0.96360 (+/-0.00087) train: 0.99684 (+/-0.00013):\n",
        " {'max_features': 50, 'min_samples_split': 25, 'criterion': 'gini'}\n",
        "Rank 87: validation: 0.96357 (+/-0.00010) train: 0.99548 (+/-0.00014):\n",
        " {'max_features': 50, 'min_samples_split': 25, 'criterion': 'entropy'}\n",
        "Rank 88: validation: 0.96333 (+/-0.00140) train: 0.99488 (+/-0.00001):\n",
        " {'max_features': 200, 'min_samples_split': 30, 'criterion': 'entropy'}\n",
        "Rank 89: validation: 0.96327 (+/-0.00113) train: 0.99468 (+/-0.00017):\n",
        " {'max_features': 30, 'min_samples_split': 25, 'criterion': 'entropy'}\n",
        "Rank 90: validation: 0.96317 (+/-0.00097) train: 0.99436 (+/-0.00009):\n",
        " {'max_features': 100, 'min_samples_split': 30, 'criterion': 'entropy'}\n",
        "Rank 91: validation: 0.96303 (+/-0.00123) train: 0.99816 (+/-0.00002):\n",
        " {'max_features': 10, 'min_samples_split': 15, 'criterion': 'entropy'}\n",
        "Rank 92: validation: 0.96303 (+/-0.00097) train: 0.99678 (+/-0.00004):\n",
        " {'max_features': 20, 'min_samples_split': 20, 'criterion': 'entropy'}\n",
        "Rank 93: validation: 0.96303 (+/-0.00017) train: 0.99509 (+/-0.00020):\n",
        " {'max_features': 50, 'min_samples_split': 30, 'criterion': 'gini'}\n",
        "Rank 94: validation: 0.96297 (+/-0.00230) train: 0.99801 (+/-0.00006):\n",
        " {'max_features': 768, 'min_samples_split': 25, 'criterion': 'gini'}\n",
        "Rank 95: validation: 0.96273 (+/-0.00013) train: 0.99388 (+/-0.00026):\n",
        " {'max_features': 200, 'min_samples_split': 40, 'criterion': 'gini'}\n",
        "Rank 96: validation: 0.96260 (+/-0.00013) train: 0.99421 (+/-0.00008):\n",
        " {'max_features': 30, 'min_samples_split': 30, 'criterion': 'gini'}\n",
        "Rank 97: validation: 0.96257 (+/-0.00137) train: 0.99549 (+/-0.00016):\n",
        " {'max_features': 20, 'min_samples_split': 25, 'criterion': 'gini'}\n",
        "Rank 98: validation: 0.96253 (+/-0.00133) train: 0.99700 (+/-0.00004):\n",
        " {'max_features': 768, 'min_samples_split': 25, 'criterion': 'entropy'}\n",
        "Rank 99: validation: 0.96253 (+/-0.00147) train: 0.99698 (+/-0.00007):\n",
        " {'max_features': 500, 'min_samples_split': 30, 'criterion': 'gini'}\n",
        "Rank 100: validation: 0.96233 (+/-0.00000) train: 0.99637 (+/-0.00003):\n",
        " {'max_features': 10, 'min_samples_split': 20, 'criterion': 'gini'}\n"
       ]
      }
     ],
     "prompt_number": 73
    },
    {
     "cell_type": "code",
     "collapsed": false,
     "input": [
      "rgs.boxplot_parameters()"
     ],
     "language": "python",
     "metadata": {},
     "outputs": [
      {
       "metadata": {},
       "output_type": "display_data",
       "png": "[encoded data removed]",
       "text": [
        "<matplotlib.figure.Figure at 0x2ac9f10>"
       ]
      }
     ],
     "prompt_number": 77
    },
    {
     "cell_type": "code",
     "collapsed": false,
     "input": [
      "et_final = ExtraTreesClassifier(n_estimators=1000,\n",
      "                                max_features=100,\n",
      "                                min_samples_split=2,\n",
      "                                n_jobs=16, random_state=0)\n",
      "%time et_final.fit(X_train, y_train)"
     ],
     "language": "python",
     "metadata": {},
     "outputs": [
      {
       "output_type": "stream",
       "stream": "stdout",
       "text": [
        "CPU times: user 8.36 s, sys: 8.87 s, total: 17.2 s\n",
        "Wall time: 6min 58s\n"
       ]
      },
      {
       "metadata": {},
       "output_type": "pyout",
       "prompt_number": 74,
       "text": [
        "ExtraTreesClassifier(bootstrap=False, compute_importances=None,\n",
        "           criterion='gini', max_depth=None, max_features=100,\n",
        "           min_density=None, min_samples_leaf=1, min_samples_split=2,\n",
        "           n_estimators=1000, n_jobs=16, oob_score=False, random_state=0,\n",
        "           verbose=0)"
       ]
      }
     ],
     "prompt_number": 74
    },
    {
     "cell_type": "code",
     "collapsed": false,
     "input": [
      "%time test_score = et_final.score(X_test, y_test)"
     ],
     "language": "python",
     "metadata": {},
     "outputs": [
      {
       "output_type": "stream",
       "stream": "stdout",
       "text": [
        "CPU times: user 3.38 s, sys: 3.36 s, total: 6.74 s\n",
        "Wall time: 10.7 s\n"
       ]
      }
     ],
     "prompt_number": 75
    },
    {
     "cell_type": "code",
     "collapsed": false,
     "input": [
      "test_error = 1. - test_score\n",
      "test_error"
     ],
     "language": "python",
     "metadata": {},
     "outputs": [
      {
       "metadata": {},
       "output_type": "pyout",
       "prompt_number": 76,
       "text": [
        "0.024299999999999988"
       ]
      }
     ],
     "prompt_number": 76
    }
   ],
   "metadata": {}
  }
 ]
}