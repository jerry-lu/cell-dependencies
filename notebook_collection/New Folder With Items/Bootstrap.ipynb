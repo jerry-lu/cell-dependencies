{
 "metadata": {
  "name": ""
 },
 "nbformat": 3,
 "nbformat_minor": 0,
 "worksheets": [
  {
   "cells": [
    {
     "cell_type": "code",
     "collapsed": false,
     "input": [
      "%matplotlib inline\n",
      "import numpy as np\n",
      "import pandas as pd\n",
      "import matplotlib.pyplot as plt\n",
      "from joblib.parallel import Parallel, delayed"
     ],
     "language": "python",
     "metadata": {},
     "outputs": [],
     "prompt_number": 2
    },
    {
     "cell_type": "code",
     "collapsed": false,
     "input": [
      "def bootstrap(data, agg=np.mean, n_bootstraps=10000, seed=None, ci_width=0.95):\n",
      "    data = np.asarray(data)\n",
      "    rng = np.random.RandomState(seed)\n",
      "    n_samples = len(data)\n",
      "    all_aggs = []\n",
      "    for i in range(n_bootstraps):\n",
      "        idx = rng.random_integers(low=0, high=n_samples - 1, size=n_samples)\n",
      "        all_aggs.append(agg(data[idx]))\n",
      "    boostrapped = np.asarray(all_aggs)\n",
      "    boostrapped.sort()\n",
      "    \n",
      "    ci_min = (1 - ci_width) / 2.\n",
      "    ci_max = 1. - ci_min\n",
      "    ci = boostrapped[int(ci_min * n_bootstraps)], boostrapped[int(ci_max * n_bootstraps)]\n",
      "    return boostrapped, ci"
     ],
     "language": "python",
     "metadata": {},
     "outputs": [],
     "prompt_number": 3
    },
    {
     "cell_type": "code",
     "collapsed": false,
     "input": [
      "bins = np.linspace(0, 1, 30)\n",
      "data = np.random.uniform(0, 1, size=10)\n",
      "_ = plt.hist(data, bins=bins, alpha=0.5)"
     ],
     "language": "python",
     "metadata": {},
     "outputs": [
      {
       "metadata": {},
       "output_type": "display_data",
       "png": "[encoded data removed]",
       "text": [
        "<matplotlib.figure.Figure at 0x3652b90>"
       ]
      }
     ],
     "prompt_number": 4
    },
    {
     "cell_type": "code",
     "collapsed": false,
     "input": [
      "data.mean()"
     ],
     "language": "python",
     "metadata": {},
     "outputs": [
      {
       "metadata": {},
       "output_type": "pyout",
       "prompt_number": 5,
       "text": [
        "0.47800950435078776"
       ]
      }
     ],
     "prompt_number": 5
    },
    {
     "cell_type": "code",
     "collapsed": false,
     "input": [
      "bootstrapped, ci = bootstrap(data, ci_width=0.99)\n",
      "_ = plt.hist(bootstrapped, bins=bins, alpha=0.5)\n",
      "ci"
     ],
     "language": "python",
     "metadata": {},
     "outputs": [
      {
       "metadata": {},
       "output_type": "pyout",
       "prompt_number": 6,
       "text": [
        "(0.19418497980251903, 0.77660497016829755)"
       ]
      },
      {
       "metadata": {},
       "output_type": "display_data",
       "png": "[encoded data removed]",
       "text": [
        "<matplotlib.figure.Figure at 0x3771dd0>"
       ]
      }
     ],
     "prompt_number": 6
    },
    {
     "cell_type": "code",
     "collapsed": false,
     "input": [
      "def unbiased_std(x):\n",
      "    return np.std(x, ddof=1)"
     ],
     "language": "python",
     "metadata": {},
     "outputs": [],
     "prompt_number": 7
    },
    {
     "cell_type": "code",
     "collapsed": false,
     "input": [
      "bootstrapped, ci = bootstrap(data, agg=unbiased_std, ci_width=0.99)\n",
      "_ = plt.hist(bootstrapped, bins=bins, alpha=0.5)\n",
      "plt.title(\"Bootstrap distribution for the std dev of a uniform variable\")\n",
      "ci"
     ],
     "language": "python",
     "metadata": {},
     "outputs": [
      {
       "metadata": {},
       "output_type": "pyout",
       "prompt_number": 8,
       "text": [
        "(0.19711553043302424, 0.46172529784033078)"
       ]
      },
      {
       "metadata": {},
       "output_type": "display_data",
       "png": "[encoded data removed]",
       "text": [
        "<matplotlib.figure.Figure at 0x3904e50>"
       ]
      }
     ],
     "prompt_number": 8
    },
    {
     "cell_type": "heading",
     "level": 2,
     "metadata": {},
     "source": [
      "Evaluation of the correctness of the bootstrap CI for the mean of a uniform variable"
     ]
    },
    {
     "cell_type": "code",
     "collapsed": false,
     "input": [
      "%%time\n",
      "\n",
      "target_ci_width = 0.95\n",
      "\n",
      "\n",
      "def compute_ci_correctness(n_samples, true_value, agg=np.mean, target_ci_width=0.95,\n",
      "                           n_runs = 100):\n",
      "    correctness = []\n",
      "    for i in range(n_runs):\n",
      "        data = np.random.uniform(0, 1, size=n_samples)\n",
      "        _, ci = bootstrap(data, agg=agg, ci_width=target_ci_width,\n",
      "                          n_bootstraps=5000)\n",
      "        correctness.append(float(ci[0] <= true_value <= ci[1]))\n",
      "        \n",
      "    # Look Ma': boostrap CI on the boostrap CI correctness\n",
      "    _, ci_outcomes = bootstrap(correctness, ci_width=0.99,\n",
      "                               n_bootstraps=10000)\n",
      "    return {\n",
      "        'n_samples': n_samples,\n",
      "        'correctness': np.mean(correctness),\n",
      "        'ci_0025_correct': ci_outcomes[0],\n",
      "        'ci_0975_correct': ci_outcomes[1],\n",
      "    }\n",
      "    \n",
      "\n",
      "all_outcomes = Parallel(n_jobs=-1)(delayed(compute_ci_correctness)(\n",
      "    n_samples, 0.5, agg=np.mean, target_ci_width=target_ci_width)\n",
      "    for n_samples in [3, 5, 10, 20, 30, 40, 50, 60, 70, 80, 90, 100])\n",
      "    \n",
      "all_outcomes = pd.DataFrame(all_outcomes)"
     ],
     "language": "python",
     "metadata": {},
     "outputs": [
      {
       "output_type": "stream",
       "stream": "stdout",
       "text": [
        "CPU times: user 44 ms, sys: 20 ms, total: 64 ms\n",
        "Wall time: 11.8 s\n"
       ]
      }
     ],
     "prompt_number": 17
    },
    {
     "cell_type": "code",
     "collapsed": false,
     "input": [
      "def plot_outcomes(all_outcomes, target_ci_width):\n",
      "    plt.fill_between(all_outcomes.n_samples.values,\n",
      "                     all_outcomes.ci_0025_correct.values,\n",
      "                     all_outcomes.ci_0975_correct.values,\n",
      "                     alpha=0.2, color='b')\n",
      "    plt.plot(all_outcomes.n_samples, all_outcomes.correctness, 'o-',\n",
      "             alpha=0.8, color='b')\n",
      "    \n",
      "    plt.hlines(target_ci_width,\n",
      "               all_outcomes.n_samples.min(), all_outcomes.n_samples.max(),\n",
      "               linestyles='dotted')\n",
      "    plt.ylim(0.5, 1)\n",
      "    plt.title(\"Correctness of the bootstrap CI interval\")\n",
      "    plt.xlabel(\"Number of source samples\")\n",
      "    plt.ylabel(\"Rate of true value belonging to the CI interval\")\n",
      "    \n",
      "plot_outcomes(all_outcomes, target_ci_width)\n",
      "all_outcomes"
     ],
     "language": "python",
     "metadata": {},
     "outputs": [
      {
       "html": [
        "<div style=\"max-height:1000px;max-width:1500px;overflow:auto;\">\n",
        "<table border=\"1\" class=\"dataframe\">\n",
        "  <thead>\n",
        "    <tr style=\"text-align: right;\">\n",
        "      <th></th>\n",
        "      <th>ci_0025_correct</th>\n",
        "      <th>ci_0975_correct</th>\n",
        "      <th>correctness</th>\n",
        "      <th>n_samples</th>\n",
        "    </tr>\n",
        "  </thead>\n",
        "  <tbody>\n",
        "    <tr>\n",
        "      <th>0 </th>\n",
        "      <td> 0.51</td>\n",
        "      <td> 0.76</td>\n",
        "      <td> 0.64</td>\n",
        "      <td>   3</td>\n",
        "    </tr>\n",
        "    <tr>\n",
        "      <th>1 </th>\n",
        "      <td> 0.67</td>\n",
        "      <td> 0.88</td>\n",
        "      <td> 0.78</td>\n",
        "      <td>   5</td>\n",
        "    </tr>\n",
        "    <tr>\n",
        "      <th>2 </th>\n",
        "      <td> 0.79</td>\n",
        "      <td> 0.95</td>\n",
        "      <td> 0.88</td>\n",
        "      <td>  10</td>\n",
        "    </tr>\n",
        "    <tr>\n",
        "      <th>3 </th>\n",
        "      <td> 0.92</td>\n",
        "      <td> 1.00</td>\n",
        "      <td> 0.97</td>\n",
        "      <td>  20</td>\n",
        "    </tr>\n",
        "    <tr>\n",
        "      <th>4 </th>\n",
        "      <td> 0.87</td>\n",
        "      <td> 0.99</td>\n",
        "      <td> 0.94</td>\n",
        "      <td>  30</td>\n",
        "    </tr>\n",
        "    <tr>\n",
        "      <th>5 </th>\n",
        "      <td> 0.92</td>\n",
        "      <td> 1.00</td>\n",
        "      <td> 0.97</td>\n",
        "      <td>  40</td>\n",
        "    </tr>\n",
        "    <tr>\n",
        "      <th>6 </th>\n",
        "      <td> 0.96</td>\n",
        "      <td> 1.00</td>\n",
        "      <td> 0.99</td>\n",
        "      <td>  50</td>\n",
        "    </tr>\n",
        "    <tr>\n",
        "      <th>7 </th>\n",
        "      <td> 0.92</td>\n",
        "      <td> 1.00</td>\n",
        "      <td> 0.97</td>\n",
        "      <td>  60</td>\n",
        "    </tr>\n",
        "    <tr>\n",
        "      <th>8 </th>\n",
        "      <td> 0.90</td>\n",
        "      <td> 1.00</td>\n",
        "      <td> 0.96</td>\n",
        "      <td>  70</td>\n",
        "    </tr>\n",
        "    <tr>\n",
        "      <th>9 </th>\n",
        "      <td> 0.92</td>\n",
        "      <td> 1.00</td>\n",
        "      <td> 0.97</td>\n",
        "      <td>  80</td>\n",
        "    </tr>\n",
        "    <tr>\n",
        "      <th>10</th>\n",
        "      <td> 0.92</td>\n",
        "      <td> 1.00</td>\n",
        "      <td> 0.97</td>\n",
        "      <td>  90</td>\n",
        "    </tr>\n",
        "    <tr>\n",
        "      <th>11</th>\n",
        "      <td> 0.90</td>\n",
        "      <td> 1.00</td>\n",
        "      <td> 0.96</td>\n",
        "      <td> 100</td>\n",
        "    </tr>\n",
        "  </tbody>\n",
        "</table>\n",
        "</div>"
       ],
       "metadata": {},
       "output_type": "pyout",
       "prompt_number": 18,
       "text": [
        "    ci_0025_correct  ci_0975_correct  correctness  n_samples\n",
        "0              0.51             0.76         0.64          3\n",
        "1              0.67             0.88         0.78          5\n",
        "2              0.79             0.95         0.88         10\n",
        "3              0.92             1.00         0.97         20\n",
        "4              0.87             0.99         0.94         30\n",
        "5              0.92             1.00         0.97         40\n",
        "6              0.96             1.00         0.99         50\n",
        "7              0.92             1.00         0.97         60\n",
        "8              0.90             1.00         0.96         70\n",
        "9              0.92             1.00         0.97         80\n",
        "10             0.92             1.00         0.97         90\n",
        "11             0.90             1.00         0.96        100"
       ]
      },
      {
       "metadata": {},
       "output_type": "display_data",
       "png": "[encoded data removed]",
       "text": [
        "<matplotlib.figure.Figure at 0x3900e10>"
       ]
      }
     ],
     "prompt_number": 18
    },
    {
     "cell_type": "heading",
     "level": 2,
     "metadata": {},
     "source": [
      "Evaluation of the correctness of the bootstrap CI for the std deviation of a uniform variable"
     ]
    },
    {
     "cell_type": "code",
     "collapsed": false,
     "input": [
      "all_outcomes = Parallel(n_jobs=-1)(delayed(compute_ci_correctness)(\n",
      "    n_samples, 1 / np.sqrt(12), target_ci_width=target_ci_width, agg=unbiased_std)\n",
      "    for n_samples in [3, 5, 10, 20, 30, 40, 50, 60, 70, 80, 90, 100])\n",
      "    \n",
      "all_outcomes = pd.DataFrame(all_outcomes)"
     ],
     "language": "python",
     "metadata": {},
     "outputs": [],
     "prompt_number": 19
    },
    {
     "cell_type": "code",
     "collapsed": false,
     "input": [
      "plot_outcomes(all_outcomes, target_ci_width)\n",
      "all_outcomes"
     ],
     "language": "python",
     "metadata": {},
     "outputs": [
      {
       "html": [
        "<div style=\"max-height:1000px;max-width:1500px;overflow:auto;\">\n",
        "<table border=\"1\" class=\"dataframe\">\n",
        "  <thead>\n",
        "    <tr style=\"text-align: right;\">\n",
        "      <th></th>\n",
        "      <th>ci_0025_correct</th>\n",
        "      <th>ci_0975_correct</th>\n",
        "      <th>correctness</th>\n",
        "      <th>n_samples</th>\n",
        "    </tr>\n",
        "  </thead>\n",
        "  <tbody>\n",
        "    <tr>\n",
        "      <th>0 </th>\n",
        "      <td> 0.24</td>\n",
        "      <td> 0.49</td>\n",
        "      <td> 0.36</td>\n",
        "      <td>   3</td>\n",
        "    </tr>\n",
        "    <tr>\n",
        "      <th>1 </th>\n",
        "      <td> 0.50</td>\n",
        "      <td> 0.75</td>\n",
        "      <td> 0.63</td>\n",
        "      <td>   5</td>\n",
        "    </tr>\n",
        "    <tr>\n",
        "      <th>2 </th>\n",
        "      <td> 0.80</td>\n",
        "      <td> 0.96</td>\n",
        "      <td> 0.89</td>\n",
        "      <td>  10</td>\n",
        "    </tr>\n",
        "    <tr>\n",
        "      <th>3 </th>\n",
        "      <td> 0.82</td>\n",
        "      <td> 0.97</td>\n",
        "      <td> 0.90</td>\n",
        "      <td>  20</td>\n",
        "    </tr>\n",
        "    <tr>\n",
        "      <th>4 </th>\n",
        "      <td> 0.84</td>\n",
        "      <td> 0.98</td>\n",
        "      <td> 0.92</td>\n",
        "      <td>  30</td>\n",
        "    </tr>\n",
        "    <tr>\n",
        "      <th>5 </th>\n",
        "      <td> 0.87</td>\n",
        "      <td> 0.99</td>\n",
        "      <td> 0.94</td>\n",
        "      <td>  40</td>\n",
        "    </tr>\n",
        "    <tr>\n",
        "      <th>6 </th>\n",
        "      <td> 0.87</td>\n",
        "      <td> 0.99</td>\n",
        "      <td> 0.94</td>\n",
        "      <td>  50</td>\n",
        "    </tr>\n",
        "    <tr>\n",
        "      <th>7 </th>\n",
        "      <td> 0.83</td>\n",
        "      <td> 0.97</td>\n",
        "      <td> 0.91</td>\n",
        "      <td>  60</td>\n",
        "    </tr>\n",
        "    <tr>\n",
        "      <th>8 </th>\n",
        "      <td> 0.89</td>\n",
        "      <td> 1.00</td>\n",
        "      <td> 0.95</td>\n",
        "      <td>  70</td>\n",
        "    </tr>\n",
        "    <tr>\n",
        "      <th>9 </th>\n",
        "      <td> 0.92</td>\n",
        "      <td> 1.00</td>\n",
        "      <td> 0.97</td>\n",
        "      <td>  80</td>\n",
        "    </tr>\n",
        "    <tr>\n",
        "      <th>10</th>\n",
        "      <td> 0.85</td>\n",
        "      <td> 0.99</td>\n",
        "      <td> 0.93</td>\n",
        "      <td>  90</td>\n",
        "    </tr>\n",
        "    <tr>\n",
        "      <th>11</th>\n",
        "      <td> 0.92</td>\n",
        "      <td> 1.00</td>\n",
        "      <td> 0.97</td>\n",
        "      <td> 100</td>\n",
        "    </tr>\n",
        "  </tbody>\n",
        "</table>\n",
        "</div>"
       ],
       "metadata": {},
       "output_type": "pyout",
       "prompt_number": 20,
       "text": [
        "    ci_0025_correct  ci_0975_correct  correctness  n_samples\n",
        "0              0.24             0.49         0.36          3\n",
        "1              0.50             0.75         0.63          5\n",
        "2              0.80             0.96         0.89         10\n",
        "3              0.82             0.97         0.90         20\n",
        "4              0.84             0.98         0.92         30\n",
        "5              0.87             0.99         0.94         40\n",
        "6              0.87             0.99         0.94         50\n",
        "7              0.83             0.97         0.91         60\n",
        "8              0.89             1.00         0.95         70\n",
        "9              0.92             1.00         0.97         80\n",
        "10             0.85             0.99         0.93         90\n",
        "11             0.92             1.00         0.97        100"
       ]
      },
      {
       "metadata": {},
       "output_type": "display_data",
       "png": "[encoded data removed]",
       "text": [
        "<matplotlib.figure.Figure at 0x3791990>"
       ]
      }
     ],
     "prompt_number": 20
    }
   ],
   "metadata": {}
  }
 ]
}