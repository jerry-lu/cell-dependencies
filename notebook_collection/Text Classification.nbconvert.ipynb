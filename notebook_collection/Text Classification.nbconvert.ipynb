{
 "cells": [
  {
   "cell_type": "code",
   "execution_count": 2,
   "metadata": {
    "collapsed": false
   },
   "outputs": [
    {
     "name": "stdout",
     "output_type": "stream",
     "text": [
      "\n",
      "Welcome to pylab, a matplotlib-based Python environment [backend: module://IPython.kernel.zmq.pylab.backend_inline].\n",
      "For more information, type 'help(pylab)'.\n"
     ]
    }
   ],
   "source": [
    "%pylab inline\n",
    "import numpy as np\n",
    "import pylab as pl"
   ]
  },
  {
   "cell_type": "code",
   "execution_count": 3,
   "metadata": {
    "collapsed": false
   },
   "outputs": [],
   "source": [
    "from sklearn.datasets import fetch_20newsgroups\n",
    "from sklearn.feature_extraction.text import TfidfVectorizer\n",
    "from sklearn.cluster import MiniBatchKMeans"
   ]
  },
  {
   "cell_type": "code",
   "execution_count": 5,
   "metadata": {
    "collapsed": false
   },
   "outputs": [],
   "source": [
    "twenty_train = fetch_20newsgroups(subset='train')\n",
    "vec = TfidfVectorizer(max_df=0.5)\n",
    "X_train = vec.fit_transform(twenty_train.data)\n",
    "y_train = twenty_train.target"
   ]
  },
  {
   "cell_type": "code",
   "execution_count": 12,
   "metadata": {
    "collapsed": false
   },
   "outputs": [
    {
     "name": "stdout",
     "output_type": "stream",
     "text": [
      "Init 1/1 with method: k-means++\n",
      "Inertia for init 1/1: 1692.760402\n",
      "Minibatch iteration 1/120:mean batch inertia: 0.860088, ewa inertia: 0.860088 \n",
      "Minibatch iteration 2/120:mean batch inertia: 0.814616, ewa inertia: 0.852051 \n",
      "Minibatch iteration 3/120:mean batch inertia: 0.818794, ewa inertia: 0.846173 \n",
      "Minibatch iteration 4/120:mean batch inertia: 0.802534, ewa inertia: 0.838459 \n",
      "Minibatch iteration 5/120:mean batch inertia: 0.791585, ewa inertia: 0.830174 \n",
      "Minibatch iteration 6/120:mean batch inertia: 0.805043, ewa inertia: 0.825732 \n",
      "Minibatch iteration 7/120:mean batch inertia: 0.806815, ewa inertia: 0.822388 \n",
      "Minibatch iteration 8/120:mean batch inertia: 0.778904, ewa inertia: 0.814702 \n",
      "Minibatch iteration 9/120:mean batch inertia: 0.794126, ewa inertia: 0.811065 \n",
      "Minibatch iteration 10/120:mean batch inertia: 0.796617, ewa inertia: 0.808511 \n",
      "Minibatch iteration 11/120:mean batch inertia: 0.796310, ewa inertia: 0.806355 \n",
      "Minibatch iteration 12/120:mean batch inertia: 0.786515, ewa inertia: 0.802848 \n",
      "Minibatch iteration 13/120:mean batch inertia: 0.798948, ewa inertia: 0.802159 \n",
      "Minibatch iteration 14/120:mean batch inertia: 0.788051, ewa inertia: 0.799665 \n",
      "Minibatch iteration 15/120:mean batch inertia: 0.799689, ewa inertia: 0.799669 \n",
      "Minibatch iteration 16/120:mean batch inertia: 0.795038, ewa inertia: 0.798851 \n",
      "Minibatch iteration 17/120:mean batch inertia: 0.791957, ewa inertia: 0.797632 \n",
      "Minibatch iteration 18/120:mean batch inertia: 0.780278, ewa inertia: 0.794565 \n",
      "Minibatch iteration 19/120:mean batch inertia: 0.776511, ewa inertia: 0.791374 \n",
      "Minibatch iteration 20/120:mean batch inertia: 0.783024, ewa inertia: 0.789898 \n",
      "Minibatch iteration 21/120:mean batch inertia: 0.791340, ewa inertia: 0.790153 \n",
      "Minibatch iteration 22/120:mean batch inertia: 0.775762, ewa inertia: 0.787609 \n",
      "Minibatch iteration 23/120:mean batch inertia: 0.784420, ewa inertia: 0.787046 \n",
      "Minibatch iteration 24/120:mean batch inertia: 0.782805, ewa inertia: 0.786296 \n",
      "Minibatch iteration 25/120:mean batch inertia: 0.794891, ewa inertia: 0.787815 \n",
      "Minibatch iteration 26/120:mean batch inertia: 0.786445, ewa inertia: 0.787573 \n",
      "Minibatch iteration 27/120:mean batch inertia: 0.786700, ewa inertia: 0.787419 \n",
      "Minibatch iteration 28/120:mean batch inertia: 0.768948, ewa inertia: 0.784154 \n",
      "Minibatch iteration 29/120:mean batch inertia: 0.782136, ewa inertia: 0.783797 \n",
      "Minibatch iteration 30/120:mean batch inertia: 0.783097, ewa inertia: 0.783673 \n",
      "Minibatch iteration 31/120:mean batch inertia: 0.766241, ewa inertia: 0.780592 \n",
      "Minibatch iteration 32/120:mean batch inertia: 0.786856, ewa inertia: 0.781699 \n",
      "Minibatch iteration 33/120:mean batch inertia: 0.779011, ewa inertia: 0.781224 \n",
      "Minibatch iteration 34/120:mean batch inertia: 0.766678, ewa inertia: 0.778653 \n",
      "Minibatch iteration 35/120:mean batch inertia: 0.766586, ewa inertia: 0.776520 \n",
      "Minibatch iteration 36/120:mean batch inertia: 0.774855, ewa inertia: 0.776226 \n",
      "Minibatch iteration 37/120:mean batch inertia: 0.777257, ewa inertia: 0.776408 \n",
      "Minibatch iteration 38/120:mean batch inertia: 0.778189, ewa inertia: 0.776723 \n",
      "Minibatch iteration 39/120:mean batch inertia: 0.775110, ewa inertia: 0.776438 \n",
      "Minibatch iteration 40/120:mean batch inertia: 0.769045, ewa inertia: 0.775131 \n",
      "Minibatch iteration 41/120:mean batch inertia: 0.781836, ewa inertia: 0.776316 \n",
      "Minibatch iteration 42/120:mean batch inertia: 0.781991, ewa inertia: 0.777319 \n",
      "Minibatch iteration 43/120:mean batch inertia: 0.766242, ewa inertia: 0.775361 \n",
      "Minibatch iteration 44/120:mean batch inertia: 0.782652, ewa inertia: 0.776650 \n",
      "Minibatch iteration 45/120:mean batch inertia: 0.769341, ewa inertia: 0.775358 \n",
      "Minibatch iteration 46/120:mean batch inertia: 0.769314, ewa inertia: 0.774290 \n",
      "Minibatch iteration 47/120:mean batch inertia: 0.783279, ewa inertia: 0.775879 \n",
      "Minibatch iteration 48/120:mean batch inertia: 0.765790, ewa inertia: 0.774095 \n",
      "Minibatch iteration 49/120:mean batch inertia: 0.772857, ewa inertia: 0.773877 \n",
      "Minibatch iteration 50/120:mean batch inertia: 0.766756, ewa inertia: 0.772618 \n",
      "Minibatch iteration 51/120:mean batch inertia: 0.781116, ewa inertia: 0.774120 \n",
      "Minibatch iteration 52/120:mean batch inertia: 0.781916, ewa inertia: 0.775498 \n",
      "Minibatch iteration 53/120:mean batch inertia: 0.778335, ewa inertia: 0.775999 \n",
      "Minibatch iteration 54/120:mean batch inertia: 0.786696, ewa inertia: 0.777890 \n",
      "Minibatch iteration 55/120:mean batch inertia: 0.780289, ewa inertia: 0.778314 \n",
      "Minibatch iteration 56/120:mean batch inertia: 0.753558, ewa inertia: 0.773938 \n",
      "Minibatch iteration 57/120:mean batch inertia: 0.772628, ewa inertia: 0.773707 \n",
      "Minibatch iteration 58/120:mean batch inertia: 0.761110, ewa inertia: 0.771480 \n",
      "Minibatch iteration 59/120:mean batch inertia: 0.757480, ewa inertia: 0.769006 \n",
      "Minibatch iteration 60/120:mean batch inertia: 0.757817, ewa inertia: 0.767028 \n",
      "Minibatch iteration 61/120:mean batch inertia: 0.760001, ewa inertia: 0.765786 \n",
      "Minibatch iteration 62/120:mean batch inertia: 0.764606, ewa inertia: 0.765577 \n",
      "Minibatch iteration 63/120:mean batch inertia: 0.769783, ewa inertia: 0.766321 \n",
      "Minibatch iteration 64/120:mean batch inertia: 0.781178, ewa inertia: 0.768947 \n",
      "Minibatch iteration 65/120:mean batch inertia: 0.766600, ewa inertia: 0.768532 \n",
      "Minibatch iteration 66/120:mean batch inertia: 0.775439, ewa inertia: 0.769753 \n",
      "Minibatch iteration 67/120:mean batch inertia: 0.770475, ewa inertia: 0.769880 \n",
      "Minibatch iteration 68/120:mean batch inertia: 0.762985, ewa inertia: 0.768662 \n",
      "Minibatch iteration 69/120:mean batch inertia: 0.780256, ewa inertia: 0.770711 \n",
      "Minibatch iteration 70/120:mean batch inertia: 0.764802, ewa inertia: 0.769667 \n",
      "Minibatch iteration 71/120:mean batch inertia: 0.767075, ewa inertia: 0.769208 \n",
      "Minibatch iteration 72/120:mean batch inertia: 0.778244, ewa inertia: 0.770806 \n",
      "Converged (lack of improvement in inertia) at iteration 72/120\n",
      "CPU times: user 2min 39s, sys: 4.9 s, total: 2min 44s\n",
      "Wall time: 2min 44s\n"
     ]
    },
    {
     "data": {
      "text/plain": [
       "MiniBatchKMeans(batch_size=1000, compute_labels=False, init='k-means++',\n",
       "        init_size=None, max_iter=10, max_no_improvement=10,\n",
       "        n_clusters=1000, n_init=1, random_state=None, reassignment_ratio=0,\n",
       "        tol=0.0, verbose=10)"
      ]
     },
     "execution_count": 12,
     "metadata": {},
     "output_type": "execute_result"
    }
   ],
   "source": [
    "kmeans = MiniBatchKMeans(n_clusters=1000, batch_size=1000, reassignment_ratio=0,\n",
    "                         n_init=1, max_iter=10, compute_labels=False, verbose=10)\n",
    "%time kmeans.fit(X_train)"
   ]
  },
  {
   "cell_type": "code",
   "execution_count": 13,
   "metadata": {
    "collapsed": false
   },
   "outputs": [
    {
     "ename": "ValueError",
     "evalue": "setting an array element with a sequence.",
     "output_type": "error",
     "traceback": [
      "\u001b[0;31m---------------------------------------------------------------------------\u001b[0m\n\u001b[0;31mValueError\u001b[0m                                Traceback (most recent call last)",
      "\u001b[0;32m<ipython-input-13-0236883009a3>\u001b[0m in \u001b[0;36m<module>\u001b[0;34m()\u001b[0m\n\u001b[0;32m----> 1\u001b[0;31m \u001b[0mX_proj_train\u001b[0m \u001b[0;34m=\u001b[0m \u001b[0mnp\u001b[0m\u001b[0;34m.\u001b[0m\u001b[0mdot\u001b[0m\u001b[0;34m(\u001b[0m\u001b[0mX_train\u001b[0m\u001b[0;34m,\u001b[0m \u001b[0mkmeans\u001b[0m\u001b[0;34m.\u001b[0m\u001b[0mcluster_centers_\u001b[0m\u001b[0;34m.\u001b[0m\u001b[0mT\u001b[0m\u001b[0;34m)\u001b[0m\u001b[0;34m\u001b[0m\u001b[0m\n\u001b[0m",
      "\u001b[0;31mValueError\u001b[0m: setting an array element with a sequence."
     ]
    }
   ],
   "source": [
    "X_proj_train = np.dot(X_train, kmeans.cluster_centers_.T)"
   ]
  },
  {
   "cell_type": "code",
   "execution_count": 14,
   "metadata": {
    "collapsed": false
   },
   "outputs": [],
   "source": [
    "from sklearn.metrics.pairwise import safe_sparse_dot"
   ]
  },
  {
   "cell_type": "code",
   "execution_count": 16,
   "metadata": {
    "collapsed": false
   },
   "outputs": [],
   "source": [
    "X_train_proj = safe_sparse_dot(X_train, kmeans.cluster_centers_.T)"
   ]
  },
  {
   "cell_type": "code",
   "execution_count": 21,
   "metadata": {
    "collapsed": false
   },
   "outputs": [
    {
     "data": {
      "text/plain": [
       "(11314, 1000)"
      ]
     },
     "execution_count": 21,
     "metadata": {},
     "output_type": "execute_result"
    }
   ],
   "source": [
    "X_train_proj.shape"
   ]
  },
  {
   "cell_type": "code",
   "execution_count": 18,
   "metadata": {
    "collapsed": false
   },
   "outputs": [],
   "source": [
    "from sklearn.ensemble import ExtraTreesClassifier"
   ]
  },
  {
   "cell_type": "code",
   "execution_count": 32,
   "metadata": {
    "collapsed": false
   },
   "outputs": [
    {
     "name": "stdout",
     "output_type": "stream",
     "text": [
      "CPU times: user 13.3 s, sys: 2.13 s, total: 15.5 s\n",
      "Wall time: 2min 5s\n"
     ]
    }
   ],
   "source": [
    "%time clf = ExtraTreesClassifier(n_estimators=100, max_depth=100, n_jobs=-1, oob_score=True, bootstrap=True).fit(X_train_proj, y_train)"
   ]
  },
  {
   "cell_type": "code",
   "execution_count": 33,
   "metadata": {
    "collapsed": false
   },
   "outputs": [
    {
     "data": {
      "text/plain": [
       "0.67668375464026864"
      ]
     },
     "execution_count": 33,
     "metadata": {},
     "output_type": "execute_result"
    }
   ],
   "source": [
    "clf.oob_score_"
   ]
  },
  {
   "cell_type": "code",
   "execution_count": 28,
   "metadata": {
    "collapsed": false
   },
   "outputs": [],
   "source": [
    "from sklearn.linear_model import PassiveAggressiveClassifier\n",
    "from sklearn.grid_search import GridSearchCV"
   ]
  },
  {
   "cell_type": "code",
   "execution_count": 29,
   "metadata": {
    "collapsed": false
   },
   "outputs": [
    {
     "name": "stdout",
     "output_type": "stream",
     "text": [
      "CPU times: user 4.03 s, sys: 2.87 s, total: 6.9 s\n",
      "Wall time: 17.7 s\n"
     ]
    },
    {
     "data": {
      "text/plain": [
       "GridSearchCV(cv=3,\n",
       "       estimator=PassiveAggressiveClassifier(C=1.0, fit_intercept=True, loss='hinge', n_iter=5,\n",
       "              n_jobs=1, random_state=None, shuffle=False, verbose=0,\n",
       "              warm_start=False),\n",
       "       fit_params={}, iid=True, loss_func=None, n_jobs=-1,\n",
       "       param_grid={'C': [0.01, 0.1, 1, 10, 100]}, pre_dispatch='2*n_jobs',\n",
       "       refit=True, score_func=None, scoring=None, verbose=0)"
      ]
     },
     "execution_count": 29,
     "metadata": {},
     "output_type": "execute_result"
    }
   ],
   "source": [
    "param_grid = {'C': [0.01, 0.1, 1, 10, 100]}\n",
    "gs = GridSearchCV(PassiveAggressiveClassifier(), param_grid, cv=3, n_jobs=-1)\n",
    "%time gs.fit(X_train_proj, y_train)"
   ]
  },
  {
   "cell_type": "code",
   "execution_count": 30,
   "metadata": {
    "collapsed": false
   },
   "outputs": [
    {
     "data": {
      "text/plain": [
       "{'C': 1}"
      ]
     },
     "execution_count": 30,
     "metadata": {},
     "output_type": "execute_result"
    }
   ],
   "source": [
    "gs.best_params_"
   ]
  },
  {
   "cell_type": "code",
   "execution_count": 31,
   "metadata": {
    "collapsed": false
   },
   "outputs": [
    {
     "data": {
      "text/plain": [
       "0.83206646632490722"
      ]
     },
     "execution_count": 31,
     "metadata": {},
     "output_type": "execute_result"
    }
   ],
   "source": [
    "gs.best_score_"
   ]
  }
 ],
 "metadata": {},
 "nbformat": 4,
 "nbformat_minor": 4
}
