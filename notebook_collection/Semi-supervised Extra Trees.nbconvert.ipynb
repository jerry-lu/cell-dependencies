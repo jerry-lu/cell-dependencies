{
 "cells": [
  {
   "cell_type": "code",
   "execution_count": 99,
   "metadata": {
    "collapsed": false
   },
   "outputs": [],
   "source": [
    "%matplotlib inline\n",
    "import numpy as np\n",
    "import matplotlib.pyplot as plt\n",
    "\n",
    "from sklearn.ensemble import ExtraTreesClassifier\n",
    "from sklearn.datasets import fetch_covtype\n",
    "from sklearn.cross_validation import train_test_split\n",
    "from sklearn.cross_validation import cross_val_score\n",
    "from sklearn.utils import shuffle\n",
    "from sklearn.base import BaseEstimator\n",
    "from sklearn.base import clone"
   ]
  },
  {
   "cell_type": "code",
   "execution_count": 37,
   "metadata": {
    "collapsed": false
   },
   "outputs": [
    {
     "name": "stdout",
     "output_type": "stream",
     "text": [
      "(581012, 54)\n",
      "[1 2 3 4 5 6 7]\n"
     ]
    }
   ],
   "source": [
    "covtype = fetch_covtype()\n",
    "X, y = covtype.data, covtype.target\n",
    "\n",
    "print(X.shape)\n",
    "print(np.unique(y))"
   ]
  },
  {
   "cell_type": "code",
   "execution_count": 13,
   "metadata": {
    "collapsed": false
   },
   "outputs": [],
   "source": [
    "X_dev, X_test, y_dev, y_test = train_test_split(X, y, test_size=0.1)"
   ]
  },
  {
   "cell_type": "code",
   "execution_count": 30,
   "metadata": {
    "collapsed": false
   },
   "outputs": [],
   "source": [
    "X_small, X_unlabeled, y_small, _ = train_test_split(X_dev, y_dev, train_size=10000)"
   ]
  },
  {
   "cell_type": "code",
   "execution_count": 36,
   "metadata": {
    "collapsed": false
   },
   "outputs": [
    {
     "name": "stdout",
     "output_type": "stream",
     "text": [
      "5-folds cv score: 0.836+/-0.005\n",
      "CPU times: user 14.5 s, sys: 1.99 s, total: 16.5 s\n",
      "Wall time: 6.12 s\n"
     ]
    }
   ],
   "source": [
    "%%time\n",
    "\n",
    "etrees = ExtraTreesClassifier(n_estimators=80, n_jobs=4)\n",
    "scores = cross_val_score(etrees, X_small, y_small, cv=5)\n",
    "\n",
    "print(\"5-folds cv score: %0.3f+/-%0.3f\" % (np.mean(scores), np.std(scores)))"
   ]
  },
  {
   "cell_type": "code",
   "execution_count": 68,
   "metadata": {
    "collapsed": false
   },
   "outputs": [
    {
     "data": {
      "text/plain": [
       "array([[ 0.29906499,  0.61963946,  0.07382687,  0.51198165],\n",
       "       [ 0.75008411,  0.32665691,  0.38846908,  0.26959562],\n",
       "       [ 0.56896242,  0.1422773 ,  0.06123208,  0.77610519]])"
      ]
     },
     "execution_count": 68,
     "metadata": {},
     "output_type": "execute_result"
    }
   ],
   "source": [
    "np.random.uniform(size=(3, 4))"
   ]
  },
  {
   "cell_type": "code",
   "execution_count": 74,
   "metadata": {
    "collapsed": false
   },
   "outputs": [],
   "source": [
    "def shuffle_columns(X, copy=True, seed=0):\n",
    "    rng = np.random.RandomState(seed)\n",
    "    if copy:\n",
    "        X = X.copy()\n",
    "    for i in range(X.shape[1]):\n",
    "        rng.shuffle(X[:, i])\n",
    "    return X\n",
    "\n",
    "\n",
    "def corrupt(X, copy=True, rate=0.1, seed=0):\n",
    "    rng = np.random.RandomState(seed)\n",
    "    if copy:\n",
    "        X = X.copy()\n",
    "    X_shuffled = shuffle_columns(X, seed=0)\n",
    "    mask = rng.uniform(size=X.shape) < rate\n",
    "    X[mask] = X_shuffled[mask]\n",
    "    return X\n",
    "\n",
    "\n",
    "def make_normality_problem(X, seed=0):\n",
    "    data = np.vstack([X, shuffle_columns(X, seed=seed)])\n",
    "    target = np.zeros(X.shape[0] * 2, dtype=np.int)\n",
    "    target[:X.shape[0]] = 1\n",
    "    return shuffle(data, target, random_state=seed)\n",
    "\n",
    "\n",
    "X_normal, y_normal = make_normality_problem(X_small)"
   ]
  },
  {
   "cell_type": "code",
   "execution_count": 75,
   "metadata": {
    "collapsed": false
   },
   "outputs": [
    {
     "name": "stdout",
     "output_type": "stream",
     "text": [
      "5-folds cv score: 0.978+/-0.001\n",
      "CPU times: user 32 s, sys: 464 ms, total: 32.5 s\n",
      "Wall time: 10 s\n"
     ]
    }
   ],
   "source": [
    "%%time\n",
    "\n",
    "etrees_normality = ExtraTreesClassifier(n_estimators=80, n_jobs=4)\n",
    "scores = cross_val_score(etrees_normality, X_normal, y_normal, cv=5)\n",
    "\n",
    "print(\"5-folds cv score: %0.3f+/-%0.3f\" % (np.mean(scores), np.std(scores)))"
   ]
  },
  {
   "cell_type": "code",
   "execution_count": 76,
   "metadata": {
    "collapsed": false
   },
   "outputs": [
    {
     "name": "stdout",
     "output_type": "stream",
     "text": [
      "CPU times: user 8.47 s, sys: 55.8 ms, total: 8.53 s\n",
      "Wall time: 2.38 s\n"
     ]
    }
   ],
   "source": [
    "%%time\n",
    "\n",
    "_ = etrees_normality.fit(X_normal, y_normal)"
   ]
  },
  {
   "cell_type": "code",
   "execution_count": 90,
   "metadata": {
    "collapsed": false
   },
   "outputs": [
    {
     "data": {
      "image/png": "[encoded data removed]",
      "text/plain": [
       "<matplotlib.figure.Figure at 0x10f7a2310>"
      ]
     },
     "metadata": {},
     "output_type": "display_data"
    }
   ],
   "source": [
    "X_corrupted = corrupt(X_small, rate=0.2)\n",
    "\n",
    "predicted_normality = etrees_normality.predict_proba(X_corrupted)[:, 1]\n",
    "_ = plt.hist(predicted_normality, bins=30)\n",
    "\n",
    "X_new_unlabeled = X_corrupted[predicted_normality > 0.5]\n",
    "print(X_new_unlabeled.shape)"
   ]
  },
  {
   "cell_type": "code",
   "execution_count": 138,
   "metadata": {
    "collapsed": false
   },
   "outputs": [
    {
     "data": {
      "image/png": "[encoded data removed]",
      "text/plain": [
       "<matplotlib.figure.Figure at 0x10f1954d0>"
      ]
     },
     "metadata": {},
     "output_type": "display_data"
    }
   ],
   "source": [
    "predicted_normality = etrees_normality.predict_proba(X_unlabeled)[:, 1]\n",
    "_ = plt.hist(predicted_normality, bins=30)"
   ]
  },
  {
   "cell_type": "code",
   "execution_count": 133,
   "metadata": {
    "collapsed": false
   },
   "outputs": [],
   "source": [
    "class SelfTrainingClassifier(BaseEstimator):\n",
    "    \n",
    "    def __init__(self, base_estimator=None, n_iter=10, clamp_true_target=False):\n",
    "        self.base_estimator = base_estimator\n",
    "        self.n_iter = n_iter\n",
    "        self.clamp_true_target = clamp_true_target\n",
    "        \n",
    "    def fit(self, X, y, X_unlabeled=None, X_val=None, y_val=None):\n",
    "        if self.base_estimator is None:\n",
    "            model = ExtraTreesClassifier(n_estimators=100)\n",
    "        else:\n",
    "            model = clone(self.base_estimator)\n",
    "        \n",
    "        X_train, y_train = X, y\n",
    "               \n",
    "        for i in range(self.n_iter):\n",
    "            model.fit(X_train, y_train)\n",
    "            \n",
    "            if X_val is not None and y_val is not None:\n",
    "                print(model.score(X_val, y_val))\n",
    "\n",
    "            if self.clamp_true_target:\n",
    "                y_predicted = y\n",
    "            else:\n",
    "                y_predicted = model.predict(X)\n",
    "            \n",
    "            X_train = np.vstack([X, X_unlabeled])\n",
    "            y_train = np.concatenate([y, model.predict(X_unlabeled)])\n",
    "\n",
    "        self.estimator_ = model\n",
    "        \n",
    "    def predict(self, X):\n",
    "        return self.estimator_.predict(X)\n",
    "    \n",
    "    def score(self, X, y):\n",
    "        return self.estimator_.score(X, y)\n",
    "    "
   ]
  },
  {
   "cell_type": "code",
   "execution_count": 137,
   "metadata": {
    "collapsed": false
   },
   "outputs": [
    {
     "name": "stdout",
     "output_type": "stream",
     "text": [
      "0.840573474235\n",
      "0.834170940759\n",
      "0.835203607449\n",
      "0.83325875185\n",
      "0.832897318509\n",
      "0.835117551892\n",
      "0.833620185192\n",
      "0.833275962962\n",
      "0.833585762969\n",
      "0.833293174073\n"
     ]
    }
   ],
   "source": [
    "ssc = SelfTrainingClassifier(etrees).fit(X_small, y_small, X_new_unlabeled, X_val=X_test, y_val=y_test)"
   ]
  },
  {
   "cell_type": "code",
   "execution_count": null,
   "metadata": {
    "collapsed": false
   },
   "outputs": [],
   "source": []
  }
 ],
 "metadata": {},
 "nbformat": 4,
 "nbformat_minor": 4
}
